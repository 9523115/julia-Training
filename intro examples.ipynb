{
 "cells": [
  {
   "cell_type": "code",
   "execution_count": 36,
   "metadata": {},
   "outputs": [
    {
     "name": "stderr",
     "output_type": "stream",
     "text": [
      "\u001b[32m\u001b[1m  Resolving\u001b[22m\u001b[39m package versions...\n"
     ]
    },
    {
     "ename": "LoadError",
     "evalue": "Unsatisfiable requirements detected for package BandedMatrices [aae01518]:\n BandedMatrices [aae01518] log:\n ├─BandedMatrices [aae01518] has no known versions!\n └─restricted to versions * by an explicit requirement — no versions left",
     "output_type": "error",
     "traceback": [
      "Unsatisfiable requirements detected for package BandedMatrices [aae01518]:\n BandedMatrices [aae01518] log:\n ├─BandedMatrices [aae01518] has no known versions!\n └─restricted to versions * by an explicit requirement — no versions left",
      "",
      "Stacktrace:",
      " [1] check_constraints(::Pkg.Resolve.Graph) at D:\\buildbot\\worker\\package_win64\\build\\usr\\share\\julia\\stdlib\\v1.5\\Pkg\\src\\Resolve\\graphtype.jl:935",
      " [2] Pkg.Resolve.Graph(::Dict{Base.UUID,Set{VersionNumber}}, ::Dict{Base.UUID,Dict{VersionNumber,Dict{String,Base.UUID}}}, ::Dict{Base.UUID,Dict{VersionNumber,Dict{String,Pkg.Types.VersionSpec}}}, ::Dict{Base.UUID,String}, ::Dict{Base.UUID,Pkg.Types.VersionSpec}, ::Dict{Base.UUID,Pkg.Resolve.Fixed}, ::Bool) at D:\\buildbot\\worker\\package_win64\\build\\usr\\share\\julia\\stdlib\\v1.5\\Pkg\\src\\Resolve\\graphtype.jl:362",
      " [3] deps_graph(::Pkg.Types.Context, ::Dict{Base.UUID,String}, ::Dict{Base.UUID,Pkg.Types.VersionSpec}, ::Dict{Base.UUID,Pkg.Resolve.Fixed}) at D:\\buildbot\\worker\\package_win64\\build\\usr\\share\\julia\\stdlib\\v1.5\\Pkg\\src\\Operations.jl:502",
      " [4] resolve_versions!(::Pkg.Types.Context, ::Array{Pkg.Types.PackageSpec,1}) at D:\\buildbot\\worker\\package_win64\\build\\usr\\share\\julia\\stdlib\\v1.5\\Pkg\\src\\Operations.jl:374",
      " [5] targeted_resolve at D:\\buildbot\\worker\\package_win64\\build\\usr\\share\\julia\\stdlib\\v1.5\\Pkg\\src\\Operations.jl:1114 [inlined]",
      " [6] tiered_resolve(::Pkg.Types.Context, ::Array{Pkg.Types.PackageSpec,1}) at D:\\buildbot\\worker\\package_win64\\build\\usr\\share\\julia\\stdlib\\v1.5\\Pkg\\src\\Operations.jl:1100",
      " [7] _resolve at D:\\buildbot\\worker\\package_win64\\build\\usr\\share\\julia\\stdlib\\v1.5\\Pkg\\src\\Operations.jl:1120 [inlined]",
      " [8] add(::Pkg.Types.Context, ::Array{Pkg.Types.PackageSpec,1}, ::Array{Base.UUID,1}; preserve::Pkg.Types.PreserveLevel, platform::Pkg.BinaryPlatforms.Windows) at D:\\buildbot\\worker\\package_win64\\build\\usr\\share\\julia\\stdlib\\v1.5\\Pkg\\src\\Operations.jl:1135",
      " [9] add(::Pkg.Types.Context, ::Array{Pkg.Types.PackageSpec,1}; preserve::Pkg.Types.PreserveLevel, platform::Pkg.BinaryPlatforms.Windows, kwargs::Base.Iterators.Pairs{Union{},Union{},Tuple{},NamedTuple{(),Tuple{}}}) at D:\\buildbot\\worker\\package_win64\\build\\usr\\share\\julia\\stdlib\\v1.5\\Pkg\\src\\API.jl:189",
      " [10] add(::Pkg.Types.Context, ::Array{Pkg.Types.PackageSpec,1}) at D:\\buildbot\\worker\\package_win64\\build\\usr\\share\\julia\\stdlib\\v1.5\\Pkg\\src\\API.jl:140",
      " [11] #add#21 at D:\\buildbot\\worker\\package_win64\\build\\usr\\share\\julia\\stdlib\\v1.5\\Pkg\\src\\API.jl:67 [inlined]",
      " [12] add(::Array{Pkg.Types.PackageSpec,1}) at D:\\buildbot\\worker\\package_win64\\build\\usr\\share\\julia\\stdlib\\v1.5\\Pkg\\src\\API.jl:67",
      " [13] do_cmd!(::Pkg.REPLMode.Command, ::IJulia.MiniREPL) at D:\\buildbot\\worker\\package_win64\\build\\usr\\share\\julia\\stdlib\\v1.5\\Pkg\\src\\REPLMode\\REPLMode.jl:404",
      " [14] do_cmd(::IJulia.MiniREPL, ::String; do_rethrow::Bool) at D:\\buildbot\\worker\\package_win64\\build\\usr\\share\\julia\\stdlib\\v1.5\\Pkg\\src\\REPLMode\\REPLMode.jl:382",
      " [15] top-level scope at In[36]:1",
      " [16] include_string(::Function, ::Module, ::String, ::String) at .\\loading.jl:1091"
     ]
    }
   ],
   "source": [
    "] add InstantiateFromURL"
   ]
  },
  {
   "cell_type": "code",
   "execution_count": 22,
   "metadata": {},
   "outputs": [
    {
     "name": "stderr",
     "output_type": "stream",
     "text": [
      "\u001b[32m\u001b[1mUpdating\u001b[22m\u001b[39m `D:\\Users\\Mori\\julia Training\\Project.toml`\n",
      " \u001b[90m [587475ba] \u001b[39m\u001b[91m- Flux v0.10.4\u001b[39m\n",
      "\u001b[32m\u001b[1mUpdating\u001b[22m\u001b[39m `D:\\Users\\Mori\\julia Training\\Manifest.toml`\n",
      " \u001b[90m [587475ba] \u001b[39m\u001b[91m- Flux v0.10.4\u001b[39m\n",
      " \u001b[90m [e5e0dc1b] \u001b[39m\u001b[91m- Juno v0.8.2\u001b[39m\n",
      " \u001b[90m [e89f7d12] \u001b[39m\u001b[91m- Media v0.5.0\u001b[39m\n",
      " \u001b[90m [a5390f91] \u001b[39m\u001b[91m- ZipFile v0.9.2\u001b[39m\n"
     ]
    }
   ],
   "source": [
    "import Pkg;\n",
    "Pkg.rm(\"Flux\")"
   ]
  },
  {
   "cell_type": "code",
   "execution_count": 37,
   "metadata": {},
   "outputs": [
    {
     "name": "stdout",
     "output_type": "stream",
     "text": [
      "\u001b[32m\u001b[1mActivated\u001b[0m D:\\Users\\Mori\\julia Training\\Project.toml\u001b[39m\n",
      "\u001b[36m\u001b[1mInfo\u001b[0m Project name is quantecon-notebooks-julia, version is 0.8.0\u001b[39m\n"
     ]
    },
    {
     "name": "stderr",
     "output_type": "stream",
     "text": [
      "\u001b[32m\u001b[1mPrecompiling\u001b[22m\u001b[39m project...\n"
     ]
    }
   ],
   "source": [
    "using InstantiateFromURL\n",
    "github_project(\"QuantEcon/quantecon-notebooks-julia\", version = \"0.8.0\", instantiate = true, precompile = true)"
   ]
  },
  {
   "cell_type": "code",
   "execution_count": 35,
   "metadata": {},
   "outputs": [
    {
     "ename": "LoadError",
     "evalue": "UndefVarError: gr not defined",
     "output_type": "error",
     "traceback": [
      "UndefVarError: gr not defined",
      "",
      "Stacktrace:",
      " [1] top-level scope at In[35]:1",
      " [2] include_string(::Function, ::Module, ::String, ::String) at .\\loading.jl:1091"
     ]
    }
   ],
   "source": [
    "gr(fmt=:png)\n",
    "plot(sin,-2pi, 2pi, label=\"sin(x)\")\n"
   ]
  },
  {
   "cell_type": "code",
   "execution_count": 27,
   "metadata": {},
   "outputs": [
    {
     "ename": "LoadError",
     "evalue": "ArgumentError: Package statistics not found in current path:\n- Run `import Pkg; Pkg.add(\"statistics\")` to install the statistics package.\n",
     "output_type": "error",
     "traceback": [
      "ArgumentError: Package statistics not found in current path:\n- Run `import Pkg; Pkg.add(\"statistics\")` to install the statistics package.\n",
      "",
      "Stacktrace:",
      " [1] require(::Module, ::Symbol) at .\\loading.jl:893",
      " [2] include_string(::Function, ::Module, ::String, ::String) at .\\loading.jl:1091"
     ]
    }
   ],
   "source": [
    "using statistics, LinearAlgebra\n"
   ]
  },
  {
   "cell_type": "code",
   "execution_count": 4,
   "metadata": {},
   "outputs": [
    {
     "data": {
      "text/plain": [
       "factorial2 (generic function with 1 method)"
      ]
     },
     "execution_count": 4,
     "metadata": {},
     "output_type": "execute_result"
    }
   ],
   "source": [
    "# EX 1\n",
    "\n",
    "function factorial2(n)\n",
    "    fact = 1;\n",
    "    for i in 1:n\n",
    "        fact *= i;\n",
    "    return fact \n",
    "        end\n",
    "end"
   ]
  },
  {
   "cell_type": "code",
   "execution_count": 163,
   "metadata": {},
   "outputs": [
    {
     "name": "stdout",
     "output_type": "stream",
     "text": [
      "Bool[1, 1, 0, 0, 1, 0, 0, 1, 1, 1]\n"
     ]
    },
    {
     "data": {
      "text/plain": [
       "\"pay 1\\$\""
      ]
     },
     "execution_count": 163,
     "metadata": {},
     "output_type": "execute_result"
    }
   ],
   "source": [
    "# EX 4\n",
    "function head(x,p);\n",
    "    return x<p;\n",
    "end\n",
    "\n",
    "function flip(n,p);\n",
    "    heads = head.(rand(n),p)\n",
    "    tails = ones(n) - heads;\n",
    "    #tails = !heads\n",
    "    return heads\n",
    "end\n",
    "H = flip(10,.5)\n",
    "println(H)\n",
    "sum=0;\n",
    "for i in H\n",
    "    sum += i\n",
    "    if sum == 3\n",
    "        return \"pay 1\\$\"\n",
    "    end\n",
    "    if i == 0\n",
    "        sum = 0;\n",
    "    end\n",
    "end\n",
    "    "
   ]
  },
  {
   "cell_type": "code",
   "execution_count": 2,
   "metadata": {},
   "outputs": [
    {
     "data": {
      "text/plain": [
       "(value = 0.999999847386336, normdiff = 7.63068319642457e-8, iter = 38)"
      ]
     },
     "execution_count": 2,
     "metadata": {},
     "output_type": "execute_result"
    }
   ],
   "source": [
    "# EX 8a\n",
    "using LinearAlgebra\n",
    "function fixedpointmap_New(f, f_prime, x_0, tolerance=1.0E-7, maxiter=1000)\n",
    "    x_old = x_0;\n",
    "    normdiff = Inf\n",
    "    iter = 1\n",
    "     while normdiff > tolerance && iter <= maxiter\n",
    "        x_new = x_old - f(x_old)/f_prime(x_old) # use the passed in map\n",
    "        normdiff = norm(x_new - x_old)\n",
    "        x_old = x_new\n",
    "        iter = iter + 1\n",
    "    end\n",
    "    return (value = x_old, normdiff=normdiff, iter=iter) # A named tuple\n",
    "end\n",
    "f(x)= (x-1)^3;\n",
    "f_pr(x) = 3(x-1)^2;\n",
    "fixedpointmap_New(x -> (x-1)^3,x -> 3(x-1)^2,0.5)"
   ]
  }
 ],
 "metadata": {
  "kernelspec": {
   "display_name": "Julia 1.5.1",
   "language": "julia",
   "name": "julia-1.5"
  },
  "language_info": {
   "file_extension": ".jl",
   "mimetype": "application/julia",
   "name": "julia",
   "version": "1.5.1"
  }
 },
 "nbformat": 4,
 "nbformat_minor": 4
}
