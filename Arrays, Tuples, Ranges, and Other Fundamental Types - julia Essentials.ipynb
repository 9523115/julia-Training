{
 "cells": [
  {
   "cell_type": "markdown",
   "metadata": {},
   "source": [
    "## julia Essentials"
   ]
  },
  {
   "cell_type": "code",
   "execution_count": null,
   "metadata": {},
   "outputs": [],
   "source": [
    "#EX1\n",
    "x_vals = [1, 2, 3]\n",
    "y_vals = [1, 1, 1]\n",
    "c=zip(x_vals,y_vals)\n",
    "# first(c)"
   ]
  },
  {
   "cell_type": "code",
   "execution_count": null,
   "metadata": {},
   "outputs": [],
   "source": [
    "#EX2\n",
    "function p(x, coeff)\n",
    "Sum=0\n",
    "    for (i,a) in enumerate(coeff)\n",
    "        Sum += a*x^i;\n",
    "    end\n",
    "    return Sum\n",
    "end\n",
    "println(p(2,[1,2,2]))"
   ]
  },
  {
   "cell_type": "code",
   "execution_count": null,
   "metadata": {},
   "outputs": [],
   "source": [
    "#EX3\n",
    "function CountUpper(s)\n",
    "    U = uppercase(s)\n",
    "    S=sum([(s[i]== U[i]) for i in eachindex(s)])\n",
    "    return S\n",
    "end\n",
    "CountUpper(\"SaLAm\")"
   ]
  },
  {
   "cell_type": "code",
   "execution_count": null,
   "metadata": {},
   "outputs": [],
   "source": [
    "#EX4\n",
    "function IsIn(a,b)\n",
    "   \n",
    "    return sum([isempty(findall( x -> x == A, b))  for A in a])==0\n",
    "end\n",
    "IsIn([1,2,3],[1,1,3,4,5,2])"
   ]
  },
  {
   "cell_type": "markdown",
   "metadata": {},
   "source": [
    "## Arrays, Tuples, Ranges, and Other Fundamental Types "
   ]
  },
  {
   "cell_type": "code",
   "execution_count": null,
   "metadata": {},
   "outputs": [],
   "source": [
    "#EX3\n",
    "using Polynomials\n",
    "using Plots\n",
    "p = Polynomial([2, -5, 2], :x) # :x just gives a symbol for display\n",
    "@show p\n",
    "p′ = derivative(p) # gives the derivative of p, another polynomial\n",
    "@show p(0.1), p′(0.1) # call like a function\n",
    "@show roots(p); # find roots such that p(x) = 0\n",
    "plot(p)\n",
    "plot(p′)"
   ]
  },
  {
   "cell_type": "code",
   "execution_count": null,
   "metadata": {},
   "outputs": [],
   "source": [
    "#ex 4\n",
    "function newtonsmethod(p::Polynomial, x_0; tolerance = 1E-7, maxiter = 100)\n",
    "    x_old = x_0;\n",
    "    normdiff = Inf\n",
    "    iter = 1\n",
    "    f=p\n",
    "    p′=derivative(f)\n",
    "    while normdiff > tolerance && iter <= maxiter\n",
    "        x_new = x_old - f(x_old)/p′(x_old) # use the passed in map\n",
    "        normdiff = norm(x_new - x_old)\n",
    "        x_old = x_new\n",
    "        iter = iter + 1\n",
    "    end\n",
    "    return (value = x_old, normdiff=normdiff, iter=iter) # A named tuple\n",
    "end\n",
    "f(x)= (x-1)^3;\n",
    "f_pr(x) = 3(x-1)^2;\n",
    "p = Polynomial([2, -5, 2], :x)\n",
    "@show roots(p)\n",
    "@show newtonsmethod(p,0.5)"
   ]
  }
 ],
 "metadata": {
  "kernelspec": {
   "display_name": "Julia 1.5.1",
   "language": "julia",
   "name": "julia-1.5"
  },
  "language_info": {
   "file_extension": ".jl",
   "mimetype": "application/julia",
   "name": "julia",
   "version": "1.5.1"
  }
 },
 "nbformat": 4,
 "nbformat_minor": 4
}
