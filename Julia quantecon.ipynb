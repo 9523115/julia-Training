{
 "cells": [
  {
   "cell_type": "code",
   "execution_count": 2,
   "source": [
    "] add InstantiateFromURL"
   ],
   "outputs": [
    {
     "output_type": "stream",
     "name": "stderr",
     "text": [
      "\u001b[32m\u001b[1m  Resolving\u001b[22m\u001b[39m package versions...\n"
     ]
    },
    {
     "output_type": "error",
     "ename": "LoadError",
     "evalue": "Unsatisfiable requirements detected for package AlgebraicMultigrid [2169fc97]:\n AlgebraicMultigrid [2169fc97] log:\n ├─AlgebraicMultigrid [2169fc97] has no known versions!\n └─restricted to versions * by an explicit requirement — no versions left",
     "traceback": [
      "Unsatisfiable requirements detected for package AlgebraicMultigrid [2169fc97]:\n AlgebraicMultigrid [2169fc97] log:\n ├─AlgebraicMultigrid [2169fc97] has no known versions!\n └─restricted to versions * by an explicit requirement — no versions left",
      "",
      "Stacktrace:",
      " [1] check_constraints(::Pkg.Resolve.Graph) at D:\\buildbot\\worker\\package_win64\\build\\usr\\share\\julia\\stdlib\\v1.5\\Pkg\\src\\Resolve\\graphtype.jl:935",
      " [2] Pkg.Resolve.Graph(::Dict{Base.UUID,Set{VersionNumber}}, ::Dict{Base.UUID,Dict{VersionNumber,Dict{String,Base.UUID}}}, ::Dict{Base.UUID,Dict{VersionNumber,Dict{String,Pkg.Types.VersionSpec}}}, ::Dict{Base.UUID,String}, ::Dict{Base.UUID,Pkg.Types.VersionSpec}, ::Dict{Base.UUID,Pkg.Resolve.Fixed}, ::Bool) at D:\\buildbot\\worker\\package_win64\\build\\usr\\share\\julia\\stdlib\\v1.5\\Pkg\\src\\Resolve\\graphtype.jl:362",
      " [3] deps_graph(::Pkg.Types.Context, ::Dict{Base.UUID,String}, ::Dict{Base.UUID,Pkg.Types.VersionSpec}, ::Dict{Base.UUID,Pkg.Resolve.Fixed}) at D:\\buildbot\\worker\\package_win64\\build\\usr\\share\\julia\\stdlib\\v1.5\\Pkg\\src\\Operations.jl:502",
      " [4] resolve_versions!(::Pkg.Types.Context, ::Array{Pkg.Types.PackageSpec,1}) at D:\\buildbot\\worker\\package_win64\\build\\usr\\share\\julia\\stdlib\\v1.5\\Pkg\\src\\Operations.jl:374",
      " [5] targeted_resolve at D:\\buildbot\\worker\\package_win64\\build\\usr\\share\\julia\\stdlib\\v1.5\\Pkg\\src\\Operations.jl:1114 [inlined]",
      " [6] tiered_resolve(::Pkg.Types.Context, ::Array{Pkg.Types.PackageSpec,1}) at D:\\buildbot\\worker\\package_win64\\build\\usr\\share\\julia\\stdlib\\v1.5\\Pkg\\src\\Operations.jl:1100",
      " [7] _resolve at D:\\buildbot\\worker\\package_win64\\build\\usr\\share\\julia\\stdlib\\v1.5\\Pkg\\src\\Operations.jl:1120 [inlined]",
      " [8] add(::Pkg.Types.Context, ::Array{Pkg.Types.PackageSpec,1}, ::Array{Base.UUID,1}; preserve::Pkg.Types.PreserveLevel, platform::Pkg.BinaryPlatforms.Windows) at D:\\buildbot\\worker\\package_win64\\build\\usr\\share\\julia\\stdlib\\v1.5\\Pkg\\src\\Operations.jl:1135",
      " [9] add(::Pkg.Types.Context, ::Array{Pkg.Types.PackageSpec,1}; preserve::Pkg.Types.PreserveLevel, platform::Pkg.BinaryPlatforms.Windows, kwargs::Base.Iterators.Pairs{Union{},Union{},Tuple{},NamedTuple{(),Tuple{}}}) at D:\\buildbot\\worker\\package_win64\\build\\usr\\share\\julia\\stdlib\\v1.5\\Pkg\\src\\API.jl:189",
      " [10] add(::Pkg.Types.Context, ::Array{Pkg.Types.PackageSpec,1}) at D:\\buildbot\\worker\\package_win64\\build\\usr\\share\\julia\\stdlib\\v1.5\\Pkg\\src\\API.jl:140",
      " [11] #add#21 at D:\\buildbot\\worker\\package_win64\\build\\usr\\share\\julia\\stdlib\\v1.5\\Pkg\\src\\API.jl:67 [inlined]",
      " [12] add(::Array{Pkg.Types.PackageSpec,1}) at D:\\buildbot\\worker\\package_win64\\build\\usr\\share\\julia\\stdlib\\v1.5\\Pkg\\src\\API.jl:67",
      " [13] do_cmd!(::Pkg.REPLMode.Command, ::IJulia.MiniREPL) at D:\\buildbot\\worker\\package_win64\\build\\usr\\share\\julia\\stdlib\\v1.5\\Pkg\\src\\REPLMode\\REPLMode.jl:404",
      " [14] do_cmd(::IJulia.MiniREPL, ::String; do_rethrow::Bool) at D:\\buildbot\\worker\\package_win64\\build\\usr\\share\\julia\\stdlib\\v1.5\\Pkg\\src\\REPLMode\\REPLMode.jl:382",
      " [15] top-level scope at In[2]:1",
      " [16] include_string(::Function, ::Module, ::String, ::String) at .\\loading.jl:1091"
     ]
    }
   ],
   "metadata": {}
  },
  {
   "cell_type": "code",
   "execution_count": 5,
   "source": [
    "] status"
   ],
   "outputs": [
    {
     "output_type": "stream",
     "name": "stdout",
     "text": [
      "\u001b[32m\u001b[1mStatus\u001b[22m\u001b[39m `D:\\Users\\Mori\\julia Training\\Project.toml`\n",
      " \u001b[90m [43edad99] \u001b[39m\u001b[37mInstantiateFromURL v0.5.0\u001b[39m\n"
     ]
    }
   ],
   "metadata": {}
  },
  {
   "cell_type": "code",
   "execution_count": null,
   "source": [
    "] add SpecialFunctions"
   ],
   "outputs": [],
   "metadata": {}
  },
  {
   "cell_type": "code",
   "execution_count": 3,
   "source": [
    "using InstantiateFromURL\r\n",
    "github_project(\"QuantEcon/quantecon-notebooks-julia\", version = \"0.8.0\",instantiate = true, precompile = true)"
   ],
   "outputs": [
    {
     "output_type": "stream",
     "name": "stdout",
     "text": [
      "\u001b[32m\u001b[1mActivated\u001b[0m D:\\Users\\Mori\\julia Training\\Project.toml\u001b[39m\n",
      "\u001b[36m\u001b[1mInfo\u001b[0m Project name is quantecon-notebooks-julia, version is 0.8.0\u001b[39m\n"
     ]
    },
    {
     "output_type": "stream",
     "name": "stderr",
     "text": [
      "\u001b[32m\u001b[1mPrecompiling\u001b[22m\u001b[39m project...\n",
      "┌ Info: Precompiling Flux [587475ba-b771-5e3f-ad9e-33799f191a9c]\n",
      "└ @ Base loading.jl:1278\n",
      "ERROR: LoadError: LoadError: LoadError: UndefVarError: AddrSpacePtr not defined\n",
      "Stacktrace:\n",
      " [1] getproperty(::Module, ::Symbol) at .\\Base.jl:26\n",
      " [2] top-level scope at C:\\Users\\Morteza Mohandes\\.julia\\packages\\CUDAnative\\e0IdN\\src\\device\\cuda\\wmma.jl:52\n",
      " [3] include(::Function, ::Module, ::String) at .\\Base.jl:380\n",
      " [4] include at .\\Base.jl:368 [inlined]\n",
      " [5] include(::String) at C:\\Users\\Morteza Mohandes\\.julia\\packages\\CUDAnative\\e0IdN\\src\\CUDAnative.jl:1\n",
      " [6] top-level scope at C:\\Users\\Morteza Mohandes\\.julia\\packages\\CUDAnative\\e0IdN\\src\\device\\cuda.jl:15\n",
      " [7] include(::Function, ::Module, ::String) at .\\Base.jl:380\n",
      " [8] include at .\\Base.jl:368 [inlined]\n",
      " [9] include(::String) at C:\\Users\\Morteza Mohandes\\.julia\\packages\\CUDAnative\\e0IdN\\src\\CUDAnative.jl:1\n",
      " [10] top-level scope at C:\\Users\\Morteza Mohandes\\.julia\\packages\\CUDAnative\\e0IdN\\src\\CUDAnative.jl:75\n",
      " [11] include(::Function, ::Module, ::String) at .\\Base.jl:380\n",
      " [12] include(::Module, ::String) at .\\Base.jl:368\n",
      " [13] top-level scope at none:2\n",
      " [14] eval at .\\boot.jl:331 [inlined]\n",
      " [15] eval(::Expr) at .\\client.jl:467\n",
      " [16] top-level scope at .\\none:3\n",
      "in expression starting at C:\\Users\\Morteza Mohandes\\.julia\\packages\\CUDAnative\\e0IdN\\src\\device\\cuda\\wmma.jl:52\n",
      "in expression starting at C:\\Users\\Morteza Mohandes\\.julia\\packages\\CUDAnative\\e0IdN\\src\\device\\cuda.jl:14\n",
      "in expression starting at C:\\Users\\Morteza Mohandes\\.julia\\packages\\CUDAnative\\e0IdN\\src\\CUDAnative.jl:75\n",
      "ERROR: LoadError: Failed to precompile CUDAnative [be33ccc6-a3ff-5ff2-a52e-74243cff1e17] to C:\\Users\\Morteza Mohandes\\.julia\\compiled\\v1.5\\CUDAnative\\4Zu2W_FNgHV.ji.\n",
      "Stacktrace:\n",
      " [1] error(::String) at .\\error.jl:33\n",
      " [2] compilecache(::Base.PkgId, ::String) at .\\loading.jl:1305\n",
      " [3] _require(::Base.PkgId) at .\\loading.jl:1030\n",
      " [4] require(::Base.PkgId) at .\\loading.jl:928\n",
      " [5] require(::Module, ::Symbol) at .\\loading.jl:923\n",
      " [6] include(::Function, ::Module, ::String) at .\\Base.jl:380\n",
      " [7] include(::Module, ::String) at .\\Base.jl:368\n",
      " [8] top-level scope at none:2\n",
      " [9] eval at .\\boot.jl:331 [inlined]\n",
      " [10] eval(::Expr) at .\\client.jl:467\n",
      " [11] top-level scope at .\\none:3\n",
      "in expression starting at C:\\Users\\Morteza Mohandes\\.julia\\packages\\CuArrays\\l0gXB\\src\\CuArrays.jl:3\n",
      "ERROR: LoadError: Failed to precompile CuArrays [3a865a2d-5b23-5a0f-bc46-62713ec82fae] to C:\\Users\\Morteza Mohandes\\.julia\\compiled\\v1.5\\CuArrays\\7YFE0_FNgHV.ji.\n",
      "Stacktrace:\n",
      " [1] error(::String) at .\\error.jl:33\n",
      " [2] compilecache(::Base.PkgId, ::String) at .\\loading.jl:1305\n",
      " [3] _require(::Base.PkgId) at .\\loading.jl:1030\n",
      " [4] require(::Base.PkgId) at .\\loading.jl:928\n",
      " [5] require(::Module, ::Symbol) at .\\loading.jl:923\n",
      " [6] include(::Function, ::Module, ::String) at .\\Base.jl:380\n",
      " [7] include(::Module, ::String) at .\\Base.jl:368\n",
      " [8] top-level scope at none:2\n",
      " [9] eval at .\\boot.jl:331 [inlined]\n",
      " [10] eval(::Expr) at .\\client.jl:467\n",
      " [11] top-level scope at .\\none:3\n",
      "in expression starting at C:\\Users\\Morteza Mohandes\\.julia\\packages\\Flux\\Fj3bt\\src\\Flux.jl:26\n"
     ]
    }
   ],
   "metadata": {}
  },
  {
   "cell_type": "code",
   "execution_count": 4,
   "source": [
    "using LinearAlgebra, Statistics\n",
    "using Distributions, Plots, QuadGK, Polynomials, Interpolations\n",
    "using DataFrames,RDatasets, DataFramesMeta, CategoricalArrays, Query, VegaLite\n",
    "using ForwardDiff, Zygote, Optim, JuMP, Ipopt, BlackBoxOptim, Roots, NLsolve, LeastSquaresOptim\n",
    "using Optim: converged, maximum, maximizer, minimizer, iterations\n",
    "using GLM\n",
    "# gr(fmt = :png, size=(500,900));"
   ],
   "outputs": [],
   "metadata": {}
  },
  {
   "cell_type": "markdown",
   "source": [
    "## julia Essentials"
   ],
   "metadata": {}
  },
  {
   "cell_type": "code",
   "execution_count": 3,
   "source": [
    "s = \"    Charlie don't surf\";\n",
    "\n",
    "replace(s, \"surf\" => \"ski\")"
   ],
   "outputs": [
    {
     "output_type": "execute_result",
     "data": {
      "text/plain": [
       "\"    Charlie don't ski\""
      ]
     },
     "metadata": {},
     "execution_count": 3
    }
   ],
   "metadata": {}
  },
  {
   "cell_type": "code",
   "execution_count": null,
   "source": [
    "match(r\"(\\d+)\", \"Top 10\") #REGEX"
   ],
   "outputs": [],
   "metadata": {}
  },
  {
   "cell_type": "code",
   "execution_count": null,
   "source": [
    "# nice\n",
    "function multiplyit(a, g)\n",
    "    return x -> a * g(x)  # function with `g` used in the closure\n",
    "end\n",
    "\n",
    "f(x) = x^2\n",
    "h = multiplyit(2.0, f)    # use our quadratic, returns a new function which doubles the result\n",
    "h(2)     # returned function is like any other function"
   ],
   "outputs": [],
   "metadata": {}
  },
  {
   "cell_type": "code",
   "execution_count": null,
   "source": [
    "# nice\n",
    "function snapabove(g, a)\n",
    "    function f(x)\n",
    "        if x > a         # \"a\" is captured in the closure f\n",
    "            return g(x)\n",
    "        else\n",
    "            return g(a)\n",
    "        end\n",
    "    end\n",
    "    return f    # closure with the embedded a\n",
    "end\n",
    "\n",
    "f(x) = x^2\n",
    "h = snapabove(f, 2.0)\n",
    "\n",
    "using Plots\n",
    "gr(fmt=:png);\n",
    "plot(h, 0.0:0.1:3.0)"
   ],
   "outputs": [],
   "metadata": {}
  },
  {
   "cell_type": "code",
   "execution_count": null,
   "source": [
    "#EX1\n",
    "x_vals = [1, 2, 3]\n",
    "y_vals = [1, 1, 1]\n",
    "c=zip(x_vals,y_vals)\n",
    "# first(c)"
   ],
   "outputs": [],
   "metadata": {}
  },
  {
   "cell_type": "code",
   "execution_count": null,
   "source": [
    "sum(iseven,0:99)"
   ],
   "outputs": [],
   "metadata": {}
  },
  {
   "cell_type": "code",
   "execution_count": null,
   "source": [
    "sum(a,b in [((2, 5), (4, 2), (9, 8), (12, 10))])"
   ],
   "outputs": [],
   "metadata": {}
  },
  {
   "cell_type": "code",
   "execution_count": null,
   "source": [
    "# nice\n",
    "pairs = ((2, 5), (4, 2), (9, 8), (12, 10))\n",
    "sum(xy -> all(iseven, xy), pairs)"
   ],
   "outputs": [],
   "metadata": {}
  },
  {
   "cell_type": "code",
   "execution_count": null,
   "source": [
    "? zip"
   ],
   "outputs": [],
   "metadata": {}
  },
  {
   "cell_type": "code",
   "execution_count": null,
   "source": [
    "#EX2\n",
    "function p(x, coeff)\n",
    "Sum=0\n",
    "    for (i,a) in enumerate(coeff)\n",
    "        Sum += a*x^i;\n",
    "    end\n",
    "    return Sum\n",
    "end\n",
    "println(p(2,[1,2,2]))"
   ],
   "outputs": [],
   "metadata": {}
  },
  {
   "cell_type": "code",
   "execution_count": null,
   "source": [
    "#EX3\n",
    "function CountUpper(s)\n",
    "    U = uppercase(s)\n",
    "    S=sum([(s[i]== U[i]) for i in eachindex(s)])\n",
    "    return S\n",
    "end\n",
    "CountUpper(\"SaLAm\")"
   ],
   "outputs": [],
   "metadata": {}
  },
  {
   "cell_type": "code",
   "execution_count": null,
   "source": [
    "#EX4\n",
    "function IsIn(a,b)\n",
    "   \n",
    "    return sum([isempty(findall( x -> x == A, b))  for A in a])==0\n",
    "end\n",
    "IsIn([1,2,3],[1,1,3,4,5,2])"
   ],
   "outputs": [],
   "metadata": {}
  },
  {
   "cell_type": "code",
   "execution_count": null,
   "source": [
    "#ex5"
   ],
   "outputs": [],
   "metadata": {}
  },
  {
   "cell_type": "code",
   "execution_count": null,
   "source": [
    "#ex6"
   ],
   "outputs": [],
   "metadata": {}
  },
  {
   "cell_type": "code",
   "execution_count": null,
   "source": [
    "#ex7"
   ],
   "outputs": [],
   "metadata": {}
  },
  {
   "cell_type": "markdown",
   "source": [
    "## Arrays, Tuples, Ranges, and Other Fundamental Types"
   ],
   "metadata": {}
  },
  {
   "cell_type": "code",
   "execution_count": null,
   "source": [],
   "outputs": [],
   "metadata": {}
  },
  {
   "cell_type": "markdown",
   "source": [
    "## Data and Statistics Packages"
   ],
   "metadata": {}
  },
  {
   "cell_type": "code",
   "execution_count": 4,
   "source": [
    "commodities = [\"crude\", \"gas\", \"gold\", \"silver\"]\n",
    "last_price = [4.2, 11.3, 12.1, missing]\n",
    "df = DataFrame(commod = commodities, price = last_price)"
   ],
   "outputs": [
    {
     "output_type": "execute_result",
     "data": {
      "text/plain": [
       "4×2 DataFrame\n",
       "│ Row │ commod │ price    │\n",
       "│     │ \u001b[90mString\u001b[39m │ \u001b[90mFloat64?\u001b[39m │\n",
       "├─────┼────────┼──────────┤\n",
       "│ 1   │ crude  │ 4.2      │\n",
       "│ 2   │ gas    │ 11.3     │\n",
       "│ 3   │ gold   │ 12.1     │\n",
       "│ 4   │ silver │ \u001b[90mmissing\u001b[39m  │"
      ],
      "text/latex": [
       "\\begin{tabular}{r|cc}\n",
       "\t& commod & price\\\\\n",
       "\t\\hline\n",
       "\t& String & Float64?\\\\\n",
       "\t\\hline\n",
       "\t1 & crude & 4.2 \\\\\n",
       "\t2 & gas & 11.3 \\\\\n",
       "\t3 & gold & 12.1 \\\\\n",
       "\t4 & silver & \\emph{missing} \\\\\n",
       "\\end{tabular}\n"
      ],
      "text/html": [
       "<table class=\"data-frame\"><thead><tr><th></th><th>commod</th><th>price</th></tr><tr><th></th><th>String</th><th>Float64?</th></tr></thead><tbody><p>4 rows × 2 columns</p><tr><th>1</th><td>crude</td><td>4.2</td></tr><tr><th>2</th><td>gas</td><td>11.3</td></tr><tr><th>3</th><td>gold</td><td>12.1</td></tr><tr><th>4</th><td>silver</td><td><em>missing</em></td></tr></tbody></table>"
      ]
     },
     "metadata": {},
     "execution_count": 4
    }
   ],
   "metadata": {}
  },
  {
   "cell_type": "code",
   "execution_count": 5,
   "source": [
    "DataFrames.describe(df)"
   ],
   "outputs": [
    {
     "output_type": "execute_result",
     "data": {
      "text/plain": [
       "2×8 DataFrame. Omitted printing of 1 columns\n",
       "│ Row │ variable │ mean   │ min   │ median │ max    │ nunique │ nmissing │\n",
       "│     │ \u001b[90mSymbol\u001b[39m   │ \u001b[90mUnion…\u001b[39m │ \u001b[90mAny\u001b[39m   │ \u001b[90mUnion…\u001b[39m │ \u001b[90mAny\u001b[39m    │ \u001b[90mUnion…\u001b[39m  │ \u001b[90mUnion…\u001b[39m   │\n",
       "├─────┼──────────┼────────┼───────┼────────┼────────┼─────────┼──────────┤\n",
       "│ 1   │ commod   │        │ crude │        │ silver │ 4       │          │\n",
       "│ 2   │ price    │ 9.2    │ 4.2   │ 11.3   │ 12.1   │         │ 1        │"
      ],
      "text/latex": [
       "\\begin{tabular}{r|cccccccc}\n",
       "\t& variable & mean & min & median & max & nunique & nmissing & eltype\\\\\n",
       "\t\\hline\n",
       "\t& Symbol & Union… & Any & Union… & Any & Union… & Union… & Type\\\\\n",
       "\t\\hline\n",
       "\t1 & commod &  & crude &  & silver & 4 &  & String \\\\\n",
       "\t2 & price & 9.2 & 4.2 & 11.3 & 12.1 &  & 1 & Union\\{Missing, Float64\\} \\\\\n",
       "\\end{tabular}\n"
      ],
      "text/html": [
       "<table class=\"data-frame\"><thead><tr><th></th><th>variable</th><th>mean</th><th>min</th><th>median</th><th>max</th><th>nunique</th><th>nmissing</th><th>eltype</th></tr><tr><th></th><th>Symbol</th><th>Union…</th><th>Any</th><th>Union…</th><th>Any</th><th>Union…</th><th>Union…</th><th>Type</th></tr></thead><tbody><p>2 rows × 8 columns</p><tr><th>1</th><td>commod</td><td></td><td>crude</td><td></td><td>silver</td><td>4</td><td></td><td>String</td></tr><tr><th>2</th><td>price</td><td>9.2</td><td>4.2</td><td>11.3</td><td>12.1</td><td></td><td>1</td><td>Union{Missing, Float64}</td></tr></tbody></table>"
      ]
     },
     "metadata": {},
     "execution_count": 5
    }
   ],
   "metadata": {}
  },
  {
   "cell_type": "markdown",
   "source": [
    "## Generic Programming"
   ],
   "metadata": {}
  },
  {
   "cell_type": "code",
   "execution_count": null,
   "source": [
    "x=1\n",
    "y = Normal()\n",
    "z = \"foo\"\n",
    "@show x, y, z\n",
    "@show typeof(x), typeof(y), typeof(z)\n",
    "@show supertype(typeof(x))\n",
    "\n",
    "# pipe operator, |>, is is equivalent\n",
    "@show typeof(x) |> supertype\n",
    "@show Base.show_supertypes(Int64)"
   ],
   "outputs": [],
   "metadata": {}
  },
  {
   "cell_type": "code",
   "execution_count": 7,
   "source": [
    "#EX3\n",
    "using Polynomials\n",
    "using Plots\n",
    "p = Polynomial([2, -5, 2], :x) # :x just gives a symbol for display\n",
    "@show p\n",
    "p′ = derivative(p) # gives the derivative of p, another polynomial\n",
    "@show p(0.1), p′(0.1) # call like a function\n",
    "@show roots(p); # find roots such that p(x) = 0\n",
    "plot(p)"
   ],
   "outputs": [
    {
     "output_type": "stream",
     "name": "stdout",
     "text": [
      "p = Polynomial(2 - 5*x + 2*x^2)\n",
      "(p(0.1), p′(0.1)) = (1.52, -4.6)\n",
      "roots(p) = [0.5, 2.0]\n"
     ]
    },
    {
     "output_type": "execute_result",
     "data": {
      "image/svg+xml": "<?xml version=\"1.0\" encoding=\"utf-8\"?>\n<svg xmlns=\"http://www.w3.org/2000/svg\" xmlns:xlink=\"http://www.w3.org/1999/xlink\" width=\"600\" height=\"400\" viewBox=\"0 0 2400 1600\">\n<defs>\n  <clipPath id=\"clip930\">\n    <rect x=\"0\" y=\"0\" width=\"2400\" height=\"1600\"/>\n  </clipPath>\n</defs>\n<path clip-path=\"url(#clip930)\" d=\"\nM0 1600 L2400 1600 L2400 0 L0 0  Z\n  \" fill=\"#ffffff\" fill-rule=\"evenodd\" fill-opacity=\"1\"/>\n<defs>\n  <clipPath id=\"clip931\">\n    <rect x=\"480\" y=\"0\" width=\"1681\" height=\"1600\"/>\n  </clipPath>\n</defs>\n<path clip-path=\"url(#clip930)\" d=\"\nM162.455 1486.45 L2352.76 1486.45 L2352.76 47.2441 L162.455 47.2441  Z\n  \" fill=\"#ffffff\" fill-rule=\"evenodd\" fill-opacity=\"1\"/>\n<defs>\n  <clipPath id=\"clip932\">\n    <rect x=\"162\" y=\"47\" width=\"2191\" height=\"1440\"/>\n  </clipPath>\n</defs>\n<polyline clip-path=\"url(#clip932)\" style=\"stroke:#000000; stroke-width:2; stroke-opacity:0.1; fill:none\" points=\"\n  519.633,1486.45 519.633,47.2441 \n  \"/>\n<polyline clip-path=\"url(#clip932)\" style=\"stroke:#000000; stroke-width:2; stroke-opacity:0.1; fill:none\" points=\"\n  1011.61,1486.45 1011.61,47.2441 \n  \"/>\n<polyline clip-path=\"url(#clip932)\" style=\"stroke:#000000; stroke-width:2; stroke-opacity:0.1; fill:none\" points=\"\n  1503.6,1486.45 1503.6,47.2441 \n  \"/>\n<polyline clip-path=\"url(#clip932)\" style=\"stroke:#000000; stroke-width:2; stroke-opacity:0.1; fill:none\" points=\"\n  1995.58,1486.45 1995.58,47.2441 \n  \"/>\n<polyline clip-path=\"url(#clip932)\" style=\"stroke:#000000; stroke-width:2; stroke-opacity:0.1; fill:none\" points=\"\n  162.455,1368.75 2352.76,1368.75 \n  \"/>\n<polyline clip-path=\"url(#clip932)\" style=\"stroke:#000000; stroke-width:2; stroke-opacity:0.1; fill:none\" points=\"\n  162.455,1060.87 2352.76,1060.87 \n  \"/>\n<polyline clip-path=\"url(#clip932)\" style=\"stroke:#000000; stroke-width:2; stroke-opacity:0.1; fill:none\" points=\"\n  162.455,752.992 2352.76,752.992 \n  \"/>\n<polyline clip-path=\"url(#clip932)\" style=\"stroke:#000000; stroke-width:2; stroke-opacity:0.1; fill:none\" points=\"\n  162.455,445.114 2352.76,445.114 \n  \"/>\n<polyline clip-path=\"url(#clip932)\" style=\"stroke:#000000; stroke-width:2; stroke-opacity:0.1; fill:none\" points=\"\n  162.455,137.237 2352.76,137.237 \n  \"/>\n<polyline clip-path=\"url(#clip930)\" style=\"stroke:#000000; stroke-width:4; stroke-opacity:1; fill:none\" points=\"\n  162.455,1486.45 2352.76,1486.45 \n  \"/>\n<polyline clip-path=\"url(#clip930)\" style=\"stroke:#000000; stroke-width:4; stroke-opacity:1; fill:none\" points=\"\n  162.455,1486.45 162.455,47.2441 \n  \"/>\n<polyline clip-path=\"url(#clip930)\" style=\"stroke:#000000; stroke-width:4; stroke-opacity:1; fill:none\" points=\"\n  519.633,1486.45 519.633,1469.18 \n  \"/>\n<polyline clip-path=\"url(#clip930)\" style=\"stroke:#000000; stroke-width:4; stroke-opacity:1; fill:none\" points=\"\n  1011.61,1486.45 1011.61,1469.18 \n  \"/>\n<polyline clip-path=\"url(#clip930)\" style=\"stroke:#000000; stroke-width:4; stroke-opacity:1; fill:none\" points=\"\n  1503.6,1486.45 1503.6,1469.18 \n  \"/>\n<polyline clip-path=\"url(#clip930)\" style=\"stroke:#000000; stroke-width:4; stroke-opacity:1; fill:none\" points=\"\n  1995.58,1486.45 1995.58,1469.18 \n  \"/>\n<polyline clip-path=\"url(#clip930)\" style=\"stroke:#000000; stroke-width:4; stroke-opacity:1; fill:none\" points=\"\n  162.455,1368.75 188.738,1368.75 \n  \"/>\n<polyline clip-path=\"url(#clip930)\" style=\"stroke:#000000; stroke-width:4; stroke-opacity:1; fill:none\" points=\"\n  162.455,1060.87 188.738,1060.87 \n  \"/>\n<polyline clip-path=\"url(#clip930)\" style=\"stroke:#000000; stroke-width:4; stroke-opacity:1; fill:none\" points=\"\n  162.455,752.992 188.738,752.992 \n  \"/>\n<polyline clip-path=\"url(#clip930)\" style=\"stroke:#000000; stroke-width:4; stroke-opacity:1; fill:none\" points=\"\n  162.455,445.114 188.738,445.114 \n  \"/>\n<polyline clip-path=\"url(#clip930)\" style=\"stroke:#000000; stroke-width:4; stroke-opacity:1; fill:none\" points=\"\n  162.455,137.237 188.738,137.237 \n  \"/>\n<path clip-path=\"url(#clip930)\" d=\"M 0 0 M501.647 1508.44 Q498.036 1508.44 496.207 1512 Q494.402 1515.55 494.402 1522.67 Q494.402 1529.78 496.207 1533.35 Q498.036 1536.89 501.647 1536.89 Q505.281 1536.89 507.087 1533.35 Q508.916 1529.78 508.916 1522.67 Q508.916 1515.55 507.087 1512 Q505.281 1508.44 501.647 1508.44 M501.647 1504.73 Q507.457 1504.73 510.513 1509.34 Q513.592 1513.92 513.592 1522.67 Q513.592 1531.4 510.513 1536.01 Q507.457 1540.59 501.647 1540.59 Q495.837 1540.59 492.758 1536.01 Q489.703 1531.4 489.703 1522.67 Q489.703 1513.92 492.758 1509.34 Q495.837 1504.73 501.647 1504.73 Z\" fill=\"#000000\" fill-rule=\"evenodd\" fill-opacity=\"1\" /><path clip-path=\"url(#clip930)\" d=\"M 0 0 M518.661 1534.04 L523.545 1534.04 L523.545 1539.92 L518.661 1539.92 L518.661 1534.04 Z\" fill=\"#000000\" fill-rule=\"evenodd\" fill-opacity=\"1\" /><path clip-path=\"url(#clip930)\" d=\"M 0 0 M528.661 1505.36 L547.017 1505.36 L547.017 1509.3 L532.943 1509.3 L532.943 1517.77 Q533.962 1517.42 534.98 1517.26 Q535.999 1517.07 537.017 1517.07 Q542.804 1517.07 546.184 1520.24 Q549.564 1523.42 549.564 1528.83 Q549.564 1534.41 546.091 1537.51 Q542.619 1540.59 536.3 1540.59 Q534.124 1540.59 531.855 1540.22 Q529.61 1539.85 527.203 1539.11 L527.203 1534.41 Q529.286 1535.54 531.508 1536.1 Q533.73 1536.66 536.207 1536.66 Q540.212 1536.66 542.55 1534.55 Q544.888 1532.44 544.888 1528.83 Q544.888 1525.22 542.55 1523.11 Q540.212 1521.01 536.207 1521.01 Q534.332 1521.01 532.457 1521.42 Q530.605 1521.84 528.661 1522.72 L528.661 1505.36 Z\" fill=\"#000000\" fill-rule=\"evenodd\" fill-opacity=\"1\" /><path clip-path=\"url(#clip930)\" d=\"M 0 0 M983.513 1535.98 L991.152 1535.98 L991.152 1509.62 L982.842 1511.29 L982.842 1507.03 L991.105 1505.36 L995.781 1505.36 L995.781 1535.98 L1003.42 1535.98 L1003.42 1539.92 L983.513 1539.92 L983.513 1535.98 Z\" fill=\"#000000\" fill-rule=\"evenodd\" fill-opacity=\"1\" /><path clip-path=\"url(#clip930)\" d=\"M 0 0 M1008.49 1534.04 L1013.37 1534.04 L1013.37 1539.92 L1008.49 1539.92 L1008.49 1534.04 Z\" fill=\"#000000\" fill-rule=\"evenodd\" fill-opacity=\"1\" /><path clip-path=\"url(#clip930)\" d=\"M 0 0 M1028.44 1508.44 Q1024.83 1508.44 1023 1512 Q1021.2 1515.55 1021.2 1522.67 Q1021.2 1529.78 1023 1533.35 Q1024.83 1536.89 1028.44 1536.89 Q1032.08 1536.89 1033.88 1533.35 Q1035.71 1529.78 1035.71 1522.67 Q1035.71 1515.55 1033.88 1512 Q1032.08 1508.44 1028.44 1508.44 M1028.44 1504.73 Q1034.25 1504.73 1037.31 1509.34 Q1040.39 1513.92 1040.39 1522.67 Q1040.39 1531.4 1037.31 1536.01 Q1034.25 1540.59 1028.44 1540.59 Q1022.63 1540.59 1019.55 1536.01 Q1016.5 1531.4 1016.5 1522.67 Q1016.5 1513.92 1019.55 1509.34 Q1022.63 1504.73 1028.44 1504.73 Z\" fill=\"#000000\" fill-rule=\"evenodd\" fill-opacity=\"1\" /><path clip-path=\"url(#clip930)\" d=\"M 0 0 M1475.99 1535.98 L1483.63 1535.98 L1483.63 1509.62 L1475.32 1511.29 L1475.32 1507.03 L1483.58 1505.36 L1488.26 1505.36 L1488.26 1535.98 L1495.9 1535.98 L1495.9 1539.92 L1475.99 1539.92 L1475.99 1535.98 Z\" fill=\"#000000\" fill-rule=\"evenodd\" fill-opacity=\"1\" /><path clip-path=\"url(#clip930)\" d=\"M 0 0 M1500.97 1534.04 L1505.85 1534.04 L1505.85 1539.92 L1500.97 1539.92 L1500.97 1534.04 Z\" fill=\"#000000\" fill-rule=\"evenodd\" fill-opacity=\"1\" /><path clip-path=\"url(#clip930)\" d=\"M 0 0 M1510.97 1505.36 L1529.33 1505.36 L1529.33 1509.3 L1515.25 1509.3 L1515.25 1517.77 Q1516.27 1517.42 1517.29 1517.26 Q1518.31 1517.07 1519.33 1517.07 Q1525.11 1517.07 1528.49 1520.24 Q1531.87 1523.42 1531.87 1528.83 Q1531.87 1534.41 1528.4 1537.51 Q1524.93 1540.59 1518.61 1540.59 Q1516.43 1540.59 1514.16 1540.22 Q1511.92 1539.85 1509.51 1539.11 L1509.51 1534.41 Q1511.59 1535.54 1513.82 1536.1 Q1516.04 1536.66 1518.51 1536.66 Q1522.52 1536.66 1524.86 1534.55 Q1527.2 1532.44 1527.2 1528.83 Q1527.2 1525.22 1524.86 1523.11 Q1522.52 1521.01 1518.51 1521.01 Q1516.64 1521.01 1514.76 1521.42 Q1512.91 1521.84 1510.97 1522.72 L1510.97 1505.36 Z\" fill=\"#000000\" fill-rule=\"evenodd\" fill-opacity=\"1\" /><path clip-path=\"url(#clip930)\" d=\"M 0 0 M1971.75 1535.98 L1988.07 1535.98 L1988.07 1539.92 L1966.12 1539.92 L1966.12 1535.98 Q1968.78 1533.23 1973.37 1528.6 Q1977.97 1523.95 1979.15 1522.61 Q1981.4 1520.08 1982.28 1518.35 Q1983.18 1516.59 1983.18 1514.9 Q1983.18 1512.14 1981.24 1510.41 Q1979.32 1508.67 1976.21 1508.67 Q1974.02 1508.67 1971.56 1509.43 Q1969.13 1510.2 1966.35 1511.75 L1966.35 1507.03 Q1969.18 1505.89 1971.63 1505.31 Q1974.08 1504.73 1976.12 1504.73 Q1981.49 1504.73 1984.69 1507.42 Q1987.88 1510.11 1987.88 1514.6 Q1987.88 1516.73 1987.07 1518.65 Q1986.28 1520.54 1984.18 1523.14 Q1983.6 1523.81 1980.5 1527.03 Q1977.39 1530.22 1971.75 1535.98 Z\" fill=\"#000000\" fill-rule=\"evenodd\" fill-opacity=\"1\" /><path clip-path=\"url(#clip930)\" d=\"M 0 0 M1993.14 1534.04 L1998.02 1534.04 L1998.02 1539.92 L1993.14 1539.92 L1993.14 1534.04 Z\" fill=\"#000000\" fill-rule=\"evenodd\" fill-opacity=\"1\" /><path clip-path=\"url(#clip930)\" d=\"M 0 0 M2013.09 1508.44 Q2009.48 1508.44 2007.65 1512 Q2005.84 1515.55 2005.84 1522.67 Q2005.84 1529.78 2007.65 1533.35 Q2009.48 1536.89 2013.09 1536.89 Q2016.72 1536.89 2018.53 1533.35 Q2020.36 1529.78 2020.36 1522.67 Q2020.36 1515.55 2018.53 1512 Q2016.72 1508.44 2013.09 1508.44 M2013.09 1504.73 Q2018.9 1504.73 2021.95 1509.34 Q2025.03 1513.92 2025.03 1522.67 Q2025.03 1531.4 2021.95 1536.01 Q2018.9 1540.59 2013.09 1540.59 Q2007.28 1540.59 2004.2 1536.01 Q2001.14 1531.4 2001.14 1522.67 Q2001.14 1513.92 2004.2 1509.34 Q2007.28 1504.73 2013.09 1504.73 Z\" fill=\"#000000\" fill-rule=\"evenodd\" fill-opacity=\"1\" /><path clip-path=\"url(#clip930)\" d=\"M 0 0 M63.2236 1371.14 L75.7004 1371.14 L75.7004 1374.94 L63.2236 1374.94 L63.2236 1371.14 Z\" fill=\"#000000\" fill-rule=\"evenodd\" fill-opacity=\"1\" /><path clip-path=\"url(#clip930)\" d=\"M 0 0 M81.58 1382.09 L89.2188 1382.09 L89.2188 1355.73 L80.9087 1357.39 L80.9087 1353.13 L89.1725 1351.47 L93.8484 1351.47 L93.8484 1382.09 L101.487 1382.09 L101.487 1386.03 L81.58 1386.03 L81.58 1382.09 Z\" fill=\"#000000\" fill-rule=\"evenodd\" fill-opacity=\"1\" /><path clip-path=\"url(#clip930)\" d=\"M 0 0 M106.557 1380.15 L111.441 1380.15 L111.441 1386.03 L106.557 1386.03 L106.557 1380.15 Z\" fill=\"#000000\" fill-rule=\"evenodd\" fill-opacity=\"1\" /><path clip-path=\"url(#clip930)\" d=\"M 0 0 M126.51 1354.55 Q122.899 1354.55 121.071 1358.11 Q119.265 1361.65 119.265 1368.78 Q119.265 1375.89 121.071 1379.45 Q122.899 1382.99 126.51 1382.99 Q130.145 1382.99 131.95 1379.45 Q133.779 1375.89 133.779 1368.78 Q133.779 1361.65 131.95 1358.11 Q130.145 1354.55 126.51 1354.55 M126.51 1350.84 Q132.32 1350.84 135.376 1355.45 Q138.455 1360.03 138.455 1368.78 Q138.455 1377.51 135.376 1382.11 Q132.32 1386.7 126.51 1386.7 Q120.7 1386.7 117.621 1382.11 Q114.566 1377.51 114.566 1368.78 Q114.566 1360.03 117.621 1355.45 Q120.7 1350.84 126.51 1350.84 Z\" fill=\"#000000\" fill-rule=\"evenodd\" fill-opacity=\"1\" /><path clip-path=\"url(#clip930)\" d=\"M 0 0 M62.9921 1063.26 L75.4689 1063.26 L75.4689 1067.06 L62.9921 1067.06 L62.9921 1063.26 Z\" fill=\"#000000\" fill-rule=\"evenodd\" fill-opacity=\"1\" /><path clip-path=\"url(#clip930)\" d=\"M 0 0 M90.5383 1046.67 Q86.9272 1046.67 85.0985 1050.23 Q83.2929 1053.77 83.2929 1060.9 Q83.2929 1068.01 85.0985 1071.57 Q86.9272 1075.12 90.5383 1075.12 Q94.1725 1075.12 95.9781 1071.57 Q97.8068 1068.01 97.8068 1060.9 Q97.8068 1053.77 95.9781 1050.23 Q94.1725 1046.67 90.5383 1046.67 M90.5383 1042.96 Q96.3484 1042.96 99.404 1047.57 Q102.483 1052.15 102.483 1060.9 Q102.483 1069.63 99.404 1074.24 Q96.3484 1078.82 90.5383 1078.82 Q84.7281 1078.82 81.6494 1074.24 Q78.5939 1069.63 78.5939 1060.9 Q78.5939 1052.15 81.6494 1047.57 Q84.7281 1042.96 90.5383 1042.96 Z\" fill=\"#000000\" fill-rule=\"evenodd\" fill-opacity=\"1\" /><path clip-path=\"url(#clip930)\" d=\"M 0 0 M107.552 1072.27 L112.436 1072.27 L112.436 1078.15 L107.552 1078.15 L107.552 1072.27 Z\" fill=\"#000000\" fill-rule=\"evenodd\" fill-opacity=\"1\" /><path clip-path=\"url(#clip930)\" d=\"M 0 0 M117.552 1043.59 L135.908 1043.59 L135.908 1047.52 L121.834 1047.52 L121.834 1056 Q122.853 1055.65 123.871 1055.49 Q124.89 1055.3 125.908 1055.3 Q131.695 1055.3 135.075 1058.47 Q138.455 1061.64 138.455 1067.06 Q138.455 1072.64 134.982 1075.74 Q131.51 1078.82 125.191 1078.82 Q123.015 1078.82 120.746 1078.45 Q118.501 1078.08 116.094 1077.34 L116.094 1072.64 Q118.177 1073.77 120.399 1074.33 Q122.621 1074.89 125.098 1074.89 Q129.103 1074.89 131.441 1072.78 Q133.779 1070.67 133.779 1067.06 Q133.779 1063.45 131.441 1061.34 Q129.103 1059.24 125.098 1059.24 Q123.223 1059.24 121.348 1059.65 Q119.496 1060.07 117.552 1060.95 L117.552 1043.59 Z\" fill=\"#000000\" fill-rule=\"evenodd\" fill-opacity=\"1\" /><path clip-path=\"url(#clip930)\" d=\"M 0 0 M89.5429 738.79 Q85.9318 738.79 84.1031 742.355 Q82.2976 745.897 82.2976 753.026 Q82.2976 760.133 84.1031 763.697 Q85.9318 767.239 89.5429 767.239 Q93.1771 767.239 94.9827 763.697 Q96.8114 760.133 96.8114 753.026 Q96.8114 745.897 94.9827 742.355 Q93.1771 738.79 89.5429 738.79 M89.5429 735.087 Q95.3531 735.087 98.4086 739.693 Q101.487 744.276 101.487 753.026 Q101.487 761.753 98.4086 766.359 Q95.3531 770.943 89.5429 770.943 Q83.7328 770.943 80.6541 766.359 Q77.5985 761.753 77.5985 753.026 Q77.5985 744.276 80.6541 739.693 Q83.7328 735.087 89.5429 735.087 Z\" fill=\"#000000\" fill-rule=\"evenodd\" fill-opacity=\"1\" /><path clip-path=\"url(#clip930)\" d=\"M 0 0 M106.557 764.392 L111.441 764.392 L111.441 770.272 L106.557 770.272 L106.557 764.392 Z\" fill=\"#000000\" fill-rule=\"evenodd\" fill-opacity=\"1\" /><path clip-path=\"url(#clip930)\" d=\"M 0 0 M126.51 738.79 Q122.899 738.79 121.071 742.355 Q119.265 745.897 119.265 753.026 Q119.265 760.133 121.071 763.697 Q122.899 767.239 126.51 767.239 Q130.145 767.239 131.95 763.697 Q133.779 760.133 133.779 753.026 Q133.779 745.897 131.95 742.355 Q130.145 738.79 126.51 738.79 M126.51 735.087 Q132.32 735.087 135.376 739.693 Q138.455 744.276 138.455 753.026 Q138.455 761.753 135.376 766.359 Q132.32 770.943 126.51 770.943 Q120.7 770.943 117.621 766.359 Q114.566 761.753 114.566 753.026 Q114.566 744.276 117.621 739.693 Q120.7 735.087 126.51 735.087 Z\" fill=\"#000000\" fill-rule=\"evenodd\" fill-opacity=\"1\" /><path clip-path=\"url(#clip930)\" d=\"M 0 0 M90.5383 430.913 Q86.9272 430.913 85.0985 434.478 Q83.2929 438.019 83.2929 445.149 Q83.2929 452.255 85.0985 455.82 Q86.9272 459.362 90.5383 459.362 Q94.1725 459.362 95.9781 455.82 Q97.8068 452.255 97.8068 445.149 Q97.8068 438.019 95.9781 434.478 Q94.1725 430.913 90.5383 430.913 M90.5383 427.209 Q96.3484 427.209 99.404 431.816 Q102.483 436.399 102.483 445.149 Q102.483 453.876 99.404 458.482 Q96.3484 463.065 90.5383 463.065 Q84.7281 463.065 81.6494 458.482 Q78.5939 453.876 78.5939 445.149 Q78.5939 436.399 81.6494 431.816 Q84.7281 427.209 90.5383 427.209 Z\" fill=\"#000000\" fill-rule=\"evenodd\" fill-opacity=\"1\" /><path clip-path=\"url(#clip930)\" d=\"M 0 0 M107.552 456.514 L112.436 456.514 L112.436 462.394 L107.552 462.394 L107.552 456.514 Z\" fill=\"#000000\" fill-rule=\"evenodd\" fill-opacity=\"1\" /><path clip-path=\"url(#clip930)\" d=\"M 0 0 M117.552 427.834 L135.908 427.834 L135.908 431.769 L121.834 431.769 L121.834 440.241 Q122.853 439.894 123.871 439.732 Q124.89 439.547 125.908 439.547 Q131.695 439.547 135.075 442.718 Q138.455 445.89 138.455 451.306 Q138.455 456.885 134.982 459.987 Q131.51 463.065 125.191 463.065 Q123.015 463.065 120.746 462.695 Q118.501 462.325 116.094 461.584 L116.094 456.885 Q118.177 458.019 120.399 458.575 Q122.621 459.13 125.098 459.13 Q129.103 459.13 131.441 457.024 Q133.779 454.917 133.779 451.306 Q133.779 447.695 131.441 445.589 Q129.103 443.482 125.098 443.482 Q123.223 443.482 121.348 443.899 Q119.496 444.315 117.552 445.195 L117.552 427.834 Z\" fill=\"#000000\" fill-rule=\"evenodd\" fill-opacity=\"1\" /><path clip-path=\"url(#clip930)\" d=\"M 0 0 M81.58 150.581 L89.2188 150.581 L89.2188 124.216 L80.9087 125.883 L80.9087 121.623 L89.1725 119.957 L93.8484 119.957 L93.8484 150.581 L101.487 150.581 L101.487 154.517 L81.58 154.517 L81.58 150.581 Z\" fill=\"#000000\" fill-rule=\"evenodd\" fill-opacity=\"1\" /><path clip-path=\"url(#clip930)\" d=\"M 0 0 M106.557 148.637 L111.441 148.637 L111.441 154.517 L106.557 154.517 L106.557 148.637 Z\" fill=\"#000000\" fill-rule=\"evenodd\" fill-opacity=\"1\" /><path clip-path=\"url(#clip930)\" d=\"M 0 0 M126.51 123.035 Q122.899 123.035 121.071 126.6 Q119.265 130.142 119.265 137.271 Q119.265 144.378 121.071 147.943 Q122.899 151.484 126.51 151.484 Q130.145 151.484 131.95 147.943 Q133.779 144.378 133.779 137.271 Q133.779 130.142 131.95 126.6 Q130.145 123.035 126.51 123.035 M126.51 119.332 Q132.32 119.332 135.376 123.938 Q138.455 128.521 138.455 137.271 Q138.455 145.998 135.376 150.605 Q132.32 155.188 126.51 155.188 Q120.7 155.188 117.621 150.605 Q114.566 145.998 114.566 137.271 Q114.566 128.521 117.621 123.938 Q120.7 119.332 126.51 119.332 Z\" fill=\"#000000\" fill-rule=\"evenodd\" fill-opacity=\"1\" /><polyline clip-path=\"url(#clip932)\" style=\"stroke:#009af9; stroke-width:4; stroke-opacity:1; fill:none\" points=\"\n  224.444,87.9763 265.771,194.423 307.097,296.525 348.424,394.282 389.75,487.695 431.077,576.762 472.403,661.485 513.729,741.864 555.056,817.897 596.382,889.586 \n  637.709,956.93 679.035,1019.93 720.362,1078.58 761.688,1132.89 803.014,1182.86 844.341,1228.48 885.667,1269.75 926.994,1306.68 968.32,1339.27 1009.65,1367.51 \n  1050.97,1391.41 1092.3,1410.96 1133.63,1426.16 1174.95,1437.03 1216.28,1443.54 1257.61,1445.72 1298.93,1443.54 1340.26,1437.03 1381.58,1426.16 1422.91,1410.96 \n  1464.24,1391.41 1505.56,1367.51 1546.89,1339.27 1588.22,1306.68 1629.54,1269.75 1670.87,1228.48 1712.2,1182.86 1753.52,1132.89 1794.85,1078.58 1836.18,1019.93 \n  1877.5,956.93 1918.83,889.586 1960.15,817.897 2001.48,741.864 2042.81,661.485 2084.13,576.762 2125.46,487.695 2166.79,394.282 2208.11,296.525 2249.44,194.423 \n  2290.77,87.9763 \n  \"/>\n<path clip-path=\"url(#clip930)\" d=\"\nM1699.9 251.724 L2280.76 251.724 L2280.76 130.764 L1699.9 130.764  Z\n  \" fill=\"#ffffff\" fill-rule=\"evenodd\" fill-opacity=\"1\"/>\n<polyline clip-path=\"url(#clip930)\" style=\"stroke:#000000; stroke-width:4; stroke-opacity:1; fill:none\" points=\"\n  1699.9,251.724 2280.76,251.724 2280.76,130.764 1699.9,130.764 1699.9,251.724 \n  \"/>\n<polyline clip-path=\"url(#clip930)\" style=\"stroke:#009af9; stroke-width:4; stroke-opacity:1; fill:none\" points=\"\n  1723.9,191.244 1867.9,191.244 \n  \"/>\n<path clip-path=\"url(#clip930)\" d=\"M 0 0 M1897.53 204.589 L1913.85 204.589 L1913.85 208.524 L1891.9 208.524 L1891.9 204.589 Q1894.56 201.834 1899.15 197.205 Q1903.75 192.552 1904.93 191.209 Q1907.18 188.686 1908.06 186.95 Q1908.96 185.191 1908.96 183.501 Q1908.96 180.746 1907.02 179.01 Q1905.1 177.274 1901.99 177.274 Q1899.79 177.274 1897.34 178.038 Q1894.91 178.802 1892.13 180.353 L1892.13 175.631 Q1894.96 174.496 1897.41 173.918 Q1899.86 173.339 1901.9 173.339 Q1907.27 173.339 1910.47 176.024 Q1913.66 178.709 1913.66 183.2 Q1913.66 185.33 1912.85 187.251 Q1912.06 189.149 1909.96 191.742 Q1909.38 192.413 1906.28 195.631 Q1903.17 198.825 1897.53 204.589 Z\" fill=\"#000000\" fill-rule=\"evenodd\" fill-opacity=\"1\" /><path clip-path=\"url(#clip930)\" d=\"M 0 0 M1931.23 193.64 L1943.71 193.64 L1943.71 197.436 L1931.23 197.436 L1931.23 193.64 Z\" fill=\"#000000\" fill-rule=\"evenodd\" fill-opacity=\"1\" /><path clip-path=\"url(#clip930)\" d=\"M 0 0 M1963.89 173.964 L1982.25 173.964 L1982.25 177.899 L1968.17 177.899 L1968.17 186.371 Q1969.19 186.024 1970.21 185.862 Q1971.23 185.677 1972.25 185.677 Q1978.04 185.677 1981.41 188.848 Q1984.79 192.02 1984.79 197.436 Q1984.79 203.015 1981.32 206.117 Q1977.85 209.195 1971.53 209.195 Q1969.35 209.195 1967.09 208.825 Q1964.84 208.455 1962.43 207.714 L1962.43 203.015 Q1964.52 204.149 1966.74 204.705 Q1968.96 205.26 1971.44 205.26 Q1975.44 205.26 1977.78 203.154 Q1980.12 201.047 1980.12 197.436 Q1980.12 193.825 1977.78 191.719 Q1975.44 189.612 1971.44 189.612 Q1969.56 189.612 1967.69 190.029 Q1965.84 190.445 1963.89 191.325 L1963.89 173.964 Z\" fill=\"#000000\" fill-rule=\"evenodd\" fill-opacity=\"1\" /><path clip-path=\"url(#clip930)\" d=\"M 0 0 M2007.09 179.659 L1998.78 184.149 L2007.09 188.663 L2005.74 190.932 L1997.97 186.233 L1997.97 194.959 L1995.33 194.959 L1995.33 186.233 L1987.55 190.932 L1986.21 188.663 L1994.52 184.149 L1986.21 179.659 L1987.55 177.367 L1995.33 182.066 L1995.33 173.339 L1997.97 173.339 L1997.97 182.066 L2005.74 177.367 L2007.09 179.659 Z\" fill=\"#000000\" fill-rule=\"evenodd\" fill-opacity=\"1\" /><path clip-path=\"url(#clip930)\" d=\"M 0 0 M2033.1 182.598 L2023.73 195.214 L2033.59 208.524 L2028.57 208.524 L2021.02 198.339 L2013.47 208.524 L2008.45 208.524 L2018.52 194.959 L2009.31 182.598 L2014.33 182.598 L2021.21 191.834 L2028.08 182.598 L2033.1 182.598 Z\" fill=\"#000000\" fill-rule=\"evenodd\" fill-opacity=\"1\" /><path clip-path=\"url(#clip930)\" d=\"M 0 0 M2070.47 178.802 L2070.47 191.695 L2083.36 191.695 L2083.36 195.631 L2070.47 195.631 L2070.47 208.524 L2066.58 208.524 L2066.58 195.631 L2053.68 195.631 L2053.68 191.695 L2066.58 191.695 L2066.58 178.802 L2070.47 178.802 Z\" fill=\"#000000\" fill-rule=\"evenodd\" fill-opacity=\"1\" /><path clip-path=\"url(#clip930)\" d=\"M 0 0 M2107.53 204.589 L2123.84 204.589 L2123.84 208.524 L2101.9 208.524 L2101.9 204.589 Q2104.56 201.834 2109.15 197.205 Q2113.75 192.552 2114.93 191.209 Q2117.18 188.686 2118.06 186.95 Q2118.96 185.191 2118.96 183.501 Q2118.96 180.746 2117.02 179.01 Q2115.09 177.274 2111.99 177.274 Q2109.79 177.274 2107.34 178.038 Q2104.91 178.802 2102.13 180.353 L2102.13 175.631 Q2104.96 174.496 2107.41 173.918 Q2109.86 173.339 2111.9 173.339 Q2117.27 173.339 2120.46 176.024 Q2123.66 178.709 2123.66 183.2 Q2123.66 185.33 2122.85 187.251 Q2122.06 189.149 2119.96 191.742 Q2119.38 192.413 2116.28 195.631 Q2113.17 198.825 2107.53 204.589 Z\" fill=\"#000000\" fill-rule=\"evenodd\" fill-opacity=\"1\" /><path clip-path=\"url(#clip930)\" d=\"M 0 0 M2146.14 179.659 L2137.83 184.149 L2146.14 188.663 L2144.79 190.932 L2137.02 186.233 L2137.02 194.959 L2134.38 194.959 L2134.38 186.233 L2126.6 190.932 L2125.26 188.663 L2133.57 184.149 L2125.26 179.659 L2126.6 177.367 L2134.38 182.066 L2134.38 173.339 L2137.02 173.339 L2137.02 182.066 L2144.79 177.367 L2146.14 179.659 Z\" fill=\"#000000\" fill-rule=\"evenodd\" fill-opacity=\"1\" /><path clip-path=\"url(#clip930)\" d=\"M 0 0 M2172.15 182.598 L2162.78 195.214 L2172.64 208.524 L2167.62 208.524 L2160.07 198.339 L2152.52 208.524 L2147.5 208.524 L2157.57 194.959 L2148.36 182.598 L2153.38 182.598 L2160.26 191.834 L2167.13 182.598 L2172.15 182.598 Z\" fill=\"#000000\" fill-rule=\"evenodd\" fill-opacity=\"1\" /><path clip-path=\"url(#clip930)\" d=\"M 0 0 M2194.77 173.964 L2207.34 186.858 L2202.69 186.858 L2192.5 177.714 L2182.32 186.858 L2177.66 186.858 L2190.23 173.964 L2194.77 173.964 Z\" fill=\"#000000\" fill-rule=\"evenodd\" fill-opacity=\"1\" /><path clip-path=\"url(#clip930)\" d=\"M 0 0 M2216.44 204.589 L2232.76 204.589 L2232.76 208.524 L2210.81 208.524 L2210.81 204.589 Q2213.47 201.834 2218.06 197.205 Q2222.66 192.552 2223.84 191.209 Q2226.09 188.686 2226.97 186.95 Q2227.87 185.191 2227.87 183.501 Q2227.87 180.746 2225.93 179.01 Q2224.01 177.274 2220.9 177.274 Q2218.71 177.274 2216.25 178.038 Q2213.82 178.802 2211.04 180.353 L2211.04 175.631 Q2213.87 174.496 2216.32 173.918 Q2218.77 173.339 2220.81 173.339 Q2226.18 173.339 2229.38 176.024 Q2232.57 178.709 2232.57 183.2 Q2232.57 185.33 2231.76 187.251 Q2230.97 189.149 2228.87 191.742 Q2228.29 192.413 2225.19 195.631 Q2222.08 198.825 2216.44 204.589 Z\" fill=\"#000000\" fill-rule=\"evenodd\" fill-opacity=\"1\" /></svg>\n"
     },
     "metadata": {},
     "execution_count": 7
    }
   ],
   "metadata": {}
  },
  {
   "cell_type": "code",
   "execution_count": 8,
   "source": [
    "plot(p′)"
   ],
   "outputs": [
    {
     "output_type": "execute_result",
     "data": {
      "image/svg+xml": "<?xml version=\"1.0\" encoding=\"utf-8\"?>\n<svg xmlns=\"http://www.w3.org/2000/svg\" xmlns:xlink=\"http://www.w3.org/1999/xlink\" width=\"600\" height=\"400\" viewBox=\"0 0 2400 1600\">\n<defs>\n  <clipPath id=\"clip970\">\n    <rect x=\"0\" y=\"0\" width=\"2400\" height=\"1600\"/>\n  </clipPath>\n</defs>\n<path clip-path=\"url(#clip970)\" d=\"\nM0 1600 L2400 1600 L2400 0 L0 0  Z\n  \" fill=\"#ffffff\" fill-rule=\"evenodd\" fill-opacity=\"1\"/>\n<defs>\n  <clipPath id=\"clip971\">\n    <rect x=\"480\" y=\"0\" width=\"1681\" height=\"1600\"/>\n  </clipPath>\n</defs>\n<path clip-path=\"url(#clip970)\" d=\"\nM163.612 1486.45 L2352.76 1486.45 L2352.76 47.2441 L163.612 47.2441  Z\n  \" fill=\"#ffffff\" fill-rule=\"evenodd\" fill-opacity=\"1\"/>\n<defs>\n  <clipPath id=\"clip972\">\n    <rect x=\"163\" y=\"47\" width=\"2190\" height=\"1440\"/>\n  </clipPath>\n</defs>\n<polyline clip-path=\"url(#clip972)\" style=\"stroke:#000000; stroke-width:2; stroke-opacity:0.1; fill:none\" points=\"\n  483.723,1486.45 483.723,47.2441 \n  \"/>\n<polyline clip-path=\"url(#clip972)\" style=\"stroke:#000000; stroke-width:2; stroke-opacity:0.1; fill:none\" points=\"\n  1000.03,1486.45 1000.03,47.2441 \n  \"/>\n<polyline clip-path=\"url(#clip972)\" style=\"stroke:#000000; stroke-width:2; stroke-opacity:0.1; fill:none\" points=\"\n  1516.34,1486.45 1516.34,47.2441 \n  \"/>\n<polyline clip-path=\"url(#clip972)\" style=\"stroke:#000000; stroke-width:2; stroke-opacity:0.1; fill:none\" points=\"\n  2032.65,1486.45 2032.65,47.2441 \n  \"/>\n<polyline clip-path=\"url(#clip972)\" style=\"stroke:#000000; stroke-width:2; stroke-opacity:0.1; fill:none\" points=\"\n  163.612,1276 2352.76,1276 \n  \"/>\n<polyline clip-path=\"url(#clip972)\" style=\"stroke:#000000; stroke-width:2; stroke-opacity:0.1; fill:none\" points=\"\n  163.612,1021.42 2352.76,1021.42 \n  \"/>\n<polyline clip-path=\"url(#clip972)\" style=\"stroke:#000000; stroke-width:2; stroke-opacity:0.1; fill:none\" points=\"\n  163.612,766.846 2352.76,766.846 \n  \"/>\n<polyline clip-path=\"url(#clip972)\" style=\"stroke:#000000; stroke-width:2; stroke-opacity:0.1; fill:none\" points=\"\n  163.612,512.27 2352.76,512.27 \n  \"/>\n<polyline clip-path=\"url(#clip972)\" style=\"stroke:#000000; stroke-width:2; stroke-opacity:0.1; fill:none\" points=\"\n  163.612,257.694 2352.76,257.694 \n  \"/>\n<polyline clip-path=\"url(#clip970)\" style=\"stroke:#000000; stroke-width:4; stroke-opacity:1; fill:none\" points=\"\n  163.612,1486.45 2352.76,1486.45 \n  \"/>\n<polyline clip-path=\"url(#clip970)\" style=\"stroke:#000000; stroke-width:4; stroke-opacity:1; fill:none\" points=\"\n  163.612,1486.45 163.612,47.2441 \n  \"/>\n<polyline clip-path=\"url(#clip970)\" style=\"stroke:#000000; stroke-width:4; stroke-opacity:1; fill:none\" points=\"\n  483.723,1486.45 483.723,1469.18 \n  \"/>\n<polyline clip-path=\"url(#clip970)\" style=\"stroke:#000000; stroke-width:4; stroke-opacity:1; fill:none\" points=\"\n  1000.03,1486.45 1000.03,1469.18 \n  \"/>\n<polyline clip-path=\"url(#clip970)\" style=\"stroke:#000000; stroke-width:4; stroke-opacity:1; fill:none\" points=\"\n  1516.34,1486.45 1516.34,1469.18 \n  \"/>\n<polyline clip-path=\"url(#clip970)\" style=\"stroke:#000000; stroke-width:4; stroke-opacity:1; fill:none\" points=\"\n  2032.65,1486.45 2032.65,1469.18 \n  \"/>\n<polyline clip-path=\"url(#clip970)\" style=\"stroke:#000000; stroke-width:4; stroke-opacity:1; fill:none\" points=\"\n  163.612,1276 189.882,1276 \n  \"/>\n<polyline clip-path=\"url(#clip970)\" style=\"stroke:#000000; stroke-width:4; stroke-opacity:1; fill:none\" points=\"\n  163.612,1021.42 189.882,1021.42 \n  \"/>\n<polyline clip-path=\"url(#clip970)\" style=\"stroke:#000000; stroke-width:4; stroke-opacity:1; fill:none\" points=\"\n  163.612,766.846 189.882,766.846 \n  \"/>\n<polyline clip-path=\"url(#clip970)\" style=\"stroke:#000000; stroke-width:4; stroke-opacity:1; fill:none\" points=\"\n  163.612,512.27 189.882,512.27 \n  \"/>\n<polyline clip-path=\"url(#clip970)\" style=\"stroke:#000000; stroke-width:4; stroke-opacity:1; fill:none\" points=\"\n  163.612,257.694 189.882,257.694 \n  \"/>\n<path clip-path=\"url(#clip970)\" d=\"M 0 0 M456.234 1535.98 L463.873 1535.98 L463.873 1509.62 L455.563 1511.29 L455.563 1507.03 L463.827 1505.36 L468.503 1505.36 L468.503 1535.98 L476.142 1535.98 L476.142 1539.92 L456.234 1539.92 L456.234 1535.98 Z\" fill=\"#000000\" fill-rule=\"evenodd\" fill-opacity=\"1\" /><path clip-path=\"url(#clip970)\" d=\"M 0 0 M481.211 1534.04 L486.095 1534.04 L486.095 1539.92 L481.211 1539.92 L481.211 1534.04 Z\" fill=\"#000000\" fill-rule=\"evenodd\" fill-opacity=\"1\" /><path clip-path=\"url(#clip970)\" d=\"M 0 0 M491.975 1535.98 L499.614 1535.98 L499.614 1509.62 L491.304 1511.29 L491.304 1507.03 L499.568 1505.36 L504.243 1505.36 L504.243 1535.98 L511.882 1535.98 L511.882 1539.92 L491.975 1539.92 L491.975 1535.98 Z\" fill=\"#000000\" fill-rule=\"evenodd\" fill-opacity=\"1\" /><path clip-path=\"url(#clip970)\" d=\"M 0 0 M972.727 1535.98 L980.366 1535.98 L980.366 1509.62 L972.056 1511.29 L972.056 1507.03 L980.32 1505.36 L984.996 1505.36 L984.996 1535.98 L992.634 1535.98 L992.634 1539.92 L972.727 1539.92 L972.727 1535.98 Z\" fill=\"#000000\" fill-rule=\"evenodd\" fill-opacity=\"1\" /><path clip-path=\"url(#clip970)\" d=\"M 0 0 M997.704 1534.04 L1002.59 1534.04 L1002.59 1539.92 L997.704 1539.92 L997.704 1534.04 Z\" fill=\"#000000\" fill-rule=\"evenodd\" fill-opacity=\"1\" /><path clip-path=\"url(#clip970)\" d=\"M 0 0 M1011.69 1535.98 L1028 1535.98 L1028 1539.92 L1006.06 1539.92 L1006.06 1535.98 Q1008.72 1533.23 1013.31 1528.6 Q1017.91 1523.95 1019.09 1522.61 Q1021.34 1520.08 1022.22 1518.35 Q1023.12 1516.59 1023.12 1514.9 Q1023.12 1512.14 1021.18 1510.41 Q1019.25 1508.67 1016.15 1508.67 Q1013.95 1508.67 1011.5 1509.43 Q1009.07 1510.2 1006.29 1511.75 L1006.29 1507.03 Q1009.12 1505.89 1011.57 1505.31 Q1014.02 1504.73 1016.06 1504.73 Q1021.43 1504.73 1024.63 1507.42 Q1027.82 1510.11 1027.82 1514.6 Q1027.82 1516.73 1027.01 1518.65 Q1026.22 1520.54 1024.12 1523.14 Q1023.54 1523.81 1020.44 1527.03 Q1017.33 1530.22 1011.69 1535.98 Z\" fill=\"#000000\" fill-rule=\"evenodd\" fill-opacity=\"1\" /><path clip-path=\"url(#clip970)\" d=\"M 0 0 M1488.56 1535.98 L1496.2 1535.98 L1496.2 1509.62 L1487.89 1511.29 L1487.89 1507.03 L1496.15 1505.36 L1500.83 1505.36 L1500.83 1535.98 L1508.47 1535.98 L1508.47 1539.92 L1488.56 1539.92 L1488.56 1535.98 Z\" fill=\"#000000\" fill-rule=\"evenodd\" fill-opacity=\"1\" /><path clip-path=\"url(#clip970)\" d=\"M 0 0 M1513.54 1534.04 L1518.42 1534.04 L1518.42 1539.92 L1513.54 1539.92 L1513.54 1534.04 Z\" fill=\"#000000\" fill-rule=\"evenodd\" fill-opacity=\"1\" /><path clip-path=\"url(#clip970)\" d=\"M 0 0 M1537.66 1521.29 Q1541.01 1522 1542.89 1524.27 Q1544.79 1526.54 1544.79 1529.87 Q1544.79 1534.99 1541.27 1537.79 Q1537.75 1540.59 1531.27 1540.59 Q1529.09 1540.59 1526.78 1540.15 Q1524.49 1539.73 1522.03 1538.88 L1522.03 1534.36 Q1523.98 1535.5 1526.29 1536.08 Q1528.61 1536.66 1531.13 1536.66 Q1535.53 1536.66 1537.82 1534.92 Q1540.13 1533.18 1540.13 1529.87 Q1540.13 1526.82 1537.98 1525.11 Q1535.85 1523.37 1532.03 1523.37 L1528 1523.37 L1528 1519.53 L1532.22 1519.53 Q1535.67 1519.53 1537.5 1518.16 Q1539.32 1516.77 1539.32 1514.18 Q1539.32 1511.52 1537.43 1510.11 Q1535.55 1508.67 1532.03 1508.67 Q1530.11 1508.67 1527.91 1509.09 Q1525.71 1509.5 1523.07 1510.38 L1523.07 1506.22 Q1525.74 1505.48 1528.05 1505.11 Q1530.39 1504.73 1532.45 1504.73 Q1537.77 1504.73 1540.87 1507.17 Q1543.98 1509.57 1543.98 1513.69 Q1543.98 1516.56 1542.33 1518.55 Q1540.69 1520.52 1537.66 1521.29 Z\" fill=\"#000000\" fill-rule=\"evenodd\" fill-opacity=\"1\" /><path clip-path=\"url(#clip970)\" d=\"M 0 0 M2004.3 1535.98 L2011.94 1535.98 L2011.94 1509.62 L2003.63 1511.29 L2003.63 1507.03 L2011.89 1505.36 L2016.57 1505.36 L2016.57 1535.98 L2024.21 1535.98 L2024.21 1539.92 L2004.3 1539.92 L2004.3 1535.98 Z\" fill=\"#000000\" fill-rule=\"evenodd\" fill-opacity=\"1\" /><path clip-path=\"url(#clip970)\" d=\"M 0 0 M2029.28 1534.04 L2034.16 1534.04 L2034.16 1539.92 L2029.28 1539.92 L2029.28 1534.04 Z\" fill=\"#000000\" fill-rule=\"evenodd\" fill-opacity=\"1\" /><path clip-path=\"url(#clip970)\" d=\"M 0 0 M2052.08 1509.43 L2040.27 1527.88 L2052.08 1527.88 L2052.08 1509.43 M2050.85 1505.36 L2056.73 1505.36 L2056.73 1527.88 L2061.66 1527.88 L2061.66 1531.77 L2056.73 1531.77 L2056.73 1539.92 L2052.08 1539.92 L2052.08 1531.77 L2036.48 1531.77 L2036.48 1527.26 L2050.85 1505.36 Z\" fill=\"#000000\" fill-rule=\"evenodd\" fill-opacity=\"1\" /><path clip-path=\"url(#clip970)\" d=\"M 0 0 M62.9921 1278.39 L75.4689 1278.39 L75.4689 1282.19 L62.9921 1282.19 L62.9921 1278.39 Z\" fill=\"#000000\" fill-rule=\"evenodd\" fill-opacity=\"1\" /><path clip-path=\"url(#clip970)\" d=\"M 0 0 M90.5383 1261.8 Q86.9272 1261.8 85.0985 1265.36 Q83.2929 1268.9 83.2929 1276.03 Q83.2929 1283.14 85.0985 1286.7 Q86.9272 1290.25 90.5383 1290.25 Q94.1725 1290.25 95.9781 1286.7 Q97.8068 1283.14 97.8068 1276.03 Q97.8068 1268.9 95.9781 1265.36 Q94.1725 1261.8 90.5383 1261.8 M90.5383 1258.09 Q96.3484 1258.09 99.404 1262.7 Q102.483 1267.28 102.483 1276.03 Q102.483 1284.76 99.404 1289.37 Q96.3484 1293.95 90.5383 1293.95 Q84.7281 1293.95 81.6494 1289.37 Q78.5939 1284.76 78.5939 1276.03 Q78.5939 1267.28 81.6494 1262.7 Q84.7281 1258.09 90.5383 1258.09 Z\" fill=\"#000000\" fill-rule=\"evenodd\" fill-opacity=\"1\" /><path clip-path=\"url(#clip970)\" d=\"M 0 0 M107.552 1287.4 L112.436 1287.4 L112.436 1293.28 L107.552 1293.28 L107.552 1287.4 Z\" fill=\"#000000\" fill-rule=\"evenodd\" fill-opacity=\"1\" /><path clip-path=\"url(#clip970)\" d=\"M 0 0 M128.084 1274.13 Q124.936 1274.13 123.084 1276.29 Q121.256 1278.44 121.256 1282.19 Q121.256 1285.92 123.084 1288.09 Q124.936 1290.25 128.084 1290.25 Q131.233 1290.25 133.061 1288.09 Q134.913 1285.92 134.913 1282.19 Q134.913 1278.44 133.061 1276.29 Q131.233 1274.13 128.084 1274.13 M137.367 1259.48 L137.367 1263.74 Q135.607 1262.91 133.802 1262.47 Q132.02 1262.03 130.26 1262.03 Q125.631 1262.03 123.177 1265.15 Q120.746 1268.28 120.399 1274.6 Q121.765 1272.58 123.825 1271.52 Q125.885 1270.43 128.362 1270.43 Q133.57 1270.43 136.58 1273.6 Q139.612 1276.75 139.612 1282.19 Q139.612 1287.51 136.464 1290.73 Q133.316 1293.95 128.084 1293.95 Q122.089 1293.95 118.918 1289.37 Q115.746 1284.76 115.746 1276.03 Q115.746 1267.84 119.635 1262.98 Q123.524 1258.09 130.075 1258.09 Q131.834 1258.09 133.617 1258.44 Q135.422 1258.79 137.367 1259.48 Z\" fill=\"#000000\" fill-rule=\"evenodd\" fill-opacity=\"1\" /><path clip-path=\"url(#clip970)\" d=\"M 0 0 M63.8023 1023.82 L76.2791 1023.82 L76.2791 1027.61 L63.8023 1027.61 L63.8023 1023.82 Z\" fill=\"#000000\" fill-rule=\"evenodd\" fill-opacity=\"1\" /><path clip-path=\"url(#clip970)\" d=\"M 0 0 M91.3485 1007.22 Q87.7374 1007.22 85.9087 1010.79 Q84.1031 1014.33 84.1031 1021.46 Q84.1031 1028.56 85.9087 1032.13 Q87.7374 1035.67 91.3485 1035.67 Q94.9827 1035.67 96.7882 1032.13 Q98.6169 1028.56 98.6169 1021.46 Q98.6169 1014.33 96.7882 1010.79 Q94.9827 1007.22 91.3485 1007.22 M91.3485 1003.52 Q97.1586 1003.52 100.214 1008.12 Q103.293 1012.71 103.293 1021.46 Q103.293 1030.18 100.214 1034.79 Q97.1586 1039.37 91.3485 1039.37 Q85.5383 1039.37 82.4596 1034.79 Q79.4041 1030.18 79.4041 1021.46 Q79.4041 1012.71 82.4596 1008.12 Q85.5383 1003.52 91.3485 1003.52 Z\" fill=\"#000000\" fill-rule=\"evenodd\" fill-opacity=\"1\" /><path clip-path=\"url(#clip970)\" d=\"M 0 0 M108.362 1032.82 L113.246 1032.82 L113.246 1038.7 L108.362 1038.7 L108.362 1032.82 Z\" fill=\"#000000\" fill-rule=\"evenodd\" fill-opacity=\"1\" /><path clip-path=\"url(#clip970)\" d=\"M 0 0 M132.482 1020.07 Q135.839 1020.79 137.714 1023.05 Q139.612 1025.32 139.612 1028.66 Q139.612 1033.77 136.094 1036.57 Q132.575 1039.37 126.094 1039.37 Q123.918 1039.37 121.603 1038.93 Q119.311 1038.52 116.858 1037.66 L116.858 1033.15 Q118.802 1034.28 121.117 1034.86 Q123.432 1035.44 125.955 1035.44 Q130.353 1035.44 132.645 1033.7 Q134.959 1031.97 134.959 1028.66 Q134.959 1025.6 132.807 1023.89 Q130.677 1022.15 126.858 1022.15 L122.83 1022.15 L122.83 1018.31 L127.043 1018.31 Q130.492 1018.31 132.32 1016.94 Q134.149 1015.55 134.149 1012.96 Q134.149 1010.3 132.251 1008.89 Q130.376 1007.45 126.858 1007.45 Q124.936 1007.45 122.737 1007.87 Q120.538 1008.29 117.899 1009.17 L117.899 1005 Q120.561 1004.26 122.876 1003.89 Q125.214 1003.52 127.274 1003.52 Q132.598 1003.52 135.7 1005.95 Q138.802 1008.36 138.802 1012.48 Q138.802 1015.35 137.158 1017.34 Q135.515 1019.3 132.482 1020.07 Z\" fill=\"#000000\" fill-rule=\"evenodd\" fill-opacity=\"1\" /><path clip-path=\"url(#clip970)\" d=\"M 0 0 M90.7003 752.645 Q87.0892 752.645 85.2605 756.209 Q83.455 759.751 83.455 766.881 Q83.455 773.987 85.2605 777.552 Q87.0892 781.094 90.7003 781.094 Q94.3346 781.094 96.1401 777.552 Q97.9688 773.987 97.9688 766.881 Q97.9688 759.751 96.1401 756.209 Q94.3346 752.645 90.7003 752.645 M90.7003 748.941 Q96.5105 748.941 99.566 753.547 Q102.645 758.131 102.645 766.881 Q102.645 775.608 99.566 780.214 Q96.5105 784.797 90.7003 784.797 Q84.8902 784.797 81.8115 780.214 Q78.7559 775.608 78.7559 766.881 Q78.7559 758.131 81.8115 753.547 Q84.8902 748.941 90.7003 748.941 Z\" fill=\"#000000\" fill-rule=\"evenodd\" fill-opacity=\"1\" /><path clip-path=\"url(#clip970)\" d=\"M 0 0 M107.714 778.246 L112.598 778.246 L112.598 784.126 L107.714 784.126 L107.714 778.246 Z\" fill=\"#000000\" fill-rule=\"evenodd\" fill-opacity=\"1\" /><path clip-path=\"url(#clip970)\" d=\"M 0 0 M127.668 752.645 Q124.057 752.645 122.228 756.209 Q120.422 759.751 120.422 766.881 Q120.422 773.987 122.228 777.552 Q124.057 781.094 127.668 781.094 Q131.302 781.094 133.107 777.552 Q134.936 773.987 134.936 766.881 Q134.936 759.751 133.107 756.209 Q131.302 752.645 127.668 752.645 M127.668 748.941 Q133.478 748.941 136.533 753.547 Q139.612 758.131 139.612 766.881 Q139.612 775.608 136.533 780.214 Q133.478 784.797 127.668 784.797 Q121.858 784.797 118.779 780.214 Q115.723 775.608 115.723 766.881 Q115.723 758.131 118.779 753.547 Q121.858 748.941 127.668 748.941 Z\" fill=\"#000000\" fill-rule=\"evenodd\" fill-opacity=\"1\" /><path clip-path=\"url(#clip970)\" d=\"M 0 0 M91.3485 498.069 Q87.7374 498.069 85.9087 501.633 Q84.1031 505.175 84.1031 512.305 Q84.1031 519.411 85.9087 522.976 Q87.7374 526.517 91.3485 526.517 Q94.9827 526.517 96.7882 522.976 Q98.6169 519.411 98.6169 512.305 Q98.6169 505.175 96.7882 501.633 Q94.9827 498.069 91.3485 498.069 M91.3485 494.365 Q97.1586 494.365 100.214 498.971 Q103.293 503.555 103.293 512.305 Q103.293 521.031 100.214 525.638 Q97.1586 530.221 91.3485 530.221 Q85.5383 530.221 82.4596 525.638 Q79.4041 521.031 79.4041 512.305 Q79.4041 503.555 82.4596 498.971 Q85.5383 494.365 91.3485 494.365 Z\" fill=\"#000000\" fill-rule=\"evenodd\" fill-opacity=\"1\" /><path clip-path=\"url(#clip970)\" d=\"M 0 0 M108.362 523.67 L113.246 523.67 L113.246 529.55 L108.362 529.55 L108.362 523.67 Z\" fill=\"#000000\" fill-rule=\"evenodd\" fill-opacity=\"1\" /><path clip-path=\"url(#clip970)\" d=\"M 0 0 M132.482 510.916 Q135.839 511.633 137.714 513.902 Q139.612 516.17 139.612 519.504 Q139.612 524.619 136.094 527.42 Q132.575 530.221 126.094 530.221 Q123.918 530.221 121.603 529.781 Q119.311 529.365 116.858 528.508 L116.858 523.994 Q118.802 525.129 121.117 525.707 Q123.432 526.286 125.955 526.286 Q130.353 526.286 132.645 524.55 Q134.959 522.814 134.959 519.504 Q134.959 516.448 132.807 514.735 Q130.677 512.999 126.858 512.999 L122.83 512.999 L122.83 509.156 L127.043 509.156 Q130.492 509.156 132.32 507.791 Q134.149 506.402 134.149 503.809 Q134.149 501.147 132.251 499.735 Q130.376 498.3 126.858 498.3 Q124.936 498.3 122.737 498.717 Q120.538 499.133 117.899 500.013 L117.899 495.846 Q120.561 495.106 122.876 494.735 Q125.214 494.365 127.274 494.365 Q132.598 494.365 135.7 496.795 Q138.802 499.203 138.802 503.323 Q138.802 506.193 137.158 508.184 Q135.515 510.152 132.482 510.916 Z\" fill=\"#000000\" fill-rule=\"evenodd\" fill-opacity=\"1\" /><path clip-path=\"url(#clip970)\" d=\"M 0 0 M90.5383 243.492 Q86.9272 243.492 85.0985 247.057 Q83.2929 250.599 83.2929 257.728 Q83.2929 264.835 85.0985 268.4 Q86.9272 271.941 90.5383 271.941 Q94.1725 271.941 95.9781 268.4 Q97.8068 264.835 97.8068 257.728 Q97.8068 250.599 95.9781 247.057 Q94.1725 243.492 90.5383 243.492 M90.5383 239.789 Q96.3484 239.789 99.404 244.395 Q102.483 248.978 102.483 257.728 Q102.483 266.455 99.404 271.062 Q96.3484 275.645 90.5383 275.645 Q84.7281 275.645 81.6494 271.062 Q78.5939 266.455 78.5939 257.728 Q78.5939 248.978 81.6494 244.395 Q84.7281 239.789 90.5383 239.789 Z\" fill=\"#000000\" fill-rule=\"evenodd\" fill-opacity=\"1\" /><path clip-path=\"url(#clip970)\" d=\"M 0 0 M107.552 269.094 L112.436 269.094 L112.436 274.974 L107.552 274.974 L107.552 269.094 Z\" fill=\"#000000\" fill-rule=\"evenodd\" fill-opacity=\"1\" /><path clip-path=\"url(#clip970)\" d=\"M 0 0 M128.084 255.83 Q124.936 255.83 123.084 257.983 Q121.256 260.136 121.256 263.886 Q121.256 267.613 123.084 269.789 Q124.936 271.941 128.084 271.941 Q131.233 271.941 133.061 269.789 Q134.913 267.613 134.913 263.886 Q134.913 260.136 133.061 257.983 Q131.233 255.83 128.084 255.83 M137.367 241.178 L137.367 245.437 Q135.607 244.603 133.802 244.164 Q132.02 243.724 130.26 243.724 Q125.631 243.724 123.177 246.849 Q120.746 249.974 120.399 256.293 Q121.765 254.279 123.825 253.215 Q125.885 252.127 128.362 252.127 Q133.57 252.127 136.58 255.298 Q139.612 258.446 139.612 263.886 Q139.612 269.21 136.464 272.427 Q133.316 275.645 128.084 275.645 Q122.089 275.645 118.918 271.062 Q115.746 266.455 115.746 257.728 Q115.746 249.534 119.635 244.673 Q123.524 239.789 130.075 239.789 Q131.834 239.789 133.617 240.136 Q135.422 240.483 137.367 241.178 Z\" fill=\"#000000\" fill-rule=\"evenodd\" fill-opacity=\"1\" /><polyline clip-path=\"url(#clip972)\" style=\"stroke:#009af9; stroke-width:4; stroke-opacity:1; fill:none\" points=\"\n  225.569,1445.72 266.874,1418.56 308.178,1391.41 349.483,1364.25 390.787,1337.1 432.092,1309.94 473.397,1282.79 514.701,1255.63 556.006,1228.48 597.31,1201.32 \n  638.615,1174.17 679.92,1147.01 721.224,1119.86 762.529,1092.7 803.833,1065.55 845.138,1038.39 886.443,1011.24 927.747,984.084 969.052,956.93 1010.36,929.775 \n  1051.66,902.62 1092.97,875.465 1134.27,848.31 1175.57,821.156 1216.88,794.001 1258.18,766.846 1299.49,739.691 1340.79,712.536 1382.1,685.382 1423.4,658.227 \n  1464.71,631.072 1506.01,603.917 1547.32,576.762 1588.62,549.608 1629.93,522.453 1671.23,495.298 1712.53,468.143 1753.84,440.989 1795.14,413.834 1836.45,386.679 \n  1877.75,359.524 1919.06,332.369 1960.36,305.215 2001.67,278.06 2042.97,250.905 2084.28,223.75 2125.58,196.595 2166.89,169.441 2208.19,142.286 2249.49,115.131 \n  2290.8,87.9763 \n  \"/>\n<path clip-path=\"url(#clip970)\" d=\"\nM1861.13 251.724 L2280.76 251.724 L2280.76 130.764 L1861.13 130.764  Z\n  \" fill=\"#ffffff\" fill-rule=\"evenodd\" fill-opacity=\"1\"/>\n<polyline clip-path=\"url(#clip970)\" style=\"stroke:#000000; stroke-width:4; stroke-opacity:1; fill:none\" points=\"\n  1861.13,251.724 2280.76,251.724 2280.76,130.764 1861.13,130.764 1861.13,251.724 \n  \"/>\n<polyline clip-path=\"url(#clip970)\" style=\"stroke:#009af9; stroke-width:4; stroke-opacity:1; fill:none\" points=\"\n  1885.13,191.244 2029.13,191.244 \n  \"/>\n<path clip-path=\"url(#clip970)\" d=\"M 0 0 M2053.13 193.64 L2065.6 193.64 L2065.6 197.436 L2053.13 197.436 L2053.13 193.64 Z\" fill=\"#000000\" fill-rule=\"evenodd\" fill-opacity=\"1\" /><path clip-path=\"url(#clip970)\" d=\"M 0 0 M2070.72 173.964 L2089.08 173.964 L2089.08 177.899 L2075 177.899 L2075 186.371 Q2076.02 186.024 2077.04 185.862 Q2078.06 185.677 2079.08 185.677 Q2084.86 185.677 2088.24 188.848 Q2091.62 192.02 2091.62 197.436 Q2091.62 203.015 2088.15 206.117 Q2084.68 209.195 2078.36 209.195 Q2076.18 209.195 2073.91 208.825 Q2071.67 208.455 2069.26 207.714 L2069.26 203.015 Q2071.34 204.149 2073.57 204.705 Q2075.79 205.26 2078.27 205.26 Q2082.27 205.26 2084.61 203.154 Q2086.95 201.047 2086.95 197.436 Q2086.95 193.825 2084.61 191.719 Q2082.27 189.612 2078.27 189.612 Q2076.39 189.612 2074.52 190.029 Q2072.66 190.445 2070.72 191.325 L2070.72 173.964 Z\" fill=\"#000000\" fill-rule=\"evenodd\" fill-opacity=\"1\" /><path clip-path=\"url(#clip970)\" d=\"M 0 0 M2128.5 178.802 L2128.5 191.695 L2141.39 191.695 L2141.39 195.631 L2128.5 195.631 L2128.5 208.524 L2124.61 208.524 L2124.61 195.631 L2111.71 195.631 L2111.71 191.695 L2124.61 191.695 L2124.61 178.802 L2128.5 178.802 Z\" fill=\"#000000\" fill-rule=\"evenodd\" fill-opacity=\"1\" /><path clip-path=\"url(#clip970)\" d=\"M 0 0 M2174.38 178.038 L2162.57 196.487 L2174.38 196.487 L2174.38 178.038 M2173.15 173.964 L2179.03 173.964 L2179.03 196.487 L2183.96 196.487 L2183.96 200.376 L2179.03 200.376 L2179.03 208.524 L2174.38 208.524 L2174.38 200.376 L2158.77 200.376 L2158.77 195.862 L2173.15 173.964 Z\" fill=\"#000000\" fill-rule=\"evenodd\" fill-opacity=\"1\" /><path clip-path=\"url(#clip970)\" d=\"M 0 0 M2206.25 179.659 L2197.94 184.149 L2206.25 188.663 L2204.91 190.932 L2197.13 186.233 L2197.13 194.959 L2194.49 194.959 L2194.49 186.233 L2186.71 190.932 L2185.37 188.663 L2193.68 184.149 L2185.37 179.659 L2186.71 177.367 L2194.49 182.066 L2194.49 173.339 L2197.13 173.339 L2197.13 182.066 L2204.91 177.367 L2206.25 179.659 Z\" fill=\"#000000\" fill-rule=\"evenodd\" fill-opacity=\"1\" /><path clip-path=\"url(#clip970)\" d=\"M 0 0 M2232.27 182.598 L2222.89 195.214 L2232.76 208.524 L2227.73 208.524 L2220.19 198.339 L2212.64 208.524 L2207.62 208.524 L2217.69 194.959 L2208.47 182.598 L2213.5 182.598 L2220.37 191.834 L2227.25 182.598 L2232.27 182.598 Z\" fill=\"#000000\" fill-rule=\"evenodd\" fill-opacity=\"1\" /></svg>\n"
     },
     "metadata": {},
     "execution_count": 8
    }
   ],
   "metadata": {}
  },
  {
   "cell_type": "code",
   "execution_count": 5,
   "source": [
    "#ex 4\n",
    "function newtonsmethod(p::Polynomial, x_0; tolerance = 1E-7, maxiter = 100)\n",
    "    x_old = x_0;\n",
    "    normdiff = Inf\n",
    "    iter = 1\n",
    "    f=p\n",
    "    p′=derivative(f)\n",
    "    while normdiff > tolerance && iter <= maxiter\n",
    "        x_new = x_old - f(x_old)/p′(x_old) # use the passed in map\n",
    "        normdiff = norm(x_new - x_old)\n",
    "        x_old = x_new\n",
    "        iter = iter + 1\n",
    "    end\n",
    "    return (value = x_old, normdiff=normdiff, iter=iter) # A named tuple\n",
    "end\n",
    "f(x)= (x-1)^3;\n",
    "f_pr(x) = 3(x-1)^2;\n",
    "p = Polynomial([2, -5, 2], :x)\n",
    "@show roots(p)\n",
    "@show newtonsmethod(p,0.5)"
   ],
   "outputs": [
    {
     "output_type": "stream",
     "name": "stdout",
     "text": [
      "roots(p) = [0.5, 2.0]\n",
      "newtonsmethod(p, 0.5) = (value = 0.5, normdiff = 0.0, iter = 2)\n"
     ]
    },
    {
     "output_type": "execute_result",
     "data": {
      "text/plain": [
       "(value = 0.5, normdiff = 0.0, iter = 2)"
      ]
     },
     "metadata": {},
     "execution_count": 5
    }
   ],
   "metadata": {}
  },
  {
   "cell_type": "code",
   "execution_count": 67,
   "source": [
    "nt = (t = 1, col1 = 3.0)\n",
    "df2 = DataFrame([nt])\n",
    "push!(df2, (t=3, col1 = 4.0))\n",
    "\n",
    "commodities = [\"crude\", \"gas\", \"gold\", \"silver\"]\n",
    "last_price = [4.2, 11.3, 12.1, missing]\n",
    "df = DataFrame(commod = commodities, price = last_price)"
   ],
   "outputs": [
    {
     "output_type": "execute_result",
     "data": {
      "text/plain": [
       "4×2 DataFrame\n",
       "│ Row │ commod │ price    │\n",
       "│     │ \u001b[90mString\u001b[39m │ \u001b[90mFloat64?\u001b[39m │\n",
       "├─────┼────────┼──────────┤\n",
       "│ 1   │ crude  │ 4.2      │\n",
       "│ 2   │ gas    │ 11.3     │\n",
       "│ 3   │ gold   │ 12.1     │\n",
       "│ 4   │ silver │ \u001b[90mmissing\u001b[39m  │"
      ],
      "text/latex": [
       "\\begin{tabular}{r|cc}\n",
       "\t& commod & price\\\\\n",
       "\t\\hline\n",
       "\t& String & Float64?\\\\\n",
       "\t\\hline\n",
       "\t1 & crude & 4.2 \\\\\n",
       "\t2 & gas & 11.3 \\\\\n",
       "\t3 & gold & 12.1 \\\\\n",
       "\t4 & silver & \\emph{missing} \\\\\n",
       "\\end{tabular}\n"
      ],
      "text/html": [
       "<table class=\"data-frame\"><thead><tr><th></th><th>commod</th><th>price</th></tr><tr><th></th><th>String</th><th>Float64?</th></tr></thead><tbody><p>4 rows × 2 columns</p><tr><th>1</th><td>crude</td><td>4.2</td></tr><tr><th>2</th><td>gas</td><td>11.3</td></tr><tr><th>3</th><td>gold</td><td>12.1</td></tr><tr><th>4</th><td>silver</td><td><em>missing</em></td></tr></tbody></table>"
      ]
     },
     "metadata": {},
     "execution_count": 67
    }
   ],
   "metadata": {}
  },
  {
   "cell_type": "code",
   "execution_count": 73,
   "source": [
    "allowmissing!(df2,:col1)\n",
    "push!(df2, (t=3, col1 = missing))\n",
    "push!(df2, (t=4, col1 = 5.1))"
   ],
   "outputs": [
    {
     "output_type": "execute_result",
     "data": {
      "text/plain": [
       "4×2 DataFrame\n",
       "│ Row │ t     │ col1     │\n",
       "│     │ \u001b[90mInt64\u001b[39m │ \u001b[90mFloat64?\u001b[39m │\n",
       "├─────┼───────┼──────────┤\n",
       "│ 1   │ 1     │ 3.0      │\n",
       "│ 2   │ 3     │ 4.0      │\n",
       "│ 3   │ 3     │ \u001b[90mmissing\u001b[39m  │\n",
       "│ 4   │ 4     │ 5.1      │"
      ],
      "text/latex": [
       "\\begin{tabular}{r|cc}\n",
       "\t& t & col1\\\\\n",
       "\t\\hline\n",
       "\t& Int64 & Float64?\\\\\n",
       "\t\\hline\n",
       "\t1 & 1 & 3.0 \\\\\n",
       "\t2 & 3 & 4.0 \\\\\n",
       "\t3 & 3 & \\emph{missing} \\\\\n",
       "\t4 & 4 & 5.1 \\\\\n",
       "\\end{tabular}\n"
      ],
      "text/html": [
       "<table class=\"data-frame\"><thead><tr><th></th><th>t</th><th>col1</th></tr><tr><th></th><th>Int64</th><th>Float64?</th></tr></thead><tbody><p>4 rows × 2 columns</p><tr><th>1</th><td>1</td><td>3.0</td></tr><tr><th>2</th><td>3</td><td>4.0</td></tr><tr><th>3</th><td>3</td><td><em>missing</em></td></tr><tr><th>4</th><td>4</td><td>5.1</td></tr></tbody></table>"
      ]
     },
     "metadata": {},
     "execution_count": 73
    }
   ],
   "metadata": {}
  },
  {
   "cell_type": "code",
   "execution_count": 77,
   "source": [
    "# describe(df2.col1)\n",
    "@show mean(df2.col1)\n",
    "@show mean(skipmissing(df2.col1))\n",
    "@show mean(coalesce.(df2.col1,0))\n",
    "f(x) = x^2\n",
    "df3 = @transform(df2, col2 = f.(:col1))"
   ],
   "outputs": [
    {
     "output_type": "stream",
     "name": "stdout",
     "text": [
      "mean(df2.col1) = missing\n",
      "mean(skipmissing(df2.col1)) = 4.033333333333333\n",
      "mean(coalesce.(df2.col1, 0)) = 3.025\n"
     ]
    },
    {
     "output_type": "execute_result",
     "data": {
      "text/plain": [
       "4×3 DataFrame\n",
       "│ Row │ t     │ col1     │ col2     │\n",
       "│     │ \u001b[90mInt64\u001b[39m │ \u001b[90mFloat64?\u001b[39m │ \u001b[90mFloat64?\u001b[39m │\n",
       "├─────┼───────┼──────────┼──────────┤\n",
       "│ 1   │ 1     │ 3.0      │ 9.0      │\n",
       "│ 2   │ 3     │ 4.0      │ 16.0     │\n",
       "│ 3   │ 3     │ \u001b[90mmissing\u001b[39m  │ \u001b[90mmissing\u001b[39m  │\n",
       "│ 4   │ 4     │ 5.1      │ 26.01    │"
      ],
      "text/latex": [
       "\\begin{tabular}{r|ccc}\n",
       "\t& t & col1 & col2\\\\\n",
       "\t\\hline\n",
       "\t& Int64 & Float64? & Float64?\\\\\n",
       "\t\\hline\n",
       "\t1 & 1 & 3.0 & 9.0 \\\\\n",
       "\t2 & 3 & 4.0 & 16.0 \\\\\n",
       "\t3 & 3 & \\emph{missing} & \\emph{missing} \\\\\n",
       "\t4 & 4 & 5.1 & 26.01 \\\\\n",
       "\\end{tabular}\n"
      ],
      "text/html": [
       "<table class=\"data-frame\"><thead><tr><th></th><th>t</th><th>col1</th><th>col2</th></tr><tr><th></th><th>Int64</th><th>Float64?</th><th>Float64?</th></tr></thead><tbody><p>4 rows × 3 columns</p><tr><th>1</th><td>1</td><td>3.0</td><td>9.0</td></tr><tr><th>2</th><td>3</td><td>4.0</td><td>16.0</td></tr><tr><th>3</th><td>3</td><td><em>missing</em></td><td><em>missing</em></td></tr><tr><th>4</th><td>4</td><td>5.1</td><td>26.01</td></tr></tbody></table>"
      ]
     },
     "metadata": {},
     "execution_count": 77
    }
   ],
   "metadata": {}
  },
  {
   "cell_type": "code",
   "execution_count": 81,
   "source": [
    "id = [1, 2, 3, 4]\n",
    "y = [\"old\", \"young\", \"young\", \"old\"]\n",
    "y = CategoricalArray(y)\n",
    "df4 = DataFrame(id=id, y=y)\n",
    "# levels(df4.y)\\\n",
    "(df4.y)"
   ],
   "outputs": [
    {
     "output_type": "execute_result",
     "data": {
      "text/plain": [
       "4-element CategoricalArray{String,1,UInt32}:\n",
       " \"old\"\n",
       " \"young\"\n",
       " \"young\"\n",
       " \"old\""
      ]
     },
     "metadata": {},
     "execution_count": 81
    }
   ],
   "metadata": {}
  },
  {
   "cell_type": "code",
   "execution_count": 83,
   "source": [
    "using Query\n",
    "\n",
    "df = DataFrame(name=[\"John\", \"Sally\", \"Kirk\"], age=[23., 42., 59.], children=[3,5,2])\n",
    "\n",
    "x = @from i in df begin\n",
    "    @where i.age>40\n",
    "    @select {i.name, i.children}\n",
    "    @collect DataFrame\n",
    "end"
   ],
   "outputs": [
    {
     "output_type": "execute_result",
     "data": {
      "text/plain": [
       "2×2 DataFrame\n",
       "│ Row │ name   │ children │\n",
       "│     │ \u001b[90mString\u001b[39m │ \u001b[90mInt64\u001b[39m    │\n",
       "├─────┼────────┼──────────┤\n",
       "│ 1   │ Sally  │ 5        │\n",
       "│ 2   │ Kirk   │ 2        │"
      ],
      "text/latex": [
       "\\begin{tabular}{r|cc}\n",
       "\t& name & children\\\\\n",
       "\t\\hline\n",
       "\t& String & Int64\\\\\n",
       "\t\\hline\n",
       "\t1 & Sally & 5 \\\\\n",
       "\t2 & Kirk & 2 \\\\\n",
       "\\end{tabular}\n"
      ],
      "text/html": [
       "<table class=\"data-frame\"><thead><tr><th></th><th>name</th><th>children</th></tr><tr><th></th><th>String</th><th>Int64</th></tr></thead><tbody><p>2 rows × 2 columns</p><tr><th>1</th><td>Sally</td><td>5</td></tr><tr><th>2</th><td>Kirk</td><td>2</td></tr></tbody></table>"
      ]
     },
     "metadata": {},
     "execution_count": 83
    }
   ],
   "metadata": {}
  },
  {
   "cell_type": "code",
   "execution_count": 84,
   "source": [
    "iris = dataset(\"datasets\", \"iris\")\n",
    "\n",
    "iris |> @vlplot(\n",
    "    :point,\n",
    "    x=:PetalLength,\n",
    "    y=:PetalWidth,\n",
    "    color=:Species\n",
    ")"
   ],
   "outputs": [
    {
     "output_type": "stream",
     "name": "stderr",
     "text": [
      "WARN Missing type for channel \"color\", using \"nominal\" instead.\n",
      "WARN Missing type for channel \"color\", using \"nominal\" instead.\n"
     ]
    },
    {
     "output_type": "execute_result",
     "data": {
      "text/plain": [
       "@vlplot(\n",
       "    mark=\"point\",\n",
       "    encoding={\n",
       "        x={\n",
       "            field=\"PetalLength\"\n",
       "        },\n",
       "        y={\n",
       "            field=\"PetalWidth\"\n",
       "        },\n",
       "        color={\n",
       "            field=\"Species\"\n",
       "        }\n",
       "    },\n",
       "    data={\n",
       "        values=...\n",
       "    }\n",
       ")"
      ],
      "image/png": "[encoded data removed]",
      "image/svg+xml": "<?xml version=\"1.0\" encoding=\"utf-8\"?>\n<!DOCTYPE svg PUBLIC \"-//W3C//DTD SVG 1.1//EN\" \"http://www.w3.org/Graphics/SVG/1.1/DTD/svg11.dtd\">\n<svg class=\"marks\" width=\"323\" height=\"242\" viewBox=\"0 0 323 242\" version=\"1.1\" xmlns=\"http://www.w3.org/2000/svg\" xmlns:xlink=\"http://www.w3.org/1999/xlink\"><rect width=\"323\" height=\"242\" fill=\"white\"></rect><g fill=\"none\" stroke-miterlimit=\"10\" transform=\"translate(40,5)\"><g class=\"mark-group role-frame root\" role=\"graphics-object\" aria-roledescription=\"group mark container\"><g transform=\"translate(0,0)\"><path class=\"background\" aria-hidden=\"true\" d=\"M0.5,0.5h200v200h-200Z\" stroke=\"#ddd\"></path><g><g class=\"mark-group role-axis\" aria-hidden=\"true\"><g transform=\"translate(0.5,200.5)\"><path class=\"background\" aria-hidden=\"true\" d=\"M0,0h0v0h0Z\" pointer-events=\"none\"></path><g><g class=\"mark-rule role-axis-grid\" pointer-events=\"none\"><line transform=\"translate(0,-200)\" x2=\"0\" y2=\"200\" stroke=\"#ddd\" stroke-width=\"1\" opacity=\"1\"></line><line transform=\"translate(29,-200)\" x2=\"0\" y2=\"200\" stroke=\"#ddd\" stroke-width=\"1\" opacity=\"1\"></line><line transform=\"translate(57,-200)\" x2=\"0\" y2=\"200\" stroke=\"#ddd\" stroke-width=\"1\" opacity=\"1\"></line><line transform=\"translate(86,-200)\" x2=\"0\" y2=\"200\" stroke=\"#ddd\" stroke-width=\"1\" opacity=\"1\"></line><line transform=\"translate(114,-200)\" x2=\"0\" y2=\"200\" stroke=\"#ddd\" stroke-width=\"1\" opacity=\"1\"></line><line transform=\"translate(143,-200)\" x2=\"0\" y2=\"200\" stroke=\"#ddd\" stroke-width=\"1\" opacity=\"1\"></line><line transform=\"translate(171,-200)\" x2=\"0\" y2=\"200\" stroke=\"#ddd\" stroke-width=\"1\" opacity=\"1\"></line><line transform=\"translate(200,-200)\" x2=\"0\" y2=\"200\" stroke=\"#ddd\" stroke-width=\"1\" opacity=\"1\"></line></g></g><path class=\"foreground\" aria-hidden=\"true\" d=\"\" pointer-events=\"none\" display=\"none\"></path></g></g><g class=\"mark-group role-axis\" aria-hidden=\"true\"><g transform=\"translate(0.5,0.5)\"><path class=\"background\" aria-hidden=\"true\" d=\"M0,0h0v0h0Z\" pointer-events=\"none\"></path><g><g class=\"mark-rule role-axis-grid\" pointer-events=\"none\"><line transform=\"translate(0,200)\" x2=\"200\" y2=\"0\" stroke=\"#ddd\" stroke-width=\"1\" opacity=\"1\"></line><line transform=\"translate(0,162)\" x2=\"200\" y2=\"0\" stroke=\"#ddd\" stroke-width=\"1\" opacity=\"1\"></line><line transform=\"translate(0,123)\" x2=\"200\" y2=\"0\" stroke=\"#ddd\" stroke-width=\"1\" opacity=\"1\"></line><line transform=\"translate(0,85)\" x2=\"200\" y2=\"0\" stroke=\"#ddd\" stroke-width=\"1\" opacity=\"1\"></line><line transform=\"translate(0,46)\" x2=\"200\" y2=\"0\" stroke=\"#ddd\" stroke-width=\"1\" opacity=\"1\"></line><line transform=\"translate(0,8)\" x2=\"200\" y2=\"0\" stroke=\"#ddd\" stroke-width=\"1\" opacity=\"1\"></line></g></g><path class=\"foreground\" aria-hidden=\"true\" d=\"\" pointer-events=\"none\" display=\"none\"></path></g></g><g class=\"mark-group role-axis\" role=\"graphics-symbol\" aria-roledescription=\"axis\" aria-label=\"X-axis titled 'PetalLength' for a linear scale with values from 0 to 7\"><g transform=\"translate(0.5,200.5)\"><path class=\"background\" aria-hidden=\"true\" d=\"M0,0h0v0h0Z\" pointer-events=\"none\"></path><g><g class=\"mark-rule role-axis-tick\" pointer-events=\"none\"><line transform=\"translate(0,0)\" x2=\"0\" y2=\"5\" stroke=\"#888\" stroke-width=\"1\" opacity=\"1\"></line><line transform=\"translate(29,0)\" x2=\"0\" y2=\"5\" stroke=\"#888\" stroke-width=\"1\" opacity=\"1\"></line><line transform=\"translate(57,0)\" x2=\"0\" y2=\"5\" stroke=\"#888\" stroke-width=\"1\" opacity=\"1\"></line><line transform=\"translate(86,0)\" x2=\"0\" y2=\"5\" stroke=\"#888\" stroke-width=\"1\" opacity=\"1\"></line><line transform=\"translate(114,0)\" x2=\"0\" y2=\"5\" stroke=\"#888\" stroke-width=\"1\" opacity=\"1\"></line><line transform=\"translate(143,0)\" x2=\"0\" y2=\"5\" stroke=\"#888\" stroke-width=\"1\" opacity=\"1\"></line><line transform=\"translate(171,0)\" x2=\"0\" y2=\"5\" stroke=\"#888\" stroke-width=\"1\" opacity=\"1\"></line><line transform=\"translate(200,0)\" x2=\"0\" y2=\"5\" stroke=\"#888\" stroke-width=\"1\" opacity=\"1\"></line></g><g class=\"mark-text role-axis-label\" pointer-events=\"none\"><text text-anchor=\"start\" transform=\"translate(0,15)\" font-family=\"sans-serif\" font-size=\"10px\" fill=\"#000\" opacity=\"1\">0</text><text text-anchor=\"middle\" transform=\"translate(28.57142857142857,15)\" font-family=\"sans-serif\" font-size=\"10px\" fill=\"#000\" opacity=\"1\">1</text><text text-anchor=\"middle\" transform=\"translate(57.14285714285714,15)\" font-family=\"sans-serif\" font-size=\"10px\" fill=\"#000\" opacity=\"1\">2</text><text text-anchor=\"middle\" transform=\"translate(85.71428571428571,15)\" font-family=\"sans-serif\" font-size=\"10px\" fill=\"#000\" opacity=\"1\">3</text><text text-anchor=\"middle\" transform=\"translate(114.28571428571428,15)\" font-family=\"sans-serif\" font-size=\"10px\" fill=\"#000\" opacity=\"1\">4</text><text text-anchor=\"middle\" transform=\"translate(142.85714285714286,15)\" font-family=\"sans-serif\" font-size=\"10px\" fill=\"#000\" opacity=\"1\">5</text><text text-anchor=\"middle\" transform=\"translate(171.42857142857142,15)\" font-family=\"sans-serif\" font-size=\"10px\" fill=\"#000\" opacity=\"1\">6</text><text text-anchor=\"end\" transform=\"translate(200,15)\" font-family=\"sans-serif\" font-size=\"10px\" fill=\"#000\" opacity=\"1\">7</text></g><g class=\"mark-rule role-axis-domain\" pointer-events=\"none\"><line transform=\"translate(0,0)\" x2=\"200\" y2=\"0\" stroke=\"#888\" stroke-width=\"1\" opacity=\"1\"></line></g><g class=\"mark-text role-axis-title\" pointer-events=\"none\"><text text-anchor=\"middle\" transform=\"translate(100,30)\" font-family=\"sans-serif\" font-size=\"11px\" font-weight=\"bold\" fill=\"#000\" opacity=\"1\">PetalLength</text></g></g><path class=\"foreground\" aria-hidden=\"true\" d=\"\" pointer-events=\"none\" display=\"none\"></path></g></g><g class=\"mark-group role-axis\" role=\"graphics-symbol\" aria-roledescription=\"axis\" aria-label=\"Y-axis titled 'PetalWidth' for a linear scale with values from 0.0 to 2.6\"><g transform=\"translate(0.5,0.5)\"><path class=\"background\" aria-hidden=\"true\" d=\"M0,0h0v0h0Z\" pointer-events=\"none\"></path><g><g class=\"mark-rule role-axis-tick\" pointer-events=\"none\"><line transform=\"translate(0,200)\" x2=\"-5\" y2=\"0\" stroke=\"#888\" stroke-width=\"1\" opacity=\"1\"></line><line transform=\"translate(0,162)\" x2=\"-5\" y2=\"0\" stroke=\"#888\" stroke-width=\"1\" opacity=\"1\"></line><line transform=\"translate(0,123)\" x2=\"-5\" y2=\"0\" stroke=\"#888\" stroke-width=\"1\" opacity=\"1\"></line><line transform=\"translate(0,85)\" x2=\"-5\" y2=\"0\" stroke=\"#888\" stroke-width=\"1\" opacity=\"1\"></line><line transform=\"translate(0,46)\" x2=\"-5\" y2=\"0\" stroke=\"#888\" stroke-width=\"1\" opacity=\"1\"></line><line transform=\"translate(0,8)\" x2=\"-5\" y2=\"0\" stroke=\"#888\" stroke-width=\"1\" opacity=\"1\"></line></g><g class=\"mark-text role-axis-label\" pointer-events=\"none\"><text text-anchor=\"end\" transform=\"translate(-7,203)\" font-family=\"sans-serif\" font-size=\"10px\" fill=\"#000\" opacity=\"1\">0.0</text><text text-anchor=\"end\" transform=\"translate(-7,164.53846153846155)\" font-family=\"sans-serif\" font-size=\"10px\" fill=\"#000\" opacity=\"1\">0.5</text><text text-anchor=\"end\" transform=\"translate(-7,126.07692307692308)\" font-family=\"sans-serif\" font-size=\"10px\" fill=\"#000\" opacity=\"1\">1.0</text><text text-anchor=\"end\" transform=\"translate(-7,87.61538461538463)\" font-family=\"sans-serif\" font-size=\"10px\" fill=\"#000\" opacity=\"1\">1.5</text><text text-anchor=\"end\" transform=\"translate(-7,49.15384615384617)\" font-family=\"sans-serif\" font-size=\"10px\" fill=\"#000\" opacity=\"1\">2.0</text><text text-anchor=\"end\" transform=\"translate(-7,10.69230769230771)\" font-family=\"sans-serif\" font-size=\"10px\" fill=\"#000\" opacity=\"1\">2.5</text></g><g class=\"mark-rule role-axis-domain\" pointer-events=\"none\"><line transform=\"translate(0,200)\" x2=\"0\" y2=\"-200\" stroke=\"#888\" stroke-width=\"1\" opacity=\"1\"></line></g><g class=\"mark-text role-axis-title\" pointer-events=\"none\"><text text-anchor=\"middle\" transform=\"translate(-24,100) rotate(-90) translate(0,-2)\" font-family=\"sans-serif\" font-size=\"11px\" font-weight=\"bold\" fill=\"#000\" opacity=\"1\">PetalWidth</text></g></g><path class=\"foreground\" aria-hidden=\"true\" d=\"\" pointer-events=\"none\" display=\"none\"></path></g></g><g class=\"mark-symbol role-mark marks\" role=\"graphics-object\" aria-roledescription=\"symbol mark container\"><path aria-label=\"PetalLength: 1.4; PetalWidth: 0.2; Species: setosa\" role=\"graphics-symbol\" aria-roledescription=\"point\" transform=\"translate(40,184.6153846153846)\" d=\"M2.7386127875258306,0A2.7386127875258306,2.7386127875258306,0,1,1,-2.7386127875258306,0A2.7386127875258306,2.7386127875258306,0,1,1,2.7386127875258306,0\" stroke=\"#4c78a8\" stroke-width=\"2\" opacity=\"0.7\"></path><path aria-label=\"PetalLength: 1.4; PetalWidth: 0.2; Species: setosa\" role=\"graphics-symbol\" aria-roledescription=\"point\" transform=\"translate(40,184.6153846153846)\" d=\"M2.7386127875258306,0A2.7386127875258306,2.7386127875258306,0,1,1,-2.7386127875258306,0A2.7386127875258306,2.7386127875258306,0,1,1,2.7386127875258306,0\" stroke=\"#4c78a8\" stroke-width=\"2\" opacity=\"0.7\"></path><path aria-label=\"PetalLength: 1.3; PetalWidth: 0.2; Species: setosa\" role=\"graphics-symbol\" aria-roledescription=\"point\" transform=\"translate(37.142857142857146,184.6153846153846)\" d=\"M2.7386127875258306,0A2.7386127875258306,2.7386127875258306,0,1,1,-2.7386127875258306,0A2.7386127875258306,2.7386127875258306,0,1,1,2.7386127875258306,0\" stroke=\"#4c78a8\" stroke-width=\"2\" opacity=\"0.7\"></path><path aria-label=\"PetalLength: 1.5; PetalWidth: 0.2; Species: setosa\" role=\"graphics-symbol\" aria-roledescription=\"point\" transform=\"translate(42.857142857142854,184.6153846153846)\" d=\"M2.7386127875258306,0A2.7386127875258306,2.7386127875258306,0,1,1,-2.7386127875258306,0A2.7386127875258306,2.7386127875258306,0,1,1,2.7386127875258306,0\" stroke=\"#4c78a8\" stroke-width=\"2\" opacity=\"0.7\"></path><path aria-label=\"PetalLength: 1.4; PetalWidth: 0.2; Species: setosa\" role=\"graphics-symbol\" aria-roledescription=\"point\" transform=\"translate(40,184.6153846153846)\" d=\"M2.7386127875258306,0A2.7386127875258306,2.7386127875258306,0,1,1,-2.7386127875258306,0A2.7386127875258306,2.7386127875258306,0,1,1,2.7386127875258306,0\" stroke=\"#4c78a8\" stroke-width=\"2\" opacity=\"0.7\"></path><path aria-label=\"PetalLength: 1.7; PetalWidth: 0.4; Species: setosa\" role=\"graphics-symbol\" aria-roledescription=\"point\" transform=\"translate(48.57142857142857,169.23076923076923)\" d=\"M2.7386127875258306,0A2.7386127875258306,2.7386127875258306,0,1,1,-2.7386127875258306,0A2.7386127875258306,2.7386127875258306,0,1,1,2.7386127875258306,0\" stroke=\"#4c78a8\" stroke-width=\"2\" opacity=\"0.7\"></path><path aria-label=\"PetalLength: 1.4; PetalWidth: 0.3; Species: setosa\" role=\"graphics-symbol\" aria-roledescription=\"point\" transform=\"translate(40,176.9230769230769)\" d=\"M2.7386127875258306,0A2.7386127875258306,2.7386127875258306,0,1,1,-2.7386127875258306,0A2.7386127875258306,2.7386127875258306,0,1,1,2.7386127875258306,0\" stroke=\"#4c78a8\" stroke-width=\"2\" opacity=\"0.7\"></path><path aria-label=\"PetalLength: 1.5; PetalWidth: 0.2; Species: setosa\" role=\"graphics-symbol\" aria-roledescription=\"point\" transform=\"translate(42.857142857142854,184.6153846153846)\" d=\"M2.7386127875258306,0A2.7386127875258306,2.7386127875258306,0,1,1,-2.7386127875258306,0A2.7386127875258306,2.7386127875258306,0,1,1,2.7386127875258306,0\" stroke=\"#4c78a8\" stroke-width=\"2\" opacity=\"0.7\"></path><path aria-label=\"PetalLength: 1.4; PetalWidth: 0.2; Species: setosa\" role=\"graphics-symbol\" aria-roledescription=\"point\" transform=\"translate(40,184.6153846153846)\" d=\"M2.7386127875258306,0A2.7386127875258306,2.7386127875258306,0,1,1,-2.7386127875258306,0A2.7386127875258306,2.7386127875258306,0,1,1,2.7386127875258306,0\" stroke=\"#4c78a8\" stroke-width=\"2\" opacity=\"0.7\"></path><path aria-label=\"PetalLength: 1.5; PetalWidth: 0.1; Species: setosa\" role=\"graphics-symbol\" aria-roledescription=\"point\" transform=\"translate(42.857142857142854,192.30769230769232)\" d=\"M2.7386127875258306,0A2.7386127875258306,2.7386127875258306,0,1,1,-2.7386127875258306,0A2.7386127875258306,2.7386127875258306,0,1,1,2.7386127875258306,0\" stroke=\"#4c78a8\" stroke-width=\"2\" opacity=\"0.7\"></path><path aria-label=\"PetalLength: 1.5; PetalWidth: 0.2; Species: setosa\" role=\"graphics-symbol\" aria-roledescription=\"point\" transform=\"translate(42.857142857142854,184.6153846153846)\" d=\"M2.7386127875258306,0A2.7386127875258306,2.7386127875258306,0,1,1,-2.7386127875258306,0A2.7386127875258306,2.7386127875258306,0,1,1,2.7386127875258306,0\" stroke=\"#4c78a8\" stroke-width=\"2\" opacity=\"0.7\"></path><path aria-label=\"PetalLength: 1.6; PetalWidth: 0.2; Species: setosa\" role=\"graphics-symbol\" aria-roledescription=\"point\" transform=\"translate(45.714285714285715,184.6153846153846)\" d=\"M2.7386127875258306,0A2.7386127875258306,2.7386127875258306,0,1,1,-2.7386127875258306,0A2.7386127875258306,2.7386127875258306,0,1,1,2.7386127875258306,0\" stroke=\"#4c78a8\" stroke-width=\"2\" opacity=\"0.7\"></path><path aria-label=\"PetalLength: 1.4; PetalWidth: 0.1; Species: setosa\" role=\"graphics-symbol\" aria-roledescription=\"point\" transform=\"translate(40,192.30769230769232)\" d=\"M2.7386127875258306,0A2.7386127875258306,2.7386127875258306,0,1,1,-2.7386127875258306,0A2.7386127875258306,2.7386127875258306,0,1,1,2.7386127875258306,0\" stroke=\"#4c78a8\" stroke-width=\"2\" opacity=\"0.7\"></path><path aria-label=\"PetalLength: 1.1; PetalWidth: 0.1; Species: setosa\" role=\"graphics-symbol\" aria-roledescription=\"point\" transform=\"translate(31.428571428571434,192.30769230769232)\" d=\"M2.7386127875258306,0A2.7386127875258306,2.7386127875258306,0,1,1,-2.7386127875258306,0A2.7386127875258306,2.7386127875258306,0,1,1,2.7386127875258306,0\" stroke=\"#4c78a8\" stroke-width=\"2\" opacity=\"0.7\"></path><path aria-label=\"PetalLength: 1.2; PetalWidth: 0.2; Species: setosa\" role=\"graphics-symbol\" aria-roledescription=\"point\" transform=\"translate(34.285714285714285,184.6153846153846)\" d=\"M2.7386127875258306,0A2.7386127875258306,2.7386127875258306,0,1,1,-2.7386127875258306,0A2.7386127875258306,2.7386127875258306,0,1,1,2.7386127875258306,0\" stroke=\"#4c78a8\" stroke-width=\"2\" opacity=\"0.7\"></path><path aria-label=\"PetalLength: 1.5; PetalWidth: 0.4; Species: setosa\" role=\"graphics-symbol\" aria-roledescription=\"point\" transform=\"translate(42.857142857142854,169.23076923076923)\" d=\"M2.7386127875258306,0A2.7386127875258306,2.7386127875258306,0,1,1,-2.7386127875258306,0A2.7386127875258306,2.7386127875258306,0,1,1,2.7386127875258306,0\" stroke=\"#4c78a8\" stroke-width=\"2\" opacity=\"0.7\"></path><path aria-label=\"PetalLength: 1.3; PetalWidth: 0.4; Species: setosa\" role=\"graphics-symbol\" aria-roledescription=\"point\" transform=\"translate(37.142857142857146,169.23076923076923)\" d=\"M2.7386127875258306,0A2.7386127875258306,2.7386127875258306,0,1,1,-2.7386127875258306,0A2.7386127875258306,2.7386127875258306,0,1,1,2.7386127875258306,0\" stroke=\"#4c78a8\" stroke-width=\"2\" opacity=\"0.7\"></path><path aria-label=\"PetalLength: 1.4; PetalWidth: 0.3; Species: setosa\" role=\"graphics-symbol\" aria-roledescription=\"point\" transform=\"translate(40,176.9230769230769)\" d=\"M2.7386127875258306,0A2.7386127875258306,2.7386127875258306,0,1,1,-2.7386127875258306,0A2.7386127875258306,2.7386127875258306,0,1,1,2.7386127875258306,0\" stroke=\"#4c78a8\" stroke-width=\"2\" opacity=\"0.7\"></path><path aria-label=\"PetalLength: 1.7; PetalWidth: 0.3; Species: setosa\" role=\"graphics-symbol\" aria-roledescription=\"point\" transform=\"translate(48.57142857142857,176.9230769230769)\" d=\"M2.7386127875258306,0A2.7386127875258306,2.7386127875258306,0,1,1,-2.7386127875258306,0A2.7386127875258306,2.7386127875258306,0,1,1,2.7386127875258306,0\" stroke=\"#4c78a8\" stroke-width=\"2\" opacity=\"0.7\"></path><path aria-label=\"PetalLength: 1.5; PetalWidth: 0.3; Species: setosa\" role=\"graphics-symbol\" aria-roledescription=\"point\" transform=\"translate(42.857142857142854,176.9230769230769)\" d=\"M2.7386127875258306,0A2.7386127875258306,2.7386127875258306,0,1,1,-2.7386127875258306,0A2.7386127875258306,2.7386127875258306,0,1,1,2.7386127875258306,0\" stroke=\"#4c78a8\" stroke-width=\"2\" opacity=\"0.7\"></path><path aria-label=\"PetalLength: 1.7; PetalWidth: 0.2; Species: setosa\" role=\"graphics-symbol\" aria-roledescription=\"point\" transform=\"translate(48.57142857142857,184.6153846153846)\" d=\"M2.7386127875258306,0A2.7386127875258306,2.7386127875258306,0,1,1,-2.7386127875258306,0A2.7386127875258306,2.7386127875258306,0,1,1,2.7386127875258306,0\" stroke=\"#4c78a8\" stroke-width=\"2\" opacity=\"0.7\"></path><path aria-label=\"PetalLength: 1.5; PetalWidth: 0.4; Species: setosa\" role=\"graphics-symbol\" aria-roledescription=\"point\" transform=\"translate(42.857142857142854,169.23076923076923)\" d=\"M2.7386127875258306,0A2.7386127875258306,2.7386127875258306,0,1,1,-2.7386127875258306,0A2.7386127875258306,2.7386127875258306,0,1,1,2.7386127875258306,0\" stroke=\"#4c78a8\" stroke-width=\"2\" opacity=\"0.7\"></path><path aria-label=\"PetalLength: 1; PetalWidth: 0.2; Species: setosa\" role=\"graphics-symbol\" aria-roledescription=\"point\" transform=\"translate(28.57142857142857,184.6153846153846)\" d=\"M2.7386127875258306,0A2.7386127875258306,2.7386127875258306,0,1,1,-2.7386127875258306,0A2.7386127875258306,2.7386127875258306,0,1,1,2.7386127875258306,0\" stroke=\"#4c78a8\" stroke-width=\"2\" opacity=\"0.7\"></path><path aria-label=\"PetalLength: 1.7; PetalWidth: 0.5; Species: setosa\" role=\"graphics-symbol\" aria-roledescription=\"point\" transform=\"translate(48.57142857142857,161.53846153846155)\" d=\"M2.7386127875258306,0A2.7386127875258306,2.7386127875258306,0,1,1,-2.7386127875258306,0A2.7386127875258306,2.7386127875258306,0,1,1,2.7386127875258306,0\" stroke=\"#4c78a8\" stroke-width=\"2\" opacity=\"0.7\"></path><path aria-label=\"PetalLength: 1.9; PetalWidth: 0.2; Species: setosa\" role=\"graphics-symbol\" aria-roledescription=\"point\" transform=\"translate(54.285714285714285,184.6153846153846)\" d=\"M2.7386127875258306,0A2.7386127875258306,2.7386127875258306,0,1,1,-2.7386127875258306,0A2.7386127875258306,2.7386127875258306,0,1,1,2.7386127875258306,0\" stroke=\"#4c78a8\" stroke-width=\"2\" opacity=\"0.7\"></path><path aria-label=\"PetalLength: 1.6; PetalWidth: 0.2; Species: setosa\" role=\"graphics-symbol\" aria-roledescription=\"point\" transform=\"translate(45.714285714285715,184.6153846153846)\" d=\"M2.7386127875258306,0A2.7386127875258306,2.7386127875258306,0,1,1,-2.7386127875258306,0A2.7386127875258306,2.7386127875258306,0,1,1,2.7386127875258306,0\" stroke=\"#4c78a8\" stroke-width=\"2\" opacity=\"0.7\"></path><path aria-label=\"PetalLength: 1.6; PetalWidth: 0.4; Species: setosa\" role=\"graphics-symbol\" aria-roledescription=\"point\" transform=\"translate(45.714285714285715,169.23076923076923)\" d=\"M2.7386127875258306,0A2.7386127875258306,2.7386127875258306,0,1,1,-2.7386127875258306,0A2.7386127875258306,2.7386127875258306,0,1,1,2.7386127875258306,0\" stroke=\"#4c78a8\" stroke-width=\"2\" opacity=\"0.7\"></path><path aria-label=\"PetalLength: 1.5; PetalWidth: 0.2; Species: setosa\" role=\"graphics-symbol\" aria-roledescription=\"point\" transform=\"translate(42.857142857142854,184.6153846153846)\" d=\"M2.7386127875258306,0A2.7386127875258306,2.7386127875258306,0,1,1,-2.7386127875258306,0A2.7386127875258306,2.7386127875258306,0,1,1,2.7386127875258306,0\" stroke=\"#4c78a8\" stroke-width=\"2\" opacity=\"0.7\"></path><path aria-label=\"PetalLength: 1.4; PetalWidth: 0.2; Species: setosa\" role=\"graphics-symbol\" aria-roledescription=\"point\" transform=\"translate(40,184.6153846153846)\" d=\"M2.7386127875258306,0A2.7386127875258306,2.7386127875258306,0,1,1,-2.7386127875258306,0A2.7386127875258306,2.7386127875258306,0,1,1,2.7386127875258306,0\" stroke=\"#4c78a8\" stroke-width=\"2\" opacity=\"0.7\"></path><path aria-label=\"PetalLength: 1.6; PetalWidth: 0.2; Species: setosa\" role=\"graphics-symbol\" aria-roledescription=\"point\" transform=\"translate(45.714285714285715,184.6153846153846)\" d=\"M2.7386127875258306,0A2.7386127875258306,2.7386127875258306,0,1,1,-2.7386127875258306,0A2.7386127875258306,2.7386127875258306,0,1,1,2.7386127875258306,0\" stroke=\"#4c78a8\" stroke-width=\"2\" opacity=\"0.7\"></path><path aria-label=\"PetalLength: 1.6; PetalWidth: 0.2; Species: setosa\" role=\"graphics-symbol\" aria-roledescription=\"point\" transform=\"translate(45.714285714285715,184.6153846153846)\" d=\"M2.7386127875258306,0A2.7386127875258306,2.7386127875258306,0,1,1,-2.7386127875258306,0A2.7386127875258306,2.7386127875258306,0,1,1,2.7386127875258306,0\" stroke=\"#4c78a8\" stroke-width=\"2\" opacity=\"0.7\"></path><path aria-label=\"PetalLength: 1.5; PetalWidth: 0.4; Species: setosa\" role=\"graphics-symbol\" aria-roledescription=\"point\" transform=\"translate(42.857142857142854,169.23076923076923)\" d=\"M2.7386127875258306,0A2.7386127875258306,2.7386127875258306,0,1,1,-2.7386127875258306,0A2.7386127875258306,2.7386127875258306,0,1,1,2.7386127875258306,0\" stroke=\"#4c78a8\" stroke-width=\"2\" opacity=\"0.7\"></path><path aria-label=\"PetalLength: 1.5; PetalWidth: 0.1; Species: setosa\" role=\"graphics-symbol\" aria-roledescription=\"point\" transform=\"translate(42.857142857142854,192.30769230769232)\" d=\"M2.7386127875258306,0A2.7386127875258306,2.7386127875258306,0,1,1,-2.7386127875258306,0A2.7386127875258306,2.7386127875258306,0,1,1,2.7386127875258306,0\" stroke=\"#4c78a8\" stroke-width=\"2\" opacity=\"0.7\"></path><path aria-label=\"PetalLength: 1.4; PetalWidth: 0.2; Species: setosa\" role=\"graphics-symbol\" aria-roledescription=\"point\" transform=\"translate(40,184.6153846153846)\" d=\"M2.7386127875258306,0A2.7386127875258306,2.7386127875258306,0,1,1,-2.7386127875258306,0A2.7386127875258306,2.7386127875258306,0,1,1,2.7386127875258306,0\" stroke=\"#4c78a8\" stroke-width=\"2\" opacity=\"0.7\"></path><path aria-label=\"PetalLength: 1.5; PetalWidth: 0.2; Species: setosa\" role=\"graphics-symbol\" aria-roledescription=\"point\" transform=\"translate(42.857142857142854,184.6153846153846)\" d=\"M2.7386127875258306,0A2.7386127875258306,2.7386127875258306,0,1,1,-2.7386127875258306,0A2.7386127875258306,2.7386127875258306,0,1,1,2.7386127875258306,0\" stroke=\"#4c78a8\" stroke-width=\"2\" opacity=\"0.7\"></path><path aria-label=\"PetalLength: 1.2; PetalWidth: 0.2; Species: setosa\" role=\"graphics-symbol\" aria-roledescription=\"point\" transform=\"translate(34.285714285714285,184.6153846153846)\" d=\"M2.7386127875258306,0A2.7386127875258306,2.7386127875258306,0,1,1,-2.7386127875258306,0A2.7386127875258306,2.7386127875258306,0,1,1,2.7386127875258306,0\" stroke=\"#4c78a8\" stroke-width=\"2\" opacity=\"0.7\"></path><path aria-label=\"PetalLength: 1.3; PetalWidth: 0.2; Species: setosa\" role=\"graphics-symbol\" aria-roledescription=\"point\" transform=\"translate(37.142857142857146,184.6153846153846)\" d=\"M2.7386127875258306,0A2.7386127875258306,2.7386127875258306,0,1,1,-2.7386127875258306,0A2.7386127875258306,2.7386127875258306,0,1,1,2.7386127875258306,0\" stroke=\"#4c78a8\" stroke-width=\"2\" opacity=\"0.7\"></path><path aria-label=\"PetalLength: 1.4; PetalWidth: 0.1; Species: setosa\" role=\"graphics-symbol\" aria-roledescription=\"point\" transform=\"translate(40,192.30769230769232)\" d=\"M2.7386127875258306,0A2.7386127875258306,2.7386127875258306,0,1,1,-2.7386127875258306,0A2.7386127875258306,2.7386127875258306,0,1,1,2.7386127875258306,0\" stroke=\"#4c78a8\" stroke-width=\"2\" opacity=\"0.7\"></path><path aria-label=\"PetalLength: 1.3; PetalWidth: 0.2; Species: setosa\" role=\"graphics-symbol\" aria-roledescription=\"point\" transform=\"translate(37.142857142857146,184.6153846153846)\" d=\"M2.7386127875258306,0A2.7386127875258306,2.7386127875258306,0,1,1,-2.7386127875258306,0A2.7386127875258306,2.7386127875258306,0,1,1,2.7386127875258306,0\" stroke=\"#4c78a8\" stroke-width=\"2\" opacity=\"0.7\"></path><path aria-label=\"PetalLength: 1.5; PetalWidth: 0.2; Species: setosa\" role=\"graphics-symbol\" aria-roledescription=\"point\" transform=\"translate(42.857142857142854,184.6153846153846)\" d=\"M2.7386127875258306,0A2.7386127875258306,2.7386127875258306,0,1,1,-2.7386127875258306,0A2.7386127875258306,2.7386127875258306,0,1,1,2.7386127875258306,0\" stroke=\"#4c78a8\" stroke-width=\"2\" opacity=\"0.7\"></path><path aria-label=\"PetalLength: 1.3; PetalWidth: 0.3; Species: setosa\" role=\"graphics-symbol\" aria-roledescription=\"point\" transform=\"translate(37.142857142857146,176.9230769230769)\" d=\"M2.7386127875258306,0A2.7386127875258306,2.7386127875258306,0,1,1,-2.7386127875258306,0A2.7386127875258306,2.7386127875258306,0,1,1,2.7386127875258306,0\" stroke=\"#4c78a8\" stroke-width=\"2\" opacity=\"0.7\"></path><path aria-label=\"PetalLength: 1.3; PetalWidth: 0.3; Species: setosa\" role=\"graphics-symbol\" aria-roledescription=\"point\" transform=\"translate(37.142857142857146,176.9230769230769)\" d=\"M2.7386127875258306,0A2.7386127875258306,2.7386127875258306,0,1,1,-2.7386127875258306,0A2.7386127875258306,2.7386127875258306,0,1,1,2.7386127875258306,0\" stroke=\"#4c78a8\" stroke-width=\"2\" opacity=\"0.7\"></path><path aria-label=\"PetalLength: 1.3; PetalWidth: 0.2; Species: setosa\" role=\"graphics-symbol\" aria-roledescription=\"point\" transform=\"translate(37.142857142857146,184.6153846153846)\" d=\"M2.7386127875258306,0A2.7386127875258306,2.7386127875258306,0,1,1,-2.7386127875258306,0A2.7386127875258306,2.7386127875258306,0,1,1,2.7386127875258306,0\" stroke=\"#4c78a8\" stroke-width=\"2\" opacity=\"0.7\"></path><path aria-label=\"PetalLength: 1.6; PetalWidth: 0.6; Species: setosa\" role=\"graphics-symbol\" aria-roledescription=\"point\" transform=\"translate(45.714285714285715,153.84615384615387)\" d=\"M2.7386127875258306,0A2.7386127875258306,2.7386127875258306,0,1,1,-2.7386127875258306,0A2.7386127875258306,2.7386127875258306,0,1,1,2.7386127875258306,0\" stroke=\"#4c78a8\" stroke-width=\"2\" opacity=\"0.7\"></path><path aria-label=\"PetalLength: 1.9; PetalWidth: 0.4; Species: setosa\" role=\"graphics-symbol\" aria-roledescription=\"point\" transform=\"translate(54.285714285714285,169.23076923076923)\" d=\"M2.7386127875258306,0A2.7386127875258306,2.7386127875258306,0,1,1,-2.7386127875258306,0A2.7386127875258306,2.7386127875258306,0,1,1,2.7386127875258306,0\" stroke=\"#4c78a8\" stroke-width=\"2\" opacity=\"0.7\"></path><path aria-label=\"PetalLength: 1.4; PetalWidth: 0.3; Species: setosa\" role=\"graphics-symbol\" aria-roledescription=\"point\" transform=\"translate(40,176.9230769230769)\" d=\"M2.7386127875258306,0A2.7386127875258306,2.7386127875258306,0,1,1,-2.7386127875258306,0A2.7386127875258306,2.7386127875258306,0,1,1,2.7386127875258306,0\" stroke=\"#4c78a8\" stroke-width=\"2\" opacity=\"0.7\"></path><path aria-label=\"PetalLength: 1.6; PetalWidth: 0.2; Species: setosa\" role=\"graphics-symbol\" aria-roledescription=\"point\" transform=\"translate(45.714285714285715,184.6153846153846)\" d=\"M2.7386127875258306,0A2.7386127875258306,2.7386127875258306,0,1,1,-2.7386127875258306,0A2.7386127875258306,2.7386127875258306,0,1,1,2.7386127875258306,0\" stroke=\"#4c78a8\" stroke-width=\"2\" opacity=\"0.7\"></path><path aria-label=\"PetalLength: 1.4; PetalWidth: 0.2; Species: setosa\" role=\"graphics-symbol\" aria-roledescription=\"point\" transform=\"translate(40,184.6153846153846)\" d=\"M2.7386127875258306,0A2.7386127875258306,2.7386127875258306,0,1,1,-2.7386127875258306,0A2.7386127875258306,2.7386127875258306,0,1,1,2.7386127875258306,0\" stroke=\"#4c78a8\" stroke-width=\"2\" opacity=\"0.7\"></path><path aria-label=\"PetalLength: 1.5; PetalWidth: 0.2; Species: setosa\" role=\"graphics-symbol\" aria-roledescription=\"point\" transform=\"translate(42.857142857142854,184.6153846153846)\" d=\"M2.7386127875258306,0A2.7386127875258306,2.7386127875258306,0,1,1,-2.7386127875258306,0A2.7386127875258306,2.7386127875258306,0,1,1,2.7386127875258306,0\" stroke=\"#4c78a8\" stroke-width=\"2\" opacity=\"0.7\"></path><path aria-label=\"PetalLength: 1.4; PetalWidth: 0.2; Species: setosa\" role=\"graphics-symbol\" aria-roledescription=\"point\" transform=\"translate(40,184.6153846153846)\" d=\"M2.7386127875258306,0A2.7386127875258306,2.7386127875258306,0,1,1,-2.7386127875258306,0A2.7386127875258306,2.7386127875258306,0,1,1,2.7386127875258306,0\" stroke=\"#4c78a8\" stroke-width=\"2\" opacity=\"0.7\"></path><path aria-label=\"PetalLength: 4.7; PetalWidth: 1.4; Species: versicolor\" role=\"graphics-symbol\" aria-roledescription=\"point\" transform=\"translate(134.2857142857143,92.3076923076923)\" d=\"M2.7386127875258306,0A2.7386127875258306,2.7386127875258306,0,1,1,-2.7386127875258306,0A2.7386127875258306,2.7386127875258306,0,1,1,2.7386127875258306,0\" stroke=\"#f58518\" stroke-width=\"2\" opacity=\"0.7\"></path><path aria-label=\"PetalLength: 4.5; PetalWidth: 1.5; Species: versicolor\" role=\"graphics-symbol\" aria-roledescription=\"point\" transform=\"translate(128.57142857142858,84.61538461538463)\" d=\"M2.7386127875258306,0A2.7386127875258306,2.7386127875258306,0,1,1,-2.7386127875258306,0A2.7386127875258306,2.7386127875258306,0,1,1,2.7386127875258306,0\" stroke=\"#f58518\" stroke-width=\"2\" opacity=\"0.7\"></path><path aria-label=\"PetalLength: 4.9; PetalWidth: 1.5; Species: versicolor\" role=\"graphics-symbol\" aria-roledescription=\"point\" transform=\"translate(140,84.61538461538463)\" d=\"M2.7386127875258306,0A2.7386127875258306,2.7386127875258306,0,1,1,-2.7386127875258306,0A2.7386127875258306,2.7386127875258306,0,1,1,2.7386127875258306,0\" stroke=\"#f58518\" stroke-width=\"2\" opacity=\"0.7\"></path><path aria-label=\"PetalLength: 4; PetalWidth: 1.3; Species: versicolor\" role=\"graphics-symbol\" aria-roledescription=\"point\" transform=\"translate(114.28571428571428,100)\" d=\"M2.7386127875258306,0A2.7386127875258306,2.7386127875258306,0,1,1,-2.7386127875258306,0A2.7386127875258306,2.7386127875258306,0,1,1,2.7386127875258306,0\" stroke=\"#f58518\" stroke-width=\"2\" opacity=\"0.7\"></path><path aria-label=\"PetalLength: 4.6; PetalWidth: 1.5; Species: versicolor\" role=\"graphics-symbol\" aria-roledescription=\"point\" transform=\"translate(131.42857142857142,84.61538461538463)\" d=\"M2.7386127875258306,0A2.7386127875258306,2.7386127875258306,0,1,1,-2.7386127875258306,0A2.7386127875258306,2.7386127875258306,0,1,1,2.7386127875258306,0\" stroke=\"#f58518\" stroke-width=\"2\" opacity=\"0.7\"></path><path aria-label=\"PetalLength: 4.5; PetalWidth: 1.3; Species: versicolor\" role=\"graphics-symbol\" aria-roledescription=\"point\" transform=\"translate(128.57142857142858,100)\" d=\"M2.7386127875258306,0A2.7386127875258306,2.7386127875258306,0,1,1,-2.7386127875258306,0A2.7386127875258306,2.7386127875258306,0,1,1,2.7386127875258306,0\" stroke=\"#f58518\" stroke-width=\"2\" opacity=\"0.7\"></path><path aria-label=\"PetalLength: 4.7; PetalWidth: 1.6; Species: versicolor\" role=\"graphics-symbol\" aria-roledescription=\"point\" transform=\"translate(134.2857142857143,76.92307692307692)\" d=\"M2.7386127875258306,0A2.7386127875258306,2.7386127875258306,0,1,1,-2.7386127875258306,0A2.7386127875258306,2.7386127875258306,0,1,1,2.7386127875258306,0\" stroke=\"#f58518\" stroke-width=\"2\" opacity=\"0.7\"></path><path aria-label=\"PetalLength: 3.3; PetalWidth: 1; Species: versicolor\" role=\"graphics-symbol\" aria-roledescription=\"point\" transform=\"translate(94.28571428571428,123.07692307692308)\" d=\"M2.7386127875258306,0A2.7386127875258306,2.7386127875258306,0,1,1,-2.7386127875258306,0A2.7386127875258306,2.7386127875258306,0,1,1,2.7386127875258306,0\" stroke=\"#f58518\" stroke-width=\"2\" opacity=\"0.7\"></path><path aria-label=\"PetalLength: 4.6; PetalWidth: 1.3; Species: versicolor\" role=\"graphics-symbol\" aria-roledescription=\"point\" transform=\"translate(131.42857142857142,100)\" d=\"M2.7386127875258306,0A2.7386127875258306,2.7386127875258306,0,1,1,-2.7386127875258306,0A2.7386127875258306,2.7386127875258306,0,1,1,2.7386127875258306,0\" stroke=\"#f58518\" stroke-width=\"2\" opacity=\"0.7\"></path><path aria-label=\"PetalLength: 3.9; PetalWidth: 1.4; Species: versicolor\" role=\"graphics-symbol\" aria-roledescription=\"point\" transform=\"translate(111.42857142857143,92.3076923076923)\" d=\"M2.7386127875258306,0A2.7386127875258306,2.7386127875258306,0,1,1,-2.7386127875258306,0A2.7386127875258306,2.7386127875258306,0,1,1,2.7386127875258306,0\" stroke=\"#f58518\" stroke-width=\"2\" opacity=\"0.7\"></path><path aria-label=\"PetalLength: 3.5; PetalWidth: 1; Species: versicolor\" role=\"graphics-symbol\" aria-roledescription=\"point\" transform=\"translate(100,123.07692307692308)\" d=\"M2.7386127875258306,0A2.7386127875258306,2.7386127875258306,0,1,1,-2.7386127875258306,0A2.7386127875258306,2.7386127875258306,0,1,1,2.7386127875258306,0\" stroke=\"#f58518\" stroke-width=\"2\" opacity=\"0.7\"></path><path aria-label=\"PetalLength: 4.2; PetalWidth: 1.5; Species: versicolor\" role=\"graphics-symbol\" aria-roledescription=\"point\" transform=\"translate(120,84.61538461538463)\" d=\"M2.7386127875258306,0A2.7386127875258306,2.7386127875258306,0,1,1,-2.7386127875258306,0A2.7386127875258306,2.7386127875258306,0,1,1,2.7386127875258306,0\" stroke=\"#f58518\" stroke-width=\"2\" opacity=\"0.7\"></path><path aria-label=\"PetalLength: 4; PetalWidth: 1; Species: versicolor\" role=\"graphics-symbol\" aria-roledescription=\"point\" transform=\"translate(114.28571428571428,123.07692307692308)\" d=\"M2.7386127875258306,0A2.7386127875258306,2.7386127875258306,0,1,1,-2.7386127875258306,0A2.7386127875258306,2.7386127875258306,0,1,1,2.7386127875258306,0\" stroke=\"#f58518\" stroke-width=\"2\" opacity=\"0.7\"></path><path aria-label=\"PetalLength: 4.7; PetalWidth: 1.4; Species: versicolor\" role=\"graphics-symbol\" aria-roledescription=\"point\" transform=\"translate(134.2857142857143,92.3076923076923)\" d=\"M2.7386127875258306,0A2.7386127875258306,2.7386127875258306,0,1,1,-2.7386127875258306,0A2.7386127875258306,2.7386127875258306,0,1,1,2.7386127875258306,0\" stroke=\"#f58518\" stroke-width=\"2\" opacity=\"0.7\"></path><path aria-label=\"PetalLength: 3.6; PetalWidth: 1.3; Species: versicolor\" role=\"graphics-symbol\" aria-roledescription=\"point\" transform=\"translate(102.85714285714288,100)\" d=\"M2.7386127875258306,0A2.7386127875258306,2.7386127875258306,0,1,1,-2.7386127875258306,0A2.7386127875258306,2.7386127875258306,0,1,1,2.7386127875258306,0\" stroke=\"#f58518\" stroke-width=\"2\" opacity=\"0.7\"></path><path aria-label=\"PetalLength: 4.4; PetalWidth: 1.4; Species: versicolor\" role=\"graphics-symbol\" aria-roledescription=\"point\" transform=\"translate(125.71428571428574,92.3076923076923)\" d=\"M2.7386127875258306,0A2.7386127875258306,2.7386127875258306,0,1,1,-2.7386127875258306,0A2.7386127875258306,2.7386127875258306,0,1,1,2.7386127875258306,0\" stroke=\"#f58518\" stroke-width=\"2\" opacity=\"0.7\"></path><path aria-label=\"PetalLength: 4.5; PetalWidth: 1.5; Species: versicolor\" role=\"graphics-symbol\" aria-roledescription=\"point\" transform=\"translate(128.57142857142858,84.61538461538463)\" d=\"M2.7386127875258306,0A2.7386127875258306,2.7386127875258306,0,1,1,-2.7386127875258306,0A2.7386127875258306,2.7386127875258306,0,1,1,2.7386127875258306,0\" stroke=\"#f58518\" stroke-width=\"2\" opacity=\"0.7\"></path><path aria-label=\"PetalLength: 4.1; PetalWidth: 1; Species: versicolor\" role=\"graphics-symbol\" aria-roledescription=\"point\" transform=\"translate(117.14285714285712,123.07692307692308)\" d=\"M2.7386127875258306,0A2.7386127875258306,2.7386127875258306,0,1,1,-2.7386127875258306,0A2.7386127875258306,2.7386127875258306,0,1,1,2.7386127875258306,0\" stroke=\"#f58518\" stroke-width=\"2\" opacity=\"0.7\"></path><path aria-label=\"PetalLength: 4.5; PetalWidth: 1.5; Species: versicolor\" role=\"graphics-symbol\" aria-roledescription=\"point\" transform=\"translate(128.57142857142858,84.61538461538463)\" d=\"M2.7386127875258306,0A2.7386127875258306,2.7386127875258306,0,1,1,-2.7386127875258306,0A2.7386127875258306,2.7386127875258306,0,1,1,2.7386127875258306,0\" stroke=\"#f58518\" stroke-width=\"2\" opacity=\"0.7\"></path><path aria-label=\"PetalLength: 3.9; PetalWidth: 1.1; Species: versicolor\" role=\"graphics-symbol\" aria-roledescription=\"point\" transform=\"translate(111.42857142857143,115.38461538461537)\" d=\"M2.7386127875258306,0A2.7386127875258306,2.7386127875258306,0,1,1,-2.7386127875258306,0A2.7386127875258306,2.7386127875258306,0,1,1,2.7386127875258306,0\" stroke=\"#f58518\" stroke-width=\"2\" opacity=\"0.7\"></path><path aria-label=\"PetalLength: 4.8; PetalWidth: 1.8; Species: versicolor\" role=\"graphics-symbol\" aria-roledescription=\"point\" transform=\"translate(137.14285714285714,61.53846153846154)\" d=\"M2.7386127875258306,0A2.7386127875258306,2.7386127875258306,0,1,1,-2.7386127875258306,0A2.7386127875258306,2.7386127875258306,0,1,1,2.7386127875258306,0\" stroke=\"#f58518\" stroke-width=\"2\" opacity=\"0.7\"></path><path aria-label=\"PetalLength: 4; PetalWidth: 1.3; Species: versicolor\" role=\"graphics-symbol\" aria-roledescription=\"point\" transform=\"translate(114.28571428571428,100)\" d=\"M2.7386127875258306,0A2.7386127875258306,2.7386127875258306,0,1,1,-2.7386127875258306,0A2.7386127875258306,2.7386127875258306,0,1,1,2.7386127875258306,0\" stroke=\"#f58518\" stroke-width=\"2\" opacity=\"0.7\"></path><path aria-label=\"PetalLength: 4.9; PetalWidth: 1.5; Species: versicolor\" role=\"graphics-symbol\" aria-roledescription=\"point\" transform=\"translate(140,84.61538461538463)\" d=\"M2.7386127875258306,0A2.7386127875258306,2.7386127875258306,0,1,1,-2.7386127875258306,0A2.7386127875258306,2.7386127875258306,0,1,1,2.7386127875258306,0\" stroke=\"#f58518\" stroke-width=\"2\" opacity=\"0.7\"></path><path aria-label=\"PetalLength: 4.7; PetalWidth: 1.2; Species: versicolor\" role=\"graphics-symbol\" aria-roledescription=\"point\" transform=\"translate(134.2857142857143,107.69230769230771)\" d=\"M2.7386127875258306,0A2.7386127875258306,2.7386127875258306,0,1,1,-2.7386127875258306,0A2.7386127875258306,2.7386127875258306,0,1,1,2.7386127875258306,0\" stroke=\"#f58518\" stroke-width=\"2\" opacity=\"0.7\"></path><path aria-label=\"PetalLength: 4.3; PetalWidth: 1.3; Species: versicolor\" role=\"graphics-symbol\" aria-roledescription=\"point\" transform=\"translate(122.85714285714285,100)\" d=\"M2.7386127875258306,0A2.7386127875258306,2.7386127875258306,0,1,1,-2.7386127875258306,0A2.7386127875258306,2.7386127875258306,0,1,1,2.7386127875258306,0\" stroke=\"#f58518\" stroke-width=\"2\" opacity=\"0.7\"></path><path aria-label=\"PetalLength: 4.4; PetalWidth: 1.4; Species: versicolor\" role=\"graphics-symbol\" aria-roledescription=\"point\" transform=\"translate(125.71428571428574,92.3076923076923)\" d=\"M2.7386127875258306,0A2.7386127875258306,2.7386127875258306,0,1,1,-2.7386127875258306,0A2.7386127875258306,2.7386127875258306,0,1,1,2.7386127875258306,0\" stroke=\"#f58518\" stroke-width=\"2\" opacity=\"0.7\"></path><path aria-label=\"PetalLength: 4.8; PetalWidth: 1.4; Species: versicolor\" role=\"graphics-symbol\" aria-roledescription=\"point\" transform=\"translate(137.14285714285714,92.3076923076923)\" d=\"M2.7386127875258306,0A2.7386127875258306,2.7386127875258306,0,1,1,-2.7386127875258306,0A2.7386127875258306,2.7386127875258306,0,1,1,2.7386127875258306,0\" stroke=\"#f58518\" stroke-width=\"2\" opacity=\"0.7\"></path><path aria-label=\"PetalLength: 5; PetalWidth: 1.7; Species: versicolor\" role=\"graphics-symbol\" aria-roledescription=\"point\" transform=\"translate(142.85714285714286,69.23076923076923)\" d=\"M2.7386127875258306,0A2.7386127875258306,2.7386127875258306,0,1,1,-2.7386127875258306,0A2.7386127875258306,2.7386127875258306,0,1,1,2.7386127875258306,0\" stroke=\"#f58518\" stroke-width=\"2\" opacity=\"0.7\"></path><path aria-label=\"PetalLength: 4.5; PetalWidth: 1.5; Species: versicolor\" role=\"graphics-symbol\" aria-roledescription=\"point\" transform=\"translate(128.57142857142858,84.61538461538463)\" d=\"M2.7386127875258306,0A2.7386127875258306,2.7386127875258306,0,1,1,-2.7386127875258306,0A2.7386127875258306,2.7386127875258306,0,1,1,2.7386127875258306,0\" stroke=\"#f58518\" stroke-width=\"2\" opacity=\"0.7\"></path><path aria-label=\"PetalLength: 3.5; PetalWidth: 1; Species: versicolor\" role=\"graphics-symbol\" aria-roledescription=\"point\" transform=\"translate(100,123.07692307692308)\" d=\"M2.7386127875258306,0A2.7386127875258306,2.7386127875258306,0,1,1,-2.7386127875258306,0A2.7386127875258306,2.7386127875258306,0,1,1,2.7386127875258306,0\" stroke=\"#f58518\" stroke-width=\"2\" opacity=\"0.7\"></path><path aria-label=\"PetalLength: 3.8; PetalWidth: 1.1; Species: versicolor\" role=\"graphics-symbol\" aria-roledescription=\"point\" transform=\"translate(108.57142857142857,115.38461538461537)\" d=\"M2.7386127875258306,0A2.7386127875258306,2.7386127875258306,0,1,1,-2.7386127875258306,0A2.7386127875258306,2.7386127875258306,0,1,1,2.7386127875258306,0\" stroke=\"#f58518\" stroke-width=\"2\" opacity=\"0.7\"></path><path aria-label=\"PetalLength: 3.7; PetalWidth: 1; Species: versicolor\" role=\"graphics-symbol\" aria-roledescription=\"point\" transform=\"translate(105.71428571428572,123.07692307692308)\" d=\"M2.7386127875258306,0A2.7386127875258306,2.7386127875258306,0,1,1,-2.7386127875258306,0A2.7386127875258306,2.7386127875258306,0,1,1,2.7386127875258306,0\" stroke=\"#f58518\" stroke-width=\"2\" opacity=\"0.7\"></path><path aria-label=\"PetalLength: 3.9; PetalWidth: 1.2; Species: versicolor\" role=\"graphics-symbol\" aria-roledescription=\"point\" transform=\"translate(111.42857142857143,107.69230769230771)\" d=\"M2.7386127875258306,0A2.7386127875258306,2.7386127875258306,0,1,1,-2.7386127875258306,0A2.7386127875258306,2.7386127875258306,0,1,1,2.7386127875258306,0\" stroke=\"#f58518\" stroke-width=\"2\" opacity=\"0.7\"></path><path aria-label=\"PetalLength: 5.1; PetalWidth: 1.6; Species: versicolor\" role=\"graphics-symbol\" aria-roledescription=\"point\" transform=\"translate(145.7142857142857,76.92307692307692)\" d=\"M2.7386127875258306,0A2.7386127875258306,2.7386127875258306,0,1,1,-2.7386127875258306,0A2.7386127875258306,2.7386127875258306,0,1,1,2.7386127875258306,0\" stroke=\"#f58518\" stroke-width=\"2\" opacity=\"0.7\"></path><path aria-label=\"PetalLength: 4.5; PetalWidth: 1.5; Species: versicolor\" role=\"graphics-symbol\" aria-roledescription=\"point\" transform=\"translate(128.57142857142858,84.61538461538463)\" d=\"M2.7386127875258306,0A2.7386127875258306,2.7386127875258306,0,1,1,-2.7386127875258306,0A2.7386127875258306,2.7386127875258306,0,1,1,2.7386127875258306,0\" stroke=\"#f58518\" stroke-width=\"2\" opacity=\"0.7\"></path><path aria-label=\"PetalLength: 4.5; PetalWidth: 1.6; Species: versicolor\" role=\"graphics-symbol\" aria-roledescription=\"point\" transform=\"translate(128.57142857142858,76.92307692307692)\" d=\"M2.7386127875258306,0A2.7386127875258306,2.7386127875258306,0,1,1,-2.7386127875258306,0A2.7386127875258306,2.7386127875258306,0,1,1,2.7386127875258306,0\" stroke=\"#f58518\" stroke-width=\"2\" opacity=\"0.7\"></path><path aria-label=\"PetalLength: 4.7; PetalWidth: 1.5; Species: versicolor\" role=\"graphics-symbol\" aria-roledescription=\"point\" transform=\"translate(134.2857142857143,84.61538461538463)\" d=\"M2.7386127875258306,0A2.7386127875258306,2.7386127875258306,0,1,1,-2.7386127875258306,0A2.7386127875258306,2.7386127875258306,0,1,1,2.7386127875258306,0\" stroke=\"#f58518\" stroke-width=\"2\" opacity=\"0.7\"></path><path aria-label=\"PetalLength: 4.4; PetalWidth: 1.3; Species: versicolor\" role=\"graphics-symbol\" aria-roledescription=\"point\" transform=\"translate(125.71428571428574,100)\" d=\"M2.7386127875258306,0A2.7386127875258306,2.7386127875258306,0,1,1,-2.7386127875258306,0A2.7386127875258306,2.7386127875258306,0,1,1,2.7386127875258306,0\" stroke=\"#f58518\" stroke-width=\"2\" opacity=\"0.7\"></path><path aria-label=\"PetalLength: 4.1; PetalWidth: 1.3; Species: versicolor\" role=\"graphics-symbol\" aria-roledescription=\"point\" transform=\"translate(117.14285714285712,100)\" d=\"M2.7386127875258306,0A2.7386127875258306,2.7386127875258306,0,1,1,-2.7386127875258306,0A2.7386127875258306,2.7386127875258306,0,1,1,2.7386127875258306,0\" stroke=\"#f58518\" stroke-width=\"2\" opacity=\"0.7\"></path><path aria-label=\"PetalLength: 4; PetalWidth: 1.3; Species: versicolor\" role=\"graphics-symbol\" aria-roledescription=\"point\" transform=\"translate(114.28571428571428,100)\" d=\"M2.7386127875258306,0A2.7386127875258306,2.7386127875258306,0,1,1,-2.7386127875258306,0A2.7386127875258306,2.7386127875258306,0,1,1,2.7386127875258306,0\" stroke=\"#f58518\" stroke-width=\"2\" opacity=\"0.7\"></path><path aria-label=\"PetalLength: 4.4; PetalWidth: 1.2; Species: versicolor\" role=\"graphics-symbol\" aria-roledescription=\"point\" transform=\"translate(125.71428571428574,107.69230769230771)\" d=\"M2.7386127875258306,0A2.7386127875258306,2.7386127875258306,0,1,1,-2.7386127875258306,0A2.7386127875258306,2.7386127875258306,0,1,1,2.7386127875258306,0\" stroke=\"#f58518\" stroke-width=\"2\" opacity=\"0.7\"></path><path aria-label=\"PetalLength: 4.6; PetalWidth: 1.4; Species: versicolor\" role=\"graphics-symbol\" aria-roledescription=\"point\" transform=\"translate(131.42857142857142,92.3076923076923)\" d=\"M2.7386127875258306,0A2.7386127875258306,2.7386127875258306,0,1,1,-2.7386127875258306,0A2.7386127875258306,2.7386127875258306,0,1,1,2.7386127875258306,0\" stroke=\"#f58518\" stroke-width=\"2\" opacity=\"0.7\"></path><path aria-label=\"PetalLength: 4; PetalWidth: 1.2; Species: versicolor\" role=\"graphics-symbol\" aria-roledescription=\"point\" transform=\"translate(114.28571428571428,107.69230769230771)\" d=\"M2.7386127875258306,0A2.7386127875258306,2.7386127875258306,0,1,1,-2.7386127875258306,0A2.7386127875258306,2.7386127875258306,0,1,1,2.7386127875258306,0\" stroke=\"#f58518\" stroke-width=\"2\" opacity=\"0.7\"></path><path aria-label=\"PetalLength: 3.3; PetalWidth: 1; Species: versicolor\" role=\"graphics-symbol\" aria-roledescription=\"point\" transform=\"translate(94.28571428571428,123.07692307692308)\" d=\"M2.7386127875258306,0A2.7386127875258306,2.7386127875258306,0,1,1,-2.7386127875258306,0A2.7386127875258306,2.7386127875258306,0,1,1,2.7386127875258306,0\" stroke=\"#f58518\" stroke-width=\"2\" opacity=\"0.7\"></path><path aria-label=\"PetalLength: 4.2; PetalWidth: 1.3; Species: versicolor\" role=\"graphics-symbol\" aria-roledescription=\"point\" transform=\"translate(120,100)\" d=\"M2.7386127875258306,0A2.7386127875258306,2.7386127875258306,0,1,1,-2.7386127875258306,0A2.7386127875258306,2.7386127875258306,0,1,1,2.7386127875258306,0\" stroke=\"#f58518\" stroke-width=\"2\" opacity=\"0.7\"></path><path aria-label=\"PetalLength: 4.2; PetalWidth: 1.2; Species: versicolor\" role=\"graphics-symbol\" aria-roledescription=\"point\" transform=\"translate(120,107.69230769230771)\" d=\"M2.7386127875258306,0A2.7386127875258306,2.7386127875258306,0,1,1,-2.7386127875258306,0A2.7386127875258306,2.7386127875258306,0,1,1,2.7386127875258306,0\" stroke=\"#f58518\" stroke-width=\"2\" opacity=\"0.7\"></path><path aria-label=\"PetalLength: 4.2; PetalWidth: 1.3; Species: versicolor\" role=\"graphics-symbol\" aria-roledescription=\"point\" transform=\"translate(120,100)\" d=\"M2.7386127875258306,0A2.7386127875258306,2.7386127875258306,0,1,1,-2.7386127875258306,0A2.7386127875258306,2.7386127875258306,0,1,1,2.7386127875258306,0\" stroke=\"#f58518\" stroke-width=\"2\" opacity=\"0.7\"></path><path aria-label=\"PetalLength: 4.3; PetalWidth: 1.3; Species: versicolor\" role=\"graphics-symbol\" aria-roledescription=\"point\" transform=\"translate(122.85714285714285,100)\" d=\"M2.7386127875258306,0A2.7386127875258306,2.7386127875258306,0,1,1,-2.7386127875258306,0A2.7386127875258306,2.7386127875258306,0,1,1,2.7386127875258306,0\" stroke=\"#f58518\" stroke-width=\"2\" opacity=\"0.7\"></path><path aria-label=\"PetalLength: 3; PetalWidth: 1.1; Species: versicolor\" role=\"graphics-symbol\" aria-roledescription=\"point\" transform=\"translate(85.71428571428571,115.38461538461537)\" d=\"M2.7386127875258306,0A2.7386127875258306,2.7386127875258306,0,1,1,-2.7386127875258306,0A2.7386127875258306,2.7386127875258306,0,1,1,2.7386127875258306,0\" stroke=\"#f58518\" stroke-width=\"2\" opacity=\"0.7\"></path><path aria-label=\"PetalLength: 4.1; PetalWidth: 1.3; Species: versicolor\" role=\"graphics-symbol\" aria-roledescription=\"point\" transform=\"translate(117.14285714285712,100)\" d=\"M2.7386127875258306,0A2.7386127875258306,2.7386127875258306,0,1,1,-2.7386127875258306,0A2.7386127875258306,2.7386127875258306,0,1,1,2.7386127875258306,0\" stroke=\"#f58518\" stroke-width=\"2\" opacity=\"0.7\"></path><path aria-label=\"PetalLength: 6; PetalWidth: 2.5; Species: virginica\" role=\"graphics-symbol\" aria-roledescription=\"point\" transform=\"translate(171.42857142857142,7.692307692307709)\" d=\"M2.7386127875258306,0A2.7386127875258306,2.7386127875258306,0,1,1,-2.7386127875258306,0A2.7386127875258306,2.7386127875258306,0,1,1,2.7386127875258306,0\" stroke=\"#e45756\" stroke-width=\"2\" opacity=\"0.7\"></path><path aria-label=\"PetalLength: 5.1; PetalWidth: 1.9; Species: virginica\" role=\"graphics-symbol\" aria-roledescription=\"point\" transform=\"translate(145.7142857142857,53.846153846153854)\" d=\"M2.7386127875258306,0A2.7386127875258306,2.7386127875258306,0,1,1,-2.7386127875258306,0A2.7386127875258306,2.7386127875258306,0,1,1,2.7386127875258306,0\" stroke=\"#e45756\" stroke-width=\"2\" opacity=\"0.7\"></path><path aria-label=\"PetalLength: 5.9; PetalWidth: 2.1; Species: virginica\" role=\"graphics-symbol\" aria-roledescription=\"point\" transform=\"translate(168.57142857142858,38.46153846153846)\" d=\"M2.7386127875258306,0A2.7386127875258306,2.7386127875258306,0,1,1,-2.7386127875258306,0A2.7386127875258306,2.7386127875258306,0,1,1,2.7386127875258306,0\" stroke=\"#e45756\" stroke-width=\"2\" opacity=\"0.7\"></path><path aria-label=\"PetalLength: 5.6; PetalWidth: 1.8; Species: virginica\" role=\"graphics-symbol\" aria-roledescription=\"point\" transform=\"translate(160,61.53846153846154)\" d=\"M2.7386127875258306,0A2.7386127875258306,2.7386127875258306,0,1,1,-2.7386127875258306,0A2.7386127875258306,2.7386127875258306,0,1,1,2.7386127875258306,0\" stroke=\"#e45756\" stroke-width=\"2\" opacity=\"0.7\"></path><path aria-label=\"PetalLength: 5.8; PetalWidth: 2.2; Species: virginica\" role=\"graphics-symbol\" aria-roledescription=\"point\" transform=\"translate(165.7142857142857,30.76923076923077)\" d=\"M2.7386127875258306,0A2.7386127875258306,2.7386127875258306,0,1,1,-2.7386127875258306,0A2.7386127875258306,2.7386127875258306,0,1,1,2.7386127875258306,0\" stroke=\"#e45756\" stroke-width=\"2\" opacity=\"0.7\"></path><path aria-label=\"PetalLength: 6.6; PetalWidth: 2.1; Species: virginica\" role=\"graphics-symbol\" aria-roledescription=\"point\" transform=\"translate(188.57142857142856,38.46153846153846)\" d=\"M2.7386127875258306,0A2.7386127875258306,2.7386127875258306,0,1,1,-2.7386127875258306,0A2.7386127875258306,2.7386127875258306,0,1,1,2.7386127875258306,0\" stroke=\"#e45756\" stroke-width=\"2\" opacity=\"0.7\"></path><path aria-label=\"PetalLength: 4.5; PetalWidth: 1.7; Species: virginica\" role=\"graphics-symbol\" aria-roledescription=\"point\" transform=\"translate(128.57142857142858,69.23076923076923)\" d=\"M2.7386127875258306,0A2.7386127875258306,2.7386127875258306,0,1,1,-2.7386127875258306,0A2.7386127875258306,2.7386127875258306,0,1,1,2.7386127875258306,0\" stroke=\"#e45756\" stroke-width=\"2\" opacity=\"0.7\"></path><path aria-label=\"PetalLength: 6.3; PetalWidth: 1.8; Species: virginica\" role=\"graphics-symbol\" aria-roledescription=\"point\" transform=\"translate(180,61.53846153846154)\" d=\"M2.7386127875258306,0A2.7386127875258306,2.7386127875258306,0,1,1,-2.7386127875258306,0A2.7386127875258306,2.7386127875258306,0,1,1,2.7386127875258306,0\" stroke=\"#e45756\" stroke-width=\"2\" opacity=\"0.7\"></path><path aria-label=\"PetalLength: 5.8; PetalWidth: 1.8; Species: virginica\" role=\"graphics-symbol\" aria-roledescription=\"point\" transform=\"translate(165.7142857142857,61.53846153846154)\" d=\"M2.7386127875258306,0A2.7386127875258306,2.7386127875258306,0,1,1,-2.7386127875258306,0A2.7386127875258306,2.7386127875258306,0,1,1,2.7386127875258306,0\" stroke=\"#e45756\" stroke-width=\"2\" opacity=\"0.7\"></path><path aria-label=\"PetalLength: 6.1; PetalWidth: 2.5; Species: virginica\" role=\"graphics-symbol\" aria-roledescription=\"point\" transform=\"translate(174.28571428571428,7.692307692307709)\" d=\"M2.7386127875258306,0A2.7386127875258306,2.7386127875258306,0,1,1,-2.7386127875258306,0A2.7386127875258306,2.7386127875258306,0,1,1,2.7386127875258306,0\" stroke=\"#e45756\" stroke-width=\"2\" opacity=\"0.7\"></path><path aria-label=\"PetalLength: 5.1; PetalWidth: 2; Species: virginica\" role=\"graphics-symbol\" aria-roledescription=\"point\" transform=\"translate(145.7142857142857,46.15384615384617)\" d=\"M2.7386127875258306,0A2.7386127875258306,2.7386127875258306,0,1,1,-2.7386127875258306,0A2.7386127875258306,2.7386127875258306,0,1,1,2.7386127875258306,0\" stroke=\"#e45756\" stroke-width=\"2\" opacity=\"0.7\"></path><path aria-label=\"PetalLength: 5.3; PetalWidth: 1.9; Species: virginica\" role=\"graphics-symbol\" aria-roledescription=\"point\" transform=\"translate(151.42857142857142,53.846153846153854)\" d=\"M2.7386127875258306,0A2.7386127875258306,2.7386127875258306,0,1,1,-2.7386127875258306,0A2.7386127875258306,2.7386127875258306,0,1,1,2.7386127875258306,0\" stroke=\"#e45756\" stroke-width=\"2\" opacity=\"0.7\"></path><path aria-label=\"PetalLength: 5.5; PetalWidth: 2.1; Species: virginica\" role=\"graphics-symbol\" aria-roledescription=\"point\" transform=\"translate(157.14285714285714,38.46153846153846)\" d=\"M2.7386127875258306,0A2.7386127875258306,2.7386127875258306,0,1,1,-2.7386127875258306,0A2.7386127875258306,2.7386127875258306,0,1,1,2.7386127875258306,0\" stroke=\"#e45756\" stroke-width=\"2\" opacity=\"0.7\"></path><path aria-label=\"PetalLength: 5; PetalWidth: 2; Species: virginica\" role=\"graphics-symbol\" aria-roledescription=\"point\" transform=\"translate(142.85714285714286,46.15384615384617)\" d=\"M2.7386127875258306,0A2.7386127875258306,2.7386127875258306,0,1,1,-2.7386127875258306,0A2.7386127875258306,2.7386127875258306,0,1,1,2.7386127875258306,0\" stroke=\"#e45756\" stroke-width=\"2\" opacity=\"0.7\"></path><path aria-label=\"PetalLength: 5.1; PetalWidth: 2.4; Species: virginica\" role=\"graphics-symbol\" aria-roledescription=\"point\" transform=\"translate(145.7142857142857,15.384615384615397)\" d=\"M2.7386127875258306,0A2.7386127875258306,2.7386127875258306,0,1,1,-2.7386127875258306,0A2.7386127875258306,2.7386127875258306,0,1,1,2.7386127875258306,0\" stroke=\"#e45756\" stroke-width=\"2\" opacity=\"0.7\"></path><path aria-label=\"PetalLength: 5.3; PetalWidth: 2.3; Species: virginica\" role=\"graphics-symbol\" aria-roledescription=\"point\" transform=\"translate(151.42857142857142,23.076923076923105)\" d=\"M2.7386127875258306,0A2.7386127875258306,2.7386127875258306,0,1,1,-2.7386127875258306,0A2.7386127875258306,2.7386127875258306,0,1,1,2.7386127875258306,0\" stroke=\"#e45756\" stroke-width=\"2\" opacity=\"0.7\"></path><path aria-label=\"PetalLength: 5.5; PetalWidth: 1.8; Species: virginica\" role=\"graphics-symbol\" aria-roledescription=\"point\" transform=\"translate(157.14285714285714,61.53846153846154)\" d=\"M2.7386127875258306,0A2.7386127875258306,2.7386127875258306,0,1,1,-2.7386127875258306,0A2.7386127875258306,2.7386127875258306,0,1,1,2.7386127875258306,0\" stroke=\"#e45756\" stroke-width=\"2\" opacity=\"0.7\"></path><path aria-label=\"PetalLength: 6.7; PetalWidth: 2.2; Species: virginica\" role=\"graphics-symbol\" aria-roledescription=\"point\" transform=\"translate(191.42857142857144,30.76923076923077)\" d=\"M2.7386127875258306,0A2.7386127875258306,2.7386127875258306,0,1,1,-2.7386127875258306,0A2.7386127875258306,2.7386127875258306,0,1,1,2.7386127875258306,0\" stroke=\"#e45756\" stroke-width=\"2\" opacity=\"0.7\"></path><path aria-label=\"PetalLength: 6.9; PetalWidth: 2.3; Species: virginica\" role=\"graphics-symbol\" aria-roledescription=\"point\" transform=\"translate(197.14285714285717,23.076923076923105)\" d=\"M2.7386127875258306,0A2.7386127875258306,2.7386127875258306,0,1,1,-2.7386127875258306,0A2.7386127875258306,2.7386127875258306,0,1,1,2.7386127875258306,0\" stroke=\"#e45756\" stroke-width=\"2\" opacity=\"0.7\"></path><path aria-label=\"PetalLength: 5; PetalWidth: 1.5; Species: virginica\" role=\"graphics-symbol\" aria-roledescription=\"point\" transform=\"translate(142.85714285714286,84.61538461538463)\" d=\"M2.7386127875258306,0A2.7386127875258306,2.7386127875258306,0,1,1,-2.7386127875258306,0A2.7386127875258306,2.7386127875258306,0,1,1,2.7386127875258306,0\" stroke=\"#e45756\" stroke-width=\"2\" opacity=\"0.7\"></path><path aria-label=\"PetalLength: 5.7; PetalWidth: 2.3; Species: virginica\" role=\"graphics-symbol\" aria-roledescription=\"point\" transform=\"translate(162.85714285714286,23.076923076923105)\" d=\"M2.7386127875258306,0A2.7386127875258306,2.7386127875258306,0,1,1,-2.7386127875258306,0A2.7386127875258306,2.7386127875258306,0,1,1,2.7386127875258306,0\" stroke=\"#e45756\" stroke-width=\"2\" opacity=\"0.7\"></path><path aria-label=\"PetalLength: 4.9; PetalWidth: 2; Species: virginica\" role=\"graphics-symbol\" aria-roledescription=\"point\" transform=\"translate(140,46.15384615384617)\" d=\"M2.7386127875258306,0A2.7386127875258306,2.7386127875258306,0,1,1,-2.7386127875258306,0A2.7386127875258306,2.7386127875258306,0,1,1,2.7386127875258306,0\" stroke=\"#e45756\" stroke-width=\"2\" opacity=\"0.7\"></path><path aria-label=\"PetalLength: 6.7; PetalWidth: 2; Species: virginica\" role=\"graphics-symbol\" aria-roledescription=\"point\" transform=\"translate(191.42857142857144,46.15384615384617)\" d=\"M2.7386127875258306,0A2.7386127875258306,2.7386127875258306,0,1,1,-2.7386127875258306,0A2.7386127875258306,2.7386127875258306,0,1,1,2.7386127875258306,0\" stroke=\"#e45756\" stroke-width=\"2\" opacity=\"0.7\"></path><path aria-label=\"PetalLength: 4.9; PetalWidth: 1.8; Species: virginica\" role=\"graphics-symbol\" aria-roledescription=\"point\" transform=\"translate(140,61.53846153846154)\" d=\"M2.7386127875258306,0A2.7386127875258306,2.7386127875258306,0,1,1,-2.7386127875258306,0A2.7386127875258306,2.7386127875258306,0,1,1,2.7386127875258306,0\" stroke=\"#e45756\" stroke-width=\"2\" opacity=\"0.7\"></path><path aria-label=\"PetalLength: 5.7; PetalWidth: 2.1; Species: virginica\" role=\"graphics-symbol\" aria-roledescription=\"point\" transform=\"translate(162.85714285714286,38.46153846153846)\" d=\"M2.7386127875258306,0A2.7386127875258306,2.7386127875258306,0,1,1,-2.7386127875258306,0A2.7386127875258306,2.7386127875258306,0,1,1,2.7386127875258306,0\" stroke=\"#e45756\" stroke-width=\"2\" opacity=\"0.7\"></path><path aria-label=\"PetalLength: 6; PetalWidth: 1.8; Species: virginica\" role=\"graphics-symbol\" aria-roledescription=\"point\" transform=\"translate(171.42857142857142,61.53846153846154)\" d=\"M2.7386127875258306,0A2.7386127875258306,2.7386127875258306,0,1,1,-2.7386127875258306,0A2.7386127875258306,2.7386127875258306,0,1,1,2.7386127875258306,0\" stroke=\"#e45756\" stroke-width=\"2\" opacity=\"0.7\"></path><path aria-label=\"PetalLength: 4.8; PetalWidth: 1.8; Species: virginica\" role=\"graphics-symbol\" aria-roledescription=\"point\" transform=\"translate(137.14285714285714,61.53846153846154)\" d=\"M2.7386127875258306,0A2.7386127875258306,2.7386127875258306,0,1,1,-2.7386127875258306,0A2.7386127875258306,2.7386127875258306,0,1,1,2.7386127875258306,0\" stroke=\"#e45756\" stroke-width=\"2\" opacity=\"0.7\"></path><path aria-label=\"PetalLength: 4.9; PetalWidth: 1.8; Species: virginica\" role=\"graphics-symbol\" aria-roledescription=\"point\" transform=\"translate(140,61.53846153846154)\" d=\"M2.7386127875258306,0A2.7386127875258306,2.7386127875258306,0,1,1,-2.7386127875258306,0A2.7386127875258306,2.7386127875258306,0,1,1,2.7386127875258306,0\" stroke=\"#e45756\" stroke-width=\"2\" opacity=\"0.7\"></path><path aria-label=\"PetalLength: 5.6; PetalWidth: 2.1; Species: virginica\" role=\"graphics-symbol\" aria-roledescription=\"point\" transform=\"translate(160,38.46153846153846)\" d=\"M2.7386127875258306,0A2.7386127875258306,2.7386127875258306,0,1,1,-2.7386127875258306,0A2.7386127875258306,2.7386127875258306,0,1,1,2.7386127875258306,0\" stroke=\"#e45756\" stroke-width=\"2\" opacity=\"0.7\"></path><path aria-label=\"PetalLength: 5.8; PetalWidth: 1.6; Species: virginica\" role=\"graphics-symbol\" aria-roledescription=\"point\" transform=\"translate(165.7142857142857,76.92307692307692)\" d=\"M2.7386127875258306,0A2.7386127875258306,2.7386127875258306,0,1,1,-2.7386127875258306,0A2.7386127875258306,2.7386127875258306,0,1,1,2.7386127875258306,0\" stroke=\"#e45756\" stroke-width=\"2\" opacity=\"0.7\"></path><path aria-label=\"PetalLength: 6.1; PetalWidth: 1.9; Species: virginica\" role=\"graphics-symbol\" aria-roledescription=\"point\" transform=\"translate(174.28571428571428,53.846153846153854)\" d=\"M2.7386127875258306,0A2.7386127875258306,2.7386127875258306,0,1,1,-2.7386127875258306,0A2.7386127875258306,2.7386127875258306,0,1,1,2.7386127875258306,0\" stroke=\"#e45756\" stroke-width=\"2\" opacity=\"0.7\"></path><path aria-label=\"PetalLength: 6.4; PetalWidth: 2; Species: virginica\" role=\"graphics-symbol\" aria-roledescription=\"point\" transform=\"translate(182.85714285714286,46.15384615384617)\" d=\"M2.7386127875258306,0A2.7386127875258306,2.7386127875258306,0,1,1,-2.7386127875258306,0A2.7386127875258306,2.7386127875258306,0,1,1,2.7386127875258306,0\" stroke=\"#e45756\" stroke-width=\"2\" opacity=\"0.7\"></path><path aria-label=\"PetalLength: 5.6; PetalWidth: 2.2; Species: virginica\" role=\"graphics-symbol\" aria-roledescription=\"point\" transform=\"translate(160,30.76923076923077)\" d=\"M2.7386127875258306,0A2.7386127875258306,2.7386127875258306,0,1,1,-2.7386127875258306,0A2.7386127875258306,2.7386127875258306,0,1,1,2.7386127875258306,0\" stroke=\"#e45756\" stroke-width=\"2\" opacity=\"0.7\"></path><path aria-label=\"PetalLength: 5.1; PetalWidth: 1.5; Species: virginica\" role=\"graphics-symbol\" aria-roledescription=\"point\" transform=\"translate(145.7142857142857,84.61538461538463)\" d=\"M2.7386127875258306,0A2.7386127875258306,2.7386127875258306,0,1,1,-2.7386127875258306,0A2.7386127875258306,2.7386127875258306,0,1,1,2.7386127875258306,0\" stroke=\"#e45756\" stroke-width=\"2\" opacity=\"0.7\"></path><path aria-label=\"PetalLength: 5.6; PetalWidth: 1.4; Species: virginica\" role=\"graphics-symbol\" aria-roledescription=\"point\" transform=\"translate(160,92.3076923076923)\" d=\"M2.7386127875258306,0A2.7386127875258306,2.7386127875258306,0,1,1,-2.7386127875258306,0A2.7386127875258306,2.7386127875258306,0,1,1,2.7386127875258306,0\" stroke=\"#e45756\" stroke-width=\"2\" opacity=\"0.7\"></path><path aria-label=\"PetalLength: 6.1; PetalWidth: 2.3; Species: virginica\" role=\"graphics-symbol\" aria-roledescription=\"point\" transform=\"translate(174.28571428571428,23.076923076923105)\" d=\"M2.7386127875258306,0A2.7386127875258306,2.7386127875258306,0,1,1,-2.7386127875258306,0A2.7386127875258306,2.7386127875258306,0,1,1,2.7386127875258306,0\" stroke=\"#e45756\" stroke-width=\"2\" opacity=\"0.7\"></path><path aria-label=\"PetalLength: 5.6; PetalWidth: 2.4; Species: virginica\" role=\"graphics-symbol\" aria-roledescription=\"point\" transform=\"translate(160,15.384615384615397)\" d=\"M2.7386127875258306,0A2.7386127875258306,2.7386127875258306,0,1,1,-2.7386127875258306,0A2.7386127875258306,2.7386127875258306,0,1,1,2.7386127875258306,0\" stroke=\"#e45756\" stroke-width=\"2\" opacity=\"0.7\"></path><path aria-label=\"PetalLength: 5.5; PetalWidth: 1.8; Species: virginica\" role=\"graphics-symbol\" aria-roledescription=\"point\" transform=\"translate(157.14285714285714,61.53846153846154)\" d=\"M2.7386127875258306,0A2.7386127875258306,2.7386127875258306,0,1,1,-2.7386127875258306,0A2.7386127875258306,2.7386127875258306,0,1,1,2.7386127875258306,0\" stroke=\"#e45756\" stroke-width=\"2\" opacity=\"0.7\"></path><path aria-label=\"PetalLength: 4.8; PetalWidth: 1.8; Species: virginica\" role=\"graphics-symbol\" aria-roledescription=\"point\" transform=\"translate(137.14285714285714,61.53846153846154)\" d=\"M2.7386127875258306,0A2.7386127875258306,2.7386127875258306,0,1,1,-2.7386127875258306,0A2.7386127875258306,2.7386127875258306,0,1,1,2.7386127875258306,0\" stroke=\"#e45756\" stroke-width=\"2\" opacity=\"0.7\"></path><path aria-label=\"PetalLength: 5.4; PetalWidth: 2.1; Species: virginica\" role=\"graphics-symbol\" aria-roledescription=\"point\" transform=\"translate(154.2857142857143,38.46153846153846)\" d=\"M2.7386127875258306,0A2.7386127875258306,2.7386127875258306,0,1,1,-2.7386127875258306,0A2.7386127875258306,2.7386127875258306,0,1,1,2.7386127875258306,0\" stroke=\"#e45756\" stroke-width=\"2\" opacity=\"0.7\"></path><path aria-label=\"PetalLength: 5.6; PetalWidth: 2.4; Species: virginica\" role=\"graphics-symbol\" aria-roledescription=\"point\" transform=\"translate(160,15.384615384615397)\" d=\"M2.7386127875258306,0A2.7386127875258306,2.7386127875258306,0,1,1,-2.7386127875258306,0A2.7386127875258306,2.7386127875258306,0,1,1,2.7386127875258306,0\" stroke=\"#e45756\" stroke-width=\"2\" opacity=\"0.7\"></path><path aria-label=\"PetalLength: 5.1; PetalWidth: 2.3; Species: virginica\" role=\"graphics-symbol\" aria-roledescription=\"point\" transform=\"translate(145.7142857142857,23.076923076923105)\" d=\"M2.7386127875258306,0A2.7386127875258306,2.7386127875258306,0,1,1,-2.7386127875258306,0A2.7386127875258306,2.7386127875258306,0,1,1,2.7386127875258306,0\" stroke=\"#e45756\" stroke-width=\"2\" opacity=\"0.7\"></path><path aria-label=\"PetalLength: 5.1; PetalWidth: 1.9; Species: virginica\" role=\"graphics-symbol\" aria-roledescription=\"point\" transform=\"translate(145.7142857142857,53.846153846153854)\" d=\"M2.7386127875258306,0A2.7386127875258306,2.7386127875258306,0,1,1,-2.7386127875258306,0A2.7386127875258306,2.7386127875258306,0,1,1,2.7386127875258306,0\" stroke=\"#e45756\" stroke-width=\"2\" opacity=\"0.7\"></path><path aria-label=\"PetalLength: 5.9; PetalWidth: 2.3; Species: virginica\" role=\"graphics-symbol\" aria-roledescription=\"point\" transform=\"translate(168.57142857142858,23.076923076923105)\" d=\"M2.7386127875258306,0A2.7386127875258306,2.7386127875258306,0,1,1,-2.7386127875258306,0A2.7386127875258306,2.7386127875258306,0,1,1,2.7386127875258306,0\" stroke=\"#e45756\" stroke-width=\"2\" opacity=\"0.7\"></path><path aria-label=\"PetalLength: 5.7; PetalWidth: 2.5; Species: virginica\" role=\"graphics-symbol\" aria-roledescription=\"point\" transform=\"translate(162.85714285714286,7.692307692307709)\" d=\"M2.7386127875258306,0A2.7386127875258306,2.7386127875258306,0,1,1,-2.7386127875258306,0A2.7386127875258306,2.7386127875258306,0,1,1,2.7386127875258306,0\" stroke=\"#e45756\" stroke-width=\"2\" opacity=\"0.7\"></path><path aria-label=\"PetalLength: 5.2; PetalWidth: 2.3; Species: virginica\" role=\"graphics-symbol\" aria-roledescription=\"point\" transform=\"translate(148.57142857142858,23.076923076923105)\" d=\"M2.7386127875258306,0A2.7386127875258306,2.7386127875258306,0,1,1,-2.7386127875258306,0A2.7386127875258306,2.7386127875258306,0,1,1,2.7386127875258306,0\" stroke=\"#e45756\" stroke-width=\"2\" opacity=\"0.7\"></path><path aria-label=\"PetalLength: 5; PetalWidth: 1.9; Species: virginica\" role=\"graphics-symbol\" aria-roledescription=\"point\" transform=\"translate(142.85714285714286,53.846153846153854)\" d=\"M2.7386127875258306,0A2.7386127875258306,2.7386127875258306,0,1,1,-2.7386127875258306,0A2.7386127875258306,2.7386127875258306,0,1,1,2.7386127875258306,0\" stroke=\"#e45756\" stroke-width=\"2\" opacity=\"0.7\"></path><path aria-label=\"PetalLength: 5.2; PetalWidth: 2; Species: virginica\" role=\"graphics-symbol\" aria-roledescription=\"point\" transform=\"translate(148.57142857142858,46.15384615384617)\" d=\"M2.7386127875258306,0A2.7386127875258306,2.7386127875258306,0,1,1,-2.7386127875258306,0A2.7386127875258306,2.7386127875258306,0,1,1,2.7386127875258306,0\" stroke=\"#e45756\" stroke-width=\"2\" opacity=\"0.7\"></path><path aria-label=\"PetalLength: 5.4; PetalWidth: 2.3; Species: virginica\" role=\"graphics-symbol\" aria-roledescription=\"point\" transform=\"translate(154.2857142857143,23.076923076923105)\" d=\"M2.7386127875258306,0A2.7386127875258306,2.7386127875258306,0,1,1,-2.7386127875258306,0A2.7386127875258306,2.7386127875258306,0,1,1,2.7386127875258306,0\" stroke=\"#e45756\" stroke-width=\"2\" opacity=\"0.7\"></path><path aria-label=\"PetalLength: 5.1; PetalWidth: 1.8; Species: virginica\" role=\"graphics-symbol\" aria-roledescription=\"point\" transform=\"translate(145.7142857142857,61.53846153846154)\" d=\"M2.7386127875258306,0A2.7386127875258306,2.7386127875258306,0,1,1,-2.7386127875258306,0A2.7386127875258306,2.7386127875258306,0,1,1,2.7386127875258306,0\" stroke=\"#e45756\" stroke-width=\"2\" opacity=\"0.7\"></path></g><g class=\"mark-group role-legend\" role=\"graphics-symbol\" aria-roledescription=\"legend\" aria-label=\"Symbol legend titled 'Species' for stroke color with 3 values: setosa, versicolor, virginica\"><g transform=\"translate(218,0)\"><path class=\"background\" aria-hidden=\"true\" d=\"M0,0h60v61h-60Z\" pointer-events=\"none\"></path><g><g class=\"mark-group role-legend-entry\"><g transform=\"translate(0,16)\"><path class=\"background\" aria-hidden=\"true\" d=\"M0,0h0v0h0Z\" pointer-events=\"none\"></path><g><g class=\"mark-group role-scope\" role=\"graphics-object\" aria-roledescription=\"group mark container\"><g transform=\"translate(0,0)\"><path class=\"background\" aria-hidden=\"true\" d=\"M0,0h60v12.5h-60Z\" pointer-events=\"none\" opacity=\"1\"></path><g><g class=\"mark-symbol role-legend-symbol\" pointer-events=\"none\"><path transform=\"translate(6,6)\" d=\"M5,0A5,5,0,1,1,-5,0A5,5,0,1,1,5,0\" stroke=\"#4c78a8\" stroke-width=\"1.5\" opacity=\"0.7\"></path></g><g class=\"mark-text role-legend-label\" pointer-events=\"none\"><text text-anchor=\"start\" transform=\"translate(16,9)\" font-family=\"sans-serif\" font-size=\"10px\" fill=\"#000\" opacity=\"1\">setosa</text></g></g><path class=\"foreground\" aria-hidden=\"true\" d=\"\" pointer-events=\"none\" display=\"none\"></path></g><g transform=\"translate(0,16)\"><path class=\"background\" aria-hidden=\"true\" d=\"M0,0h60v12.5h-60Z\" pointer-events=\"none\" opacity=\"1\"></path><g><g class=\"mark-symbol role-legend-symbol\" pointer-events=\"none\"><path transform=\"translate(6,6)\" d=\"M5,0A5,5,0,1,1,-5,0A5,5,0,1,1,5,0\" stroke=\"#f58518\" stroke-width=\"1.5\" opacity=\"0.7\"></path></g><g class=\"mark-text role-legend-label\" pointer-events=\"none\"><text text-anchor=\"start\" transform=\"translate(16,9)\" font-family=\"sans-serif\" font-size=\"10px\" fill=\"#000\" opacity=\"1\">versicolor</text></g></g><path class=\"foreground\" aria-hidden=\"true\" d=\"\" pointer-events=\"none\" display=\"none\"></path></g><g transform=\"translate(0,32)\"><path class=\"background\" aria-hidden=\"true\" d=\"M0,0h60v12.5h-60Z\" pointer-events=\"none\" opacity=\"1\"></path><g><g class=\"mark-symbol role-legend-symbol\" pointer-events=\"none\"><path transform=\"translate(6,6)\" d=\"M5,0A5,5,0,1,1,-5,0A5,5,0,1,1,5,0\" stroke=\"#e45756\" stroke-width=\"1.5\" opacity=\"0.7\"></path></g><g class=\"mark-text role-legend-label\" pointer-events=\"none\"><text text-anchor=\"start\" transform=\"translate(16,9)\" font-family=\"sans-serif\" font-size=\"10px\" fill=\"#000\" opacity=\"1\">virginica</text></g></g><path class=\"foreground\" aria-hidden=\"true\" d=\"\" pointer-events=\"none\" display=\"none\"></path></g></g></g><path class=\"foreground\" aria-hidden=\"true\" d=\"\" pointer-events=\"none\" display=\"none\"></path></g></g><g class=\"mark-text role-legend-title\" pointer-events=\"none\"><text text-anchor=\"start\" transform=\"translate(0,9)\" font-family=\"sans-serif\" font-size=\"11px\" font-weight=\"bold\" fill=\"#000\" opacity=\"1\">Species</text></g></g><path class=\"foreground\" aria-hidden=\"true\" d=\"\" pointer-events=\"none\" display=\"none\"></path></g></g></g><path class=\"foreground\" aria-hidden=\"true\" d=\"\" display=\"none\"></path></g></g></g></svg>\n",
      "application/vnd.vegalite.v4+json": {
       "data": {
        "values": [
         {
          "PetalLength": 1.4,
          "PetalWidth": 0.2,
          "SepalLength": 5.1,
          "SepalWidth": 3.5,
          "Species": "setosa"
         },
         {
          "PetalLength": 1.4,
          "PetalWidth": 0.2,
          "SepalLength": 4.9,
          "SepalWidth": 3,
          "Species": "setosa"
         },
         {
          "PetalLength": 1.3,
          "PetalWidth": 0.2,
          "SepalLength": 4.7,
          "SepalWidth": 3.2,
          "Species": "setosa"
         },
         {
          "PetalLength": 1.5,
          "PetalWidth": 0.2,
          "SepalLength": 4.6,
          "SepalWidth": 3.1,
          "Species": "setosa"
         },
         {
          "PetalLength": 1.4,
          "PetalWidth": 0.2,
          "SepalLength": 5,
          "SepalWidth": 3.6,
          "Species": "setosa"
         },
         {
          "PetalLength": 1.7,
          "PetalWidth": 0.4,
          "SepalLength": 5.4,
          "SepalWidth": 3.9,
          "Species": "setosa"
         },
         {
          "PetalLength": 1.4,
          "PetalWidth": 0.3,
          "SepalLength": 4.6,
          "SepalWidth": 3.4,
          "Species": "setosa"
         },
         {
          "PetalLength": 1.5,
          "PetalWidth": 0.2,
          "SepalLength": 5,
          "SepalWidth": 3.4,
          "Species": "setosa"
         },
         {
          "PetalLength": 1.4,
          "PetalWidth": 0.2,
          "SepalLength": 4.4,
          "SepalWidth": 2.9,
          "Species": "setosa"
         },
         {
          "PetalLength": 1.5,
          "PetalWidth": 0.1,
          "SepalLength": 4.9,
          "SepalWidth": 3.1,
          "Species": "setosa"
         },
         {
          "PetalLength": 1.5,
          "PetalWidth": 0.2,
          "SepalLength": 5.4,
          "SepalWidth": 3.7,
          "Species": "setosa"
         },
         {
          "PetalLength": 1.6,
          "PetalWidth": 0.2,
          "SepalLength": 4.8,
          "SepalWidth": 3.4,
          "Species": "setosa"
         },
         {
          "PetalLength": 1.4,
          "PetalWidth": 0.1,
          "SepalLength": 4.8,
          "SepalWidth": 3,
          "Species": "setosa"
         },
         {
          "PetalLength": 1.1,
          "PetalWidth": 0.1,
          "SepalLength": 4.3,
          "SepalWidth": 3,
          "Species": "setosa"
         },
         {
          "PetalLength": 1.2,
          "PetalWidth": 0.2,
          "SepalLength": 5.8,
          "SepalWidth": 4,
          "Species": "setosa"
         },
         {
          "PetalLength": 1.5,
          "PetalWidth": 0.4,
          "SepalLength": 5.7,
          "SepalWidth": 4.4,
          "Species": "setosa"
         },
         {
          "PetalLength": 1.3,
          "PetalWidth": 0.4,
          "SepalLength": 5.4,
          "SepalWidth": 3.9,
          "Species": "setosa"
         },
         {
          "PetalLength": 1.4,
          "PetalWidth": 0.3,
          "SepalLength": 5.1,
          "SepalWidth": 3.5,
          "Species": "setosa"
         },
         {
          "PetalLength": 1.7,
          "PetalWidth": 0.3,
          "SepalLength": 5.7,
          "SepalWidth": 3.8,
          "Species": "setosa"
         },
         {
          "PetalLength": 1.5,
          "PetalWidth": 0.3,
          "SepalLength": 5.1,
          "SepalWidth": 3.8,
          "Species": "setosa"
         },
         {
          "PetalLength": 1.7,
          "PetalWidth": 0.2,
          "SepalLength": 5.4,
          "SepalWidth": 3.4,
          "Species": "setosa"
         },
         {
          "PetalLength": 1.5,
          "PetalWidth": 0.4,
          "SepalLength": 5.1,
          "SepalWidth": 3.7,
          "Species": "setosa"
         },
         {
          "PetalLength": 1,
          "PetalWidth": 0.2,
          "SepalLength": 4.6,
          "SepalWidth": 3.6,
          "Species": "setosa"
         },
         {
          "PetalLength": 1.7,
          "PetalWidth": 0.5,
          "SepalLength": 5.1,
          "SepalWidth": 3.3,
          "Species": "setosa"
         },
         {
          "PetalLength": 1.9,
          "PetalWidth": 0.2,
          "SepalLength": 4.8,
          "SepalWidth": 3.4,
          "Species": "setosa"
         },
         {
          "PetalLength": 1.6,
          "PetalWidth": 0.2,
          "SepalLength": 5,
          "SepalWidth": 3,
          "Species": "setosa"
         },
         {
          "PetalLength": 1.6,
          "PetalWidth": 0.4,
          "SepalLength": 5,
          "SepalWidth": 3.4,
          "Species": "setosa"
         },
         {
          "PetalLength": 1.5,
          "PetalWidth": 0.2,
          "SepalLength": 5.2,
          "SepalWidth": 3.5,
          "Species": "setosa"
         },
         {
          "PetalLength": 1.4,
          "PetalWidth": 0.2,
          "SepalLength": 5.2,
          "SepalWidth": 3.4,
          "Species": "setosa"
         },
         {
          "PetalLength": 1.6,
          "PetalWidth": 0.2,
          "SepalLength": 4.7,
          "SepalWidth": 3.2,
          "Species": "setosa"
         },
         {
          "PetalLength": 1.6,
          "PetalWidth": 0.2,
          "SepalLength": 4.8,
          "SepalWidth": 3.1,
          "Species": "setosa"
         },
         {
          "PetalLength": 1.5,
          "PetalWidth": 0.4,
          "SepalLength": 5.4,
          "SepalWidth": 3.4,
          "Species": "setosa"
         },
         {
          "PetalLength": 1.5,
          "PetalWidth": 0.1,
          "SepalLength": 5.2,
          "SepalWidth": 4.1,
          "Species": "setosa"
         },
         {
          "PetalLength": 1.4,
          "PetalWidth": 0.2,
          "SepalLength": 5.5,
          "SepalWidth": 4.2,
          "Species": "setosa"
         },
         {
          "PetalLength": 1.5,
          "PetalWidth": 0.2,
          "SepalLength": 4.9,
          "SepalWidth": 3.1,
          "Species": "setosa"
         },
         {
          "PetalLength": 1.2,
          "PetalWidth": 0.2,
          "SepalLength": 5,
          "SepalWidth": 3.2,
          "Species": "setosa"
         },
         {
          "PetalLength": 1.3,
          "PetalWidth": 0.2,
          "SepalLength": 5.5,
          "SepalWidth": 3.5,
          "Species": "setosa"
         },
         {
          "PetalLength": 1.4,
          "PetalWidth": 0.1,
          "SepalLength": 4.9,
          "SepalWidth": 3.6,
          "Species": "setosa"
         },
         {
          "PetalLength": 1.3,
          "PetalWidth": 0.2,
          "SepalLength": 4.4,
          "SepalWidth": 3,
          "Species": "setosa"
         },
         {
          "PetalLength": 1.5,
          "PetalWidth": 0.2,
          "SepalLength": 5.1,
          "SepalWidth": 3.4,
          "Species": "setosa"
         },
         {
          "PetalLength": 1.3,
          "PetalWidth": 0.3,
          "SepalLength": 5,
          "SepalWidth": 3.5,
          "Species": "setosa"
         },
         {
          "PetalLength": 1.3,
          "PetalWidth": 0.3,
          "SepalLength": 4.5,
          "SepalWidth": 2.3,
          "Species": "setosa"
         },
         {
          "PetalLength": 1.3,
          "PetalWidth": 0.2,
          "SepalLength": 4.4,
          "SepalWidth": 3.2,
          "Species": "setosa"
         },
         {
          "PetalLength": 1.6,
          "PetalWidth": 0.6,
          "SepalLength": 5,
          "SepalWidth": 3.5,
          "Species": "setosa"
         },
         {
          "PetalLength": 1.9,
          "PetalWidth": 0.4,
          "SepalLength": 5.1,
          "SepalWidth": 3.8,
          "Species": "setosa"
         },
         {
          "PetalLength": 1.4,
          "PetalWidth": 0.3,
          "SepalLength": 4.8,
          "SepalWidth": 3,
          "Species": "setosa"
         },
         {
          "PetalLength": 1.6,
          "PetalWidth": 0.2,
          "SepalLength": 5.1,
          "SepalWidth": 3.8,
          "Species": "setosa"
         },
         {
          "PetalLength": 1.4,
          "PetalWidth": 0.2,
          "SepalLength": 4.6,
          "SepalWidth": 3.2,
          "Species": "setosa"
         },
         {
          "PetalLength": 1.5,
          "PetalWidth": 0.2,
          "SepalLength": 5.3,
          "SepalWidth": 3.7,
          "Species": "setosa"
         },
         {
          "PetalLength": 1.4,
          "PetalWidth": 0.2,
          "SepalLength": 5,
          "SepalWidth": 3.3,
          "Species": "setosa"
         },
         {
          "PetalLength": 4.7,
          "PetalWidth": 1.4,
          "SepalLength": 7,
          "SepalWidth": 3.2,
          "Species": "versicolor"
         },
         {
          "PetalLength": 4.5,
          "PetalWidth": 1.5,
          "SepalLength": 6.4,
          "SepalWidth": 3.2,
          "Species": "versicolor"
         },
         {
          "PetalLength": 4.9,
          "PetalWidth": 1.5,
          "SepalLength": 6.9,
          "SepalWidth": 3.1,
          "Species": "versicolor"
         },
         {
          "PetalLength": 4,
          "PetalWidth": 1.3,
          "SepalLength": 5.5,
          "SepalWidth": 2.3,
          "Species": "versicolor"
         },
         {
          "PetalLength": 4.6,
          "PetalWidth": 1.5,
          "SepalLength": 6.5,
          "SepalWidth": 2.8,
          "Species": "versicolor"
         },
         {
          "PetalLength": 4.5,
          "PetalWidth": 1.3,
          "SepalLength": 5.7,
          "SepalWidth": 2.8,
          "Species": "versicolor"
         },
         {
          "PetalLength": 4.7,
          "PetalWidth": 1.6,
          "SepalLength": 6.3,
          "SepalWidth": 3.3,
          "Species": "versicolor"
         },
         {
          "PetalLength": 3.3,
          "PetalWidth": 1,
          "SepalLength": 4.9,
          "SepalWidth": 2.4,
          "Species": "versicolor"
         },
         {
          "PetalLength": 4.6,
          "PetalWidth": 1.3,
          "SepalLength": 6.6,
          "SepalWidth": 2.9,
          "Species": "versicolor"
         },
         {
          "PetalLength": 3.9,
          "PetalWidth": 1.4,
          "SepalLength": 5.2,
          "SepalWidth": 2.7,
          "Species": "versicolor"
         },
         {
          "PetalLength": 3.5,
          "PetalWidth": 1,
          "SepalLength": 5,
          "SepalWidth": 2,
          "Species": "versicolor"
         },
         {
          "PetalLength": 4.2,
          "PetalWidth": 1.5,
          "SepalLength": 5.9,
          "SepalWidth": 3,
          "Species": "versicolor"
         },
         {
          "PetalLength": 4,
          "PetalWidth": 1,
          "SepalLength": 6,
          "SepalWidth": 2.2,
          "Species": "versicolor"
         },
         {
          "PetalLength": 4.7,
          "PetalWidth": 1.4,
          "SepalLength": 6.1,
          "SepalWidth": 2.9,
          "Species": "versicolor"
         },
         {
          "PetalLength": 3.6,
          "PetalWidth": 1.3,
          "SepalLength": 5.6,
          "SepalWidth": 2.9,
          "Species": "versicolor"
         },
         {
          "PetalLength": 4.4,
          "PetalWidth": 1.4,
          "SepalLength": 6.7,
          "SepalWidth": 3.1,
          "Species": "versicolor"
         },
         {
          "PetalLength": 4.5,
          "PetalWidth": 1.5,
          "SepalLength": 5.6,
          "SepalWidth": 3,
          "Species": "versicolor"
         },
         {
          "PetalLength": 4.1,
          "PetalWidth": 1,
          "SepalLength": 5.8,
          "SepalWidth": 2.7,
          "Species": "versicolor"
         },
         {
          "PetalLength": 4.5,
          "PetalWidth": 1.5,
          "SepalLength": 6.2,
          "SepalWidth": 2.2,
          "Species": "versicolor"
         },
         {
          "PetalLength": 3.9,
          "PetalWidth": 1.1,
          "SepalLength": 5.6,
          "SepalWidth": 2.5,
          "Species": "versicolor"
         },
         {
          "PetalLength": 4.8,
          "PetalWidth": 1.8,
          "SepalLength": 5.9,
          "SepalWidth": 3.2,
          "Species": "versicolor"
         },
         {
          "PetalLength": 4,
          "PetalWidth": 1.3,
          "SepalLength": 6.1,
          "SepalWidth": 2.8,
          "Species": "versicolor"
         },
         {
          "PetalLength": 4.9,
          "PetalWidth": 1.5,
          "SepalLength": 6.3,
          "SepalWidth": 2.5,
          "Species": "versicolor"
         },
         {
          "PetalLength": 4.7,
          "PetalWidth": 1.2,
          "SepalLength": 6.1,
          "SepalWidth": 2.8,
          "Species": "versicolor"
         },
         {
          "PetalLength": 4.3,
          "PetalWidth": 1.3,
          "SepalLength": 6.4,
          "SepalWidth": 2.9,
          "Species": "versicolor"
         },
         {
          "PetalLength": 4.4,
          "PetalWidth": 1.4,
          "SepalLength": 6.6,
          "SepalWidth": 3,
          "Species": "versicolor"
         },
         {
          "PetalLength": 4.8,
          "PetalWidth": 1.4,
          "SepalLength": 6.8,
          "SepalWidth": 2.8,
          "Species": "versicolor"
         },
         {
          "PetalLength": 5,
          "PetalWidth": 1.7,
          "SepalLength": 6.7,
          "SepalWidth": 3,
          "Species": "versicolor"
         },
         {
          "PetalLength": 4.5,
          "PetalWidth": 1.5,
          "SepalLength": 6,
          "SepalWidth": 2.9,
          "Species": "versicolor"
         },
         {
          "PetalLength": 3.5,
          "PetalWidth": 1,
          "SepalLength": 5.7,
          "SepalWidth": 2.6,
          "Species": "versicolor"
         },
         {
          "PetalLength": 3.8,
          "PetalWidth": 1.1,
          "SepalLength": 5.5,
          "SepalWidth": 2.4,
          "Species": "versicolor"
         },
         {
          "PetalLength": 3.7,
          "PetalWidth": 1,
          "SepalLength": 5.5,
          "SepalWidth": 2.4,
          "Species": "versicolor"
         },
         {
          "PetalLength": 3.9,
          "PetalWidth": 1.2,
          "SepalLength": 5.8,
          "SepalWidth": 2.7,
          "Species": "versicolor"
         },
         {
          "PetalLength": 5.1,
          "PetalWidth": 1.6,
          "SepalLength": 6,
          "SepalWidth": 2.7,
          "Species": "versicolor"
         },
         {
          "PetalLength": 4.5,
          "PetalWidth": 1.5,
          "SepalLength": 5.4,
          "SepalWidth": 3,
          "Species": "versicolor"
         },
         {
          "PetalLength": 4.5,
          "PetalWidth": 1.6,
          "SepalLength": 6,
          "SepalWidth": 3.4,
          "Species": "versicolor"
         },
         {
          "PetalLength": 4.7,
          "PetalWidth": 1.5,
          "SepalLength": 6.7,
          "SepalWidth": 3.1,
          "Species": "versicolor"
         },
         {
          "PetalLength": 4.4,
          "PetalWidth": 1.3,
          "SepalLength": 6.3,
          "SepalWidth": 2.3,
          "Species": "versicolor"
         },
         {
          "PetalLength": 4.1,
          "PetalWidth": 1.3,
          "SepalLength": 5.6,
          "SepalWidth": 3,
          "Species": "versicolor"
         },
         {
          "PetalLength": 4,
          "PetalWidth": 1.3,
          "SepalLength": 5.5,
          "SepalWidth": 2.5,
          "Species": "versicolor"
         },
         {
          "PetalLength": 4.4,
          "PetalWidth": 1.2,
          "SepalLength": 5.5,
          "SepalWidth": 2.6,
          "Species": "versicolor"
         },
         {
          "PetalLength": 4.6,
          "PetalWidth": 1.4,
          "SepalLength": 6.1,
          "SepalWidth": 3,
          "Species": "versicolor"
         },
         {
          "PetalLength": 4,
          "PetalWidth": 1.2,
          "SepalLength": 5.8,
          "SepalWidth": 2.6,
          "Species": "versicolor"
         },
         {
          "PetalLength": 3.3,
          "PetalWidth": 1,
          "SepalLength": 5,
          "SepalWidth": 2.3,
          "Species": "versicolor"
         },
         {
          "PetalLength": 4.2,
          "PetalWidth": 1.3,
          "SepalLength": 5.6,
          "SepalWidth": 2.7,
          "Species": "versicolor"
         },
         {
          "PetalLength": 4.2,
          "PetalWidth": 1.2,
          "SepalLength": 5.7,
          "SepalWidth": 3,
          "Species": "versicolor"
         },
         {
          "PetalLength": 4.2,
          "PetalWidth": 1.3,
          "SepalLength": 5.7,
          "SepalWidth": 2.9,
          "Species": "versicolor"
         },
         {
          "PetalLength": 4.3,
          "PetalWidth": 1.3,
          "SepalLength": 6.2,
          "SepalWidth": 2.9,
          "Species": "versicolor"
         },
         {
          "PetalLength": 3,
          "PetalWidth": 1.1,
          "SepalLength": 5.1,
          "SepalWidth": 2.5,
          "Species": "versicolor"
         },
         {
          "PetalLength": 4.1,
          "PetalWidth": 1.3,
          "SepalLength": 5.7,
          "SepalWidth": 2.8,
          "Species": "versicolor"
         },
         {
          "PetalLength": 6,
          "PetalWidth": 2.5,
          "SepalLength": 6.3,
          "SepalWidth": 3.3,
          "Species": "virginica"
         },
         {
          "PetalLength": 5.1,
          "PetalWidth": 1.9,
          "SepalLength": 5.8,
          "SepalWidth": 2.7,
          "Species": "virginica"
         },
         {
          "PetalLength": 5.9,
          "PetalWidth": 2.1,
          "SepalLength": 7.1,
          "SepalWidth": 3,
          "Species": "virginica"
         },
         {
          "PetalLength": 5.6,
          "PetalWidth": 1.8,
          "SepalLength": 6.3,
          "SepalWidth": 2.9,
          "Species": "virginica"
         },
         {
          "PetalLength": 5.8,
          "PetalWidth": 2.2,
          "SepalLength": 6.5,
          "SepalWidth": 3,
          "Species": "virginica"
         },
         {
          "PetalLength": 6.6,
          "PetalWidth": 2.1,
          "SepalLength": 7.6,
          "SepalWidth": 3,
          "Species": "virginica"
         },
         {
          "PetalLength": 4.5,
          "PetalWidth": 1.7,
          "SepalLength": 4.9,
          "SepalWidth": 2.5,
          "Species": "virginica"
         },
         {
          "PetalLength": 6.3,
          "PetalWidth": 1.8,
          "SepalLength": 7.3,
          "SepalWidth": 2.9,
          "Species": "virginica"
         },
         {
          "PetalLength": 5.8,
          "PetalWidth": 1.8,
          "SepalLength": 6.7,
          "SepalWidth": 2.5,
          "Species": "virginica"
         },
         {
          "PetalLength": 6.1,
          "PetalWidth": 2.5,
          "SepalLength": 7.2,
          "SepalWidth": 3.6,
          "Species": "virginica"
         },
         {
          "PetalLength": 5.1,
          "PetalWidth": 2,
          "SepalLength": 6.5,
          "SepalWidth": 3.2,
          "Species": "virginica"
         },
         {
          "PetalLength": 5.3,
          "PetalWidth": 1.9,
          "SepalLength": 6.4,
          "SepalWidth": 2.7,
          "Species": "virginica"
         },
         {
          "PetalLength": 5.5,
          "PetalWidth": 2.1,
          "SepalLength": 6.8,
          "SepalWidth": 3,
          "Species": "virginica"
         },
         {
          "PetalLength": 5,
          "PetalWidth": 2,
          "SepalLength": 5.7,
          "SepalWidth": 2.5,
          "Species": "virginica"
         },
         {
          "PetalLength": 5.1,
          "PetalWidth": 2.4,
          "SepalLength": 5.8,
          "SepalWidth": 2.8,
          "Species": "virginica"
         },
         {
          "PetalLength": 5.3,
          "PetalWidth": 2.3,
          "SepalLength": 6.4,
          "SepalWidth": 3.2,
          "Species": "virginica"
         },
         {
          "PetalLength": 5.5,
          "PetalWidth": 1.8,
          "SepalLength": 6.5,
          "SepalWidth": 3,
          "Species": "virginica"
         },
         {
          "PetalLength": 6.7,
          "PetalWidth": 2.2,
          "SepalLength": 7.7,
          "SepalWidth": 3.8,
          "Species": "virginica"
         },
         {
          "PetalLength": 6.9,
          "PetalWidth": 2.3,
          "SepalLength": 7.7,
          "SepalWidth": 2.6,
          "Species": "virginica"
         },
         {
          "PetalLength": 5,
          "PetalWidth": 1.5,
          "SepalLength": 6,
          "SepalWidth": 2.2,
          "Species": "virginica"
         },
         {
          "PetalLength": 5.7,
          "PetalWidth": 2.3,
          "SepalLength": 6.9,
          "SepalWidth": 3.2,
          "Species": "virginica"
         },
         {
          "PetalLength": 4.9,
          "PetalWidth": 2,
          "SepalLength": 5.6,
          "SepalWidth": 2.8,
          "Species": "virginica"
         },
         {
          "PetalLength": 6.7,
          "PetalWidth": 2,
          "SepalLength": 7.7,
          "SepalWidth": 2.8,
          "Species": "virginica"
         },
         {
          "PetalLength": 4.9,
          "PetalWidth": 1.8,
          "SepalLength": 6.3,
          "SepalWidth": 2.7,
          "Species": "virginica"
         },
         {
          "PetalLength": 5.7,
          "PetalWidth": 2.1,
          "SepalLength": 6.7,
          "SepalWidth": 3.3,
          "Species": "virginica"
         },
         {
          "PetalLength": 6,
          "PetalWidth": 1.8,
          "SepalLength": 7.2,
          "SepalWidth": 3.2,
          "Species": "virginica"
         },
         {
          "PetalLength": 4.8,
          "PetalWidth": 1.8,
          "SepalLength": 6.2,
          "SepalWidth": 2.8,
          "Species": "virginica"
         },
         {
          "PetalLength": 4.9,
          "PetalWidth": 1.8,
          "SepalLength": 6.1,
          "SepalWidth": 3,
          "Species": "virginica"
         },
         {
          "PetalLength": 5.6,
          "PetalWidth": 2.1,
          "SepalLength": 6.4,
          "SepalWidth": 2.8,
          "Species": "virginica"
         },
         {
          "PetalLength": 5.8,
          "PetalWidth": 1.6,
          "SepalLength": 7.2,
          "SepalWidth": 3,
          "Species": "virginica"
         },
         {
          "PetalLength": 6.1,
          "PetalWidth": 1.9,
          "SepalLength": 7.4,
          "SepalWidth": 2.8,
          "Species": "virginica"
         },
         {
          "PetalLength": 6.4,
          "PetalWidth": 2,
          "SepalLength": 7.9,
          "SepalWidth": 3.8,
          "Species": "virginica"
         },
         {
          "PetalLength": 5.6,
          "PetalWidth": 2.2,
          "SepalLength": 6.4,
          "SepalWidth": 2.8,
          "Species": "virginica"
         },
         {
          "PetalLength": 5.1,
          "PetalWidth": 1.5,
          "SepalLength": 6.3,
          "SepalWidth": 2.8,
          "Species": "virginica"
         },
         {
          "PetalLength": 5.6,
          "PetalWidth": 1.4,
          "SepalLength": 6.1,
          "SepalWidth": 2.6,
          "Species": "virginica"
         },
         {
          "PetalLength": 6.1,
          "PetalWidth": 2.3,
          "SepalLength": 7.7,
          "SepalWidth": 3,
          "Species": "virginica"
         },
         {
          "PetalLength": 5.6,
          "PetalWidth": 2.4,
          "SepalLength": 6.3,
          "SepalWidth": 3.4,
          "Species": "virginica"
         },
         {
          "PetalLength": 5.5,
          "PetalWidth": 1.8,
          "SepalLength": 6.4,
          "SepalWidth": 3.1,
          "Species": "virginica"
         },
         {
          "PetalLength": 4.8,
          "PetalWidth": 1.8,
          "SepalLength": 6,
          "SepalWidth": 3,
          "Species": "virginica"
         },
         {
          "PetalLength": 5.4,
          "PetalWidth": 2.1,
          "SepalLength": 6.9,
          "SepalWidth": 3.1,
          "Species": "virginica"
         },
         {
          "PetalLength": 5.6,
          "PetalWidth": 2.4,
          "SepalLength": 6.7,
          "SepalWidth": 3.1,
          "Species": "virginica"
         },
         {
          "PetalLength": 5.1,
          "PetalWidth": 2.3,
          "SepalLength": 6.9,
          "SepalWidth": 3.1,
          "Species": "virginica"
         },
         {
          "PetalLength": 5.1,
          "PetalWidth": 1.9,
          "SepalLength": 5.8,
          "SepalWidth": 2.7,
          "Species": "virginica"
         },
         {
          "PetalLength": 5.9,
          "PetalWidth": 2.3,
          "SepalLength": 6.8,
          "SepalWidth": 3.2,
          "Species": "virginica"
         },
         {
          "PetalLength": 5.7,
          "PetalWidth": 2.5,
          "SepalLength": 6.7,
          "SepalWidth": 3.3,
          "Species": "virginica"
         },
         {
          "PetalLength": 5.2,
          "PetalWidth": 2.3,
          "SepalLength": 6.7,
          "SepalWidth": 3,
          "Species": "virginica"
         },
         {
          "PetalLength": 5,
          "PetalWidth": 1.9,
          "SepalLength": 6.3,
          "SepalWidth": 2.5,
          "Species": "virginica"
         },
         {
          "PetalLength": 5.2,
          "PetalWidth": 2,
          "SepalLength": 6.5,
          "SepalWidth": 3,
          "Species": "virginica"
         },
         {
          "PetalLength": 5.4,
          "PetalWidth": 2.3,
          "SepalLength": 6.2,
          "SepalWidth": 3.4,
          "Species": "virginica"
         },
         {
          "PetalLength": 5.1,
          "PetalWidth": 1.8,
          "SepalLength": 5.9,
          "SepalWidth": 3,
          "Species": "virginica"
         }
        ]
       },
       "encoding": {
        "color": {
         "field": "Species"
        },
        "x": {
         "field": "PetalLength",
         "type": "quantitative"
        },
        "y": {
         "field": "PetalWidth",
         "type": "quantitative"
        }
       },
       "mark": "point"
      }
     },
     "metadata": {},
     "execution_count": 84
    }
   ],
   "metadata": {}
  },
  {
   "cell_type": "code",
   "execution_count": 9,
   "source": [
    "using RegressionTables\n",
    "x = randn(100)\n",
    "y = 0.9 .* x + 0.5 * rand(100)\n",
    "df = DataFrame(x=x, y=y)\n",
    "ols = lm(@formula(y ~ x), df) # R-style notation\n",
    "regtable(ols)"
   ],
   "outputs": [
    {
     "output_type": "stream",
     "name": "stdout",
     "text": [
      "\n",
      "----------------------\n",
      "                  y   \n",
      "              --------\n",
      "                   (1)\n",
      "----------------------\n",
      "(Intercept)   0.239***\n",
      "               (0.015)\n",
      "x             0.882***\n",
      "               (0.015)\n",
      "----------------------\n",
      "Estimator          OLS\n",
      "----------------------\n",
      "N                  100\n",
      "R2               0.974\n",
      "----------------------\n",
      "\n",
      "\n"
     ]
    }
   ],
   "metadata": {}
  },
  {
   "cell_type": "code",
   "execution_count": 11,
   "source": [
    "struct DualNumber{T} <: Real\n",
    "    val::T\n",
    "    ϵ::T\n",
    "end"
   ],
   "outputs": [],
   "metadata": {}
  },
  {
   "cell_type": "code",
   "execution_count": 10,
   "source": [
    "import Base: +, *, -, ^, exp\n",
    "+(x::DualNumber, y::DualNumber) = DualNumber(x.val + y.val, x.ϵ + y.ϵ)  # dual addition\n",
    "+(x::DualNumber, a::Number) = DualNumber(x.val + a, x.ϵ)  # i.e. scalar addition, not dual\n",
    "+(a::Number, x::DualNumber) = DualNumber(x.val + a, x.ϵ)  # i.e. scalar addition, not dual\n"
   ],
   "outputs": [
    {
     "output_type": "execute_result",
     "data": {
      "text/plain": [
       "+ (generic function with 333 methods)"
      ]
     },
     "metadata": {},
     "execution_count": 10
    }
   ],
   "metadata": {}
  },
  {
   "cell_type": "code",
   "execution_count": 14,
   "source": [
    "f(x, y) = 3.0 + x + y\n",
    "\n",
    "x = DualNumber(2.0, 1.0)  # x -> 2.0 + 1.0\\epsilon\n",
    "y = DualNumber(3.0, 0.0)  # i.e. y = 3.0, no derivative\n",
    "\n",
    "\n",
    "# seeded calculates both teh function and the d/dx gradient!\n",
    "f(x,y)"
   ],
   "outputs": [
    {
     "output_type": "execute_result",
     "data": {
      "text/plain": [
       "DualNumber{Float64}(8.0, 1.0)"
      ]
     },
     "metadata": {},
     "execution_count": 14
    }
   ],
   "metadata": {}
  },
  {
   "cell_type": "code",
   "execution_count": 1,
   "source": [
    "randn(5).^2"
   ],
   "outputs": [
    {
     "output_type": "execute_result",
     "data": {
      "text/plain": [
       "5-element Array{Float64,1}:\n",
       " 6.291072042973976\n",
       " 0.7732079313590482\n",
       " 1.2369405960998916\n",
       " 1.568540597575361\n",
       " 0.5112201505512024"
      ]
     },
     "metadata": {},
     "execution_count": 1
    }
   ],
   "metadata": {}
  }
 ],
 "metadata": {
  "kernelspec": {
   "display_name": "Julia 1.5.1",
   "language": "julia",
   "name": "julia-1.5"
  },
  "language_info": {
   "file_extension": ".jl",
   "mimetype": "application/julia",
   "name": "julia",
   "version": "1.5.1"
  }
 },
 "nbformat": 4,
 "nbformat_minor": 4
}