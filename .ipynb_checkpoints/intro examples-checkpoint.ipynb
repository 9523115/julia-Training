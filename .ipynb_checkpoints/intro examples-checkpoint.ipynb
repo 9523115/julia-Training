{
 "cells": [
  {
   "cell_type": "code",
   "execution_count": null,
   "metadata": {},
   "outputs": [],
   "source": [
    "] add InstantiateFromURL"
   ]
  },
  {
   "cell_type": "code",
   "execution_count": 2,
   "metadata": {},
   "outputs": [
    {
     "name": "stderr",
     "output_type": "stream",
     "text": [
      "┌ Info: Precompiling InstantiateFromURL [43edad99-fa64-5e4f-9937-1c09a410b73f]\n",
      "└ @ Base loading.jl:1278\n"
     ]
    },
    {
     "name": "stdout",
     "output_type": "stream",
     "text": [
      "\u001b[32m\u001b[1mActivated\u001b[0m D:\\Users\\Mori\\julia Training\\Project.toml\u001b[39m\n",
      "\u001b[36m\u001b[1mInfo\u001b[0m Project name is quantecon-notebooks-julia, version is 0.8.0\u001b[39m\n"
     ]
    },
    {
     "name": "stderr",
     "output_type": "stream",
     "text": [
      "\u001b[32m\u001b[1mPrecompiling\u001b[22m\u001b[39m project...\n",
      "┌ Info: Precompiling Preconditioners [af69fa37-3177-5a40-98ee-561f696e4fcd]\n",
      "└ @ Base loading.jl:1278\n",
      "┌ Info: Precompiling RegressionTables [d519eb52-b820-54da-95a6-98e1306fdade]\n",
      "└ @ Base loading.jl:1278\n",
      "ERROR: LoadError: LoadError: LoadError: UndefVarError: AddrSpacePtr not defined\n",
      "Stacktrace:\n",
      " [1] getproperty(::Module, ::Symbol) at .\\Base.jl:26\n",
      " [2] top-level scope at C:\\Users\\Morteza Mohandes\\.julia\\packages\\CUDAnative\\e0IdN\\src\\device\\cuda\\wmma.jl:52\n",
      " [3] include(::Function, ::Module, ::String) at .\\Base.jl:380\n",
      " [4] include at .\\Base.jl:368 [inlined]\n",
      " [5] include(::String) at C:\\Users\\Morteza Mohandes\\.julia\\packages\\CUDAnative\\e0IdN\\src\\CUDAnative.jl:1\n",
      " [6] top-level scope at C:\\Users\\Morteza Mohandes\\.julia\\packages\\CUDAnative\\e0IdN\\src\\device\\cuda.jl:15\n",
      " [7] include(::Function, ::Module, ::String) at .\\Base.jl:380\n",
      " [8] include at .\\Base.jl:368 [inlined]\n",
      " [9] include(::String) at C:\\Users\\Morteza Mohandes\\.julia\\packages\\CUDAnative\\e0IdN\\src\\CUDAnative.jl:1\n",
      " [10] top-level scope at C:\\Users\\Morteza Mohandes\\.julia\\packages\\CUDAnative\\e0IdN\\src\\CUDAnative.jl:75\n",
      " [11] include(::Function, ::Module, ::String) at .\\Base.jl:380\n",
      " [12] include(::Module, ::String) at .\\Base.jl:368\n",
      " [13] top-level scope at none:2\n",
      " [14] eval at .\\boot.jl:331 [inlined]\n",
      " [15] eval(::Expr) at .\\client.jl:467\n",
      " [16] top-level scope at .\\none:3\n",
      "in expression starting at C:\\Users\\Morteza Mohandes\\.julia\\packages\\CUDAnative\\e0IdN\\src\\device\\cuda\\wmma.jl:52\n",
      "in expression starting at C:\\Users\\Morteza Mohandes\\.julia\\packages\\CUDAnative\\e0IdN\\src\\device\\cuda.jl:14\n",
      "in expression starting at C:\\Users\\Morteza Mohandes\\.julia\\packages\\CUDAnative\\e0IdN\\src\\CUDAnative.jl:75\n",
      "ERROR: LoadError: Failed to precompile CUDAnative [be33ccc6-a3ff-5ff2-a52e-74243cff1e17] to C:\\Users\\Morteza Mohandes\\.julia\\compiled\\v1.5\\CUDAnative\\4Zu2W_FNgHV.ji.\n",
      "Stacktrace:\n",
      " [1] error(::String) at .\\error.jl:33\n",
      " [2] compilecache(::Base.PkgId, ::String) at .\\loading.jl:1305\n",
      " [3] _require(::Base.PkgId) at .\\loading.jl:1030\n",
      " [4] require(::Base.PkgId) at .\\loading.jl:928\n",
      " [5] require(::Module, ::Symbol) at .\\loading.jl:923\n",
      " [6] include(::Function, ::Module, ::String) at .\\Base.jl:380\n",
      " [7] include(::Module, ::String) at .\\Base.jl:368\n",
      " [8] top-level scope at none:2\n",
      " [9] eval at .\\boot.jl:331 [inlined]\n",
      " [10] eval(::Expr) at .\\client.jl:467\n",
      " [11] top-level scope at .\\none:3\n",
      "in expression starting at C:\\Users\\Morteza Mohandes\\.julia\\packages\\CuArrays\\l0gXB\\src\\CuArrays.jl:3\n",
      "[ Info: CUDA is installed, but CuArrays.jl fails to load\n",
      "┌ Info: Precompiling StochasticDiffEq [789caeaf-c7a9-5a7d-9973-96adeb23e2a0]\n",
      "└ @ Base loading.jl:1278\n",
      "┌ Info: Precompiling OrdinaryDiffEq [1dea7af3-3e70-54e6-95c3-0bf5283fa5ed]\n",
      "└ @ Base loading.jl:1278\n",
      "┌ Info: Precompiling ModelingToolkit [961ee093-0014-501f-94e3-6117800e7a78]\n",
      "└ @ Base loading.jl:1278\n",
      "┌ Info: Precompiling Expectations [2fe49d83-0758-5602-8f54-1f90ad0d522b]\n",
      "└ @ Base loading.jl:1278\n",
      "┌ Info: Precompiling VegaLite [112f6efa-9a02-5b7d-90c0-432ed331239a]\n",
      "└ @ Base loading.jl:1278\n",
      "┌ Info: Precompiling BenchmarkTools [6e4b80f9-dd63-53aa-95a3-0cdb28fa8baf]\n",
      "└ @ Base loading.jl:1278\n",
      "┌ Info: Precompiling StatsPlots [f3b207a7-027a-5e70-b257-86293d7955fd]\n",
      "└ @ Base loading.jl:1278\n",
      "┌ Info: Precompiling DataFramesMeta [1313f7d8-7da2-5740-9ea0-a2ca25f37964]\n",
      "└ @ Base loading.jl:1278\n",
      "┌ Info: Precompiling Flux [587475ba-b771-5e3f-ad9e-33799f191a9c]\n",
      "└ @ Base loading.jl:1278\n",
      "ERROR: LoadError: LoadError: LoadError: UndefVarError: AddrSpacePtr not defined\n",
      "Stacktrace:\n",
      " [1] getproperty(::Module, ::Symbol) at .\\Base.jl:26\n",
      " [2] top-level scope at C:\\Users\\Morteza Mohandes\\.julia\\packages\\CUDAnative\\e0IdN\\src\\device\\cuda\\wmma.jl:52\n",
      " [3] include(::Function, ::Module, ::String) at .\\Base.jl:380\n",
      " [4] include at .\\Base.jl:368 [inlined]\n",
      " [5] include(::String) at C:\\Users\\Morteza Mohandes\\.julia\\packages\\CUDAnative\\e0IdN\\src\\CUDAnative.jl:1\n",
      " [6] top-level scope at C:\\Users\\Morteza Mohandes\\.julia\\packages\\CUDAnative\\e0IdN\\src\\device\\cuda.jl:15\n",
      " [7] include(::Function, ::Module, ::String) at .\\Base.jl:380\n",
      " [8] include at .\\Base.jl:368 [inlined]\n",
      " [9] include(::String) at C:\\Users\\Morteza Mohandes\\.julia\\packages\\CUDAnative\\e0IdN\\src\\CUDAnative.jl:1\n",
      " [10] top-level scope at C:\\Users\\Morteza Mohandes\\.julia\\packages\\CUDAnative\\e0IdN\\src\\CUDAnative.jl:75\n",
      " [11] include(::Function, ::Module, ::String) at .\\Base.jl:380\n",
      " [12] include(::Module, ::String) at .\\Base.jl:368\n",
      " [13] top-level scope at none:2\n",
      " [14] eval at .\\boot.jl:331 [inlined]\n",
      " [15] eval(::Expr) at .\\client.jl:467\n",
      " [16] top-level scope at .\\none:3\n",
      "in expression starting at C:\\Users\\Morteza Mohandes\\.julia\\packages\\CUDAnative\\e0IdN\\src\\device\\cuda\\wmma.jl:52\n",
      "in expression starting at C:\\Users\\Morteza Mohandes\\.julia\\packages\\CUDAnative\\e0IdN\\src\\device\\cuda.jl:14\n",
      "in expression starting at C:\\Users\\Morteza Mohandes\\.julia\\packages\\CUDAnative\\e0IdN\\src\\CUDAnative.jl:75\n",
      "ERROR: LoadError: Failed to precompile CUDAnative [be33ccc6-a3ff-5ff2-a52e-74243cff1e17] to C:\\Users\\Morteza Mohandes\\.julia\\compiled\\v1.5\\CUDAnative\\4Zu2W_FNgHV.ji.\n",
      "Stacktrace:\n",
      " [1] error(::String) at .\\error.jl:33\n",
      " [2] compilecache(::Base.PkgId, ::String) at .\\loading.jl:1305\n",
      " [3] _require(::Base.PkgId) at .\\loading.jl:1030\n",
      " [4] require(::Base.PkgId) at .\\loading.jl:928\n",
      " [5] require(::Module, ::Symbol) at .\\loading.jl:923\n",
      " [6] include(::Function, ::Module, ::String) at .\\Base.jl:380\n",
      " [7] include(::Module, ::String) at .\\Base.jl:368\n",
      " [8] top-level scope at none:2\n",
      " [9] eval at .\\boot.jl:331 [inlined]\n",
      " [10] eval(::Expr) at .\\client.jl:467\n",
      " [11] top-level scope at .\\none:3\n",
      "in expression starting at C:\\Users\\Morteza Mohandes\\.julia\\packages\\CuArrays\\l0gXB\\src\\CuArrays.jl:3\n",
      "ERROR: LoadError: Failed to precompile CuArrays [3a865a2d-5b23-5a0f-bc46-62713ec82fae] to C:\\Users\\Morteza Mohandes\\.julia\\compiled\\v1.5\\CuArrays\\7YFE0_FNgHV.ji.\n",
      "Stacktrace:\n",
      " [1] error(::String) at .\\error.jl:33\n",
      " [2] compilecache(::Base.PkgId, ::String) at .\\loading.jl:1305\n",
      " [3] _require(::Base.PkgId) at .\\loading.jl:1030\n",
      " [4] require(::Base.PkgId) at .\\loading.jl:928\n",
      " [5] require(::Module, ::Symbol) at .\\loading.jl:923\n",
      " [6] include(::Function, ::Module, ::String) at .\\Base.jl:380\n",
      " [7] include(::Module, ::String) at .\\Base.jl:368\n",
      " [8] top-level scope at none:2\n",
      " [9] eval at .\\boot.jl:331 [inlined]\n",
      " [10] eval(::Expr) at .\\client.jl:467\n",
      " [11] top-level scope at .\\none:3\n",
      "in expression starting at C:\\Users\\Morteza Mohandes\\.julia\\packages\\Flux\\Fj3bt\\src\\Flux.jl:26\n",
      "┌ Info: Precompiling BlackBoxOptim [a134a8b2-14d6-55f6-9291-3336d3ab0209]\n",
      "└ @ Base loading.jl:1278\n",
      "┌ Info: Precompiling JuMP [4076af6c-e467-56ae-b986-b466b2749572]\n",
      "└ @ Base loading.jl:1278\n",
      "┌ Info: Precompiling Query [1a8c2f83-1ff3-5112-b086-8aa67b057ba1]\n",
      "└ @ Base loading.jl:1278\n",
      "┌ Info: Precompiling DiffEqOperators [9fdde737-9c7f-55bf-ade8-46b3f136cc48]\n",
      "└ @ Base loading.jl:1278\n",
      "┌ Info: Precompiling Ipopt [b6b21f68-93f8-5de0-b562-5493be1d77c9]\n",
      "└ @ Base loading.jl:1278\n",
      "┌ Info: Precompiling RDatasets [ce6b1742-4840-55fa-b093-852dadbb1d8b]\n",
      "└ @ Base loading.jl:1278\n"
     ]
    }
   ],
   "source": [
    "using InstantiateFromURL\n",
    "github_project(\"QuantEcon/quantecon-notebooks-julia\", version = \"0.8.0\", instantiate = true, precompile = true)"
   ]
  },
  {
   "cell_type": "code",
   "execution_count": null,
   "metadata": {},
   "outputs": [],
   "source": [
    "gr(fmt=:png)\n",
    "plot(sin,-2pi, 2pi, label=\"sin(x)\")\n"
   ]
  },
  {
   "cell_type": "code",
   "execution_count": 1,
   "metadata": {},
   "outputs": [
    {
     "ename": "LoadError",
     "evalue": "ArgumentError: Package statistics not found in current path:\n- Run `import Pkg; Pkg.add(\"statistics\")` to install the statistics package.\n",
     "output_type": "error",
     "traceback": [
      "ArgumentError: Package statistics not found in current path:\n- Run `import Pkg; Pkg.add(\"statistics\")` to install the statistics package.\n",
      "",
      "Stacktrace:",
      " [1] require(::Module, ::Symbol) at .\\loading.jl:893",
      " [2] include_string(::Function, ::Module, ::String, ::String) at .\\loading.jl:1091"
     ]
    }
   ],
   "source": [
    "using statistics, LinearAlgebra\n"
   ]
  },
  {
   "cell_type": "code",
   "execution_count": 4,
   "metadata": {},
   "outputs": [
    {
     "data": {
      "text/plain": [
       "factorial2 (generic function with 1 method)"
      ]
     },
     "execution_count": 4,
     "metadata": {},
     "output_type": "execute_result"
    }
   ],
   "source": [
    "# EX 1\n",
    "\n",
    "function factorial2(n)\n",
    "    fact = 1;\n",
    "    for i in 1:n\n",
    "        fact *= i;\n",
    "    return fact \n",
    "        end\n",
    "end"
   ]
  },
  {
   "cell_type": "code",
   "execution_count": 163,
   "metadata": {},
   "outputs": [
    {
     "name": "stdout",
     "output_type": "stream",
     "text": [
      "Bool[1, 1, 0, 0, 1, 0, 0, 1, 1, 1]\n"
     ]
    },
    {
     "data": {
      "text/plain": [
       "\"pay 1\\$\""
      ]
     },
     "execution_count": 163,
     "metadata": {},
     "output_type": "execute_result"
    }
   ],
   "source": [
    "# EX 4\n",
    "function head(x,p);\n",
    "    return x<p;\n",
    "end\n",
    "\n",
    "function flip(n,p);\n",
    "    heads = head.(rand(n),p)\n",
    "    tails = ones(n) - heads;\n",
    "    #tails = !heads\n",
    "    return heads\n",
    "end\n",
    "H = flip(10,.5)\n",
    "println(H)\n",
    "sum=0;\n",
    "for i in H\n",
    "    sum += i\n",
    "    if sum == 3\n",
    "        return \"pay 1\\$\"\n",
    "    end\n",
    "    if i == 0\n",
    "        sum = 0;\n",
    "    end\n",
    "end\n",
    "    "
   ]
  },
  {
   "cell_type": "code",
   "execution_count": 170,
   "metadata": {},
   "outputs": [
    {
     "data": {
      "text/plain": [
       "(value = 0.999999847386336, normdiff = 7.63068319642457e-8, iter = 38)"
      ]
     },
     "execution_count": 170,
     "metadata": {},
     "output_type": "execute_result"
    }
   ],
   "source": [
    "# EX 8a\n",
    "using LinearAlgebra\n",
    "function fixedpointmap_New(f, f_prime, x_0, tolerance=1.0E-7, maxiter=1000)\n",
    "    x_old = x_0;\n",
    "    normdiff = Inf\n",
    "    iter = 1\n",
    "     while normdiff > tolerance && iter <= maxiter\n",
    "        x_new = x_old - f(x_old)/f_prime(x_old) # use the passed in map\n",
    "        normdiff = norm(x_new - x_old)\n",
    "        x_old = x_new\n",
    "        iter = iter + 1\n",
    "    end\n",
    "    return (value = x_old, normdiff=normdiff, iter=iter) # A named tuple\n",
    "end\n",
    "f(x)= (x-1)^3;\n",
    "f_pr(x) = 3(x-1)^2;\n",
    "fixedpointmap_New(x -> (x-1)^3,x -> 3(x-1)^2,0.5)"
   ]
  }
 ],
 "metadata": {
  "kernelspec": {
   "display_name": "Julia 1.5.1",
   "language": "julia",
   "name": "julia-1.5"
  },
  "language_info": {
   "file_extension": ".jl",
   "mimetype": "application/julia",
   "name": "julia",
   "version": "1.5.1"
  }
 },
 "nbformat": 4,
 "nbformat_minor": 4
}
