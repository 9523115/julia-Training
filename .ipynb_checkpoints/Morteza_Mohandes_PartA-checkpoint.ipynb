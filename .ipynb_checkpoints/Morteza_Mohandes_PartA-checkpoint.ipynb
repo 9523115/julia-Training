{
 "cells": [
  {
   "cell_type": "code",
   "execution_count": null,
   "metadata": {},
   "outputs": [],
   "source": [
    "using LinearAlgebra, Statistics\n",
    "using Distributions, Plots, QuadGK, Polynomials, Interpolations\n",
    "using DataFrames,RDatasets, DataFramesMeta, CategoricalArrays, Query, VegaLite\n",
    "using ForwardDiff, Zygote, Optim, JuMP, Ipopt, BlackBoxOptim, Roots, NLsolve, LeastSquaresOptim\n",
    "using Optim: converged, maximum, maximizer, minimizer, iterations\n",
    "using GLM\n",
    "using RegressionTables\n"
   ]
  },
  {
   "cell_type": "code",
   "execution_count": null,
   "metadata": {},
   "outputs": [],
   "source": [
    "gr(fmt = :png)"
   ]
  },
  {
   "cell_type": "code",
   "execution_count": null,
   "metadata": {},
   "outputs": [],
   "source": [
    "#Part A\n",
    "#1\n",
    "function cal_Gini(income_arr)\n",
    "    ## first sort\n",
    "    sorted_arr = copy(income_arr)\n",
    "    sort!(sorted_arr)\n",
    "    n, = size(sorted_arr)\n",
    "    ## formula from https://en.wikipedia.org/wiki/Gini_coefficient#Calculation\n",
    "    coef_ = (2. / n)\n",
    "    const_ = (n + 1.) / n\n",
    "    weighted_sum = sum((i+1)*yi for (i, yi) in enumerate(sorted_arr))\n",
    "    Lorenz_curve = cumsum(sorted_arr)/sum(sorted_arr);\n",
    "    return coef_*weighted_sum/(sum(sorted_arr)) - const_ , 100Lorenz_curve\n",
    "end"
   ]
  },
  {
   "cell_type": "code",
   "execution_count": null,
   "metadata": {},
   "outputs": [],
   "source": [
    "#2\n",
    "function gen_income(d::Distribution{Univariate,Continuous}, N::Integer)\n",
    "    return rand(d,N)\n",
    "end"
   ]
  },
  {
   "cell_type": "code",
   "execution_count": null,
   "metadata": {},
   "outputs": [],
   "source": [
    "#3  -> the more Variance, The more inequality and Gini Coeff\n",
    "N = 10_000_000\n",
    "x= range(0,100,length=N)\n",
    "arr = gen_income(Normal(1000,100),N)\n",
    "Gi_co1, L_curve1 = cal_Gini(arr)\n",
    "plot(x , L_curve1 ,label=\"Normal Var = 100\",title=(\"comparing Normal and Diff Vars\"))\n",
    "\n",
    "arr = gen_income(Normal(1000,300),N)\n",
    "Gi_co2, L_curve2 = cal_Gini(arr);\n",
    "plot!(x , L_curve2, label=\"Normal Var = 300\")\n",
    "\n",
    "arr = gen_income(Normal(1000,500),N)\n",
    "Gi_co3, L_curve3 = cal_Gini(arr);\n",
    "plot!(x , L_curve3,label=\"Normal Var = 500\")\n",
    "\n",
    "arr = gen_income(Normal(1000,800),N)\n",
    "Gi_co4, L_curve4 = cal_Gini(arr);\n",
    "plot!(x , L_curve4,label=\"Normal Var = 800\")\n",
    "\n",
    "#4 Uniform < Normal with same vriance\n",
    "arr = gen_income(Uniform(500,1500),N)\n",
    "Gi_co4, L_curve4 = cal_Gini(arr);\n",
    "plot!(x , L_curve4,label=\"Uniform 500-1500\")\n",
    "\n",
    "#5 Expo > Normal \n",
    "arr = gen_income(Exponential(1000),N)\n",
    "Gi_co4, L_curve4 = cal_Gini(arr);\n",
    "plot!(x , L_curve4,label=\"Exponential(1000)\")"
   ]
  },
  {
   "cell_type": "code",
   "execution_count": null,
   "metadata": {},
   "outputs": [],
   "source": [
    "#part B with Taxation\n",
    "#1\n",
    "function RelDist(arr,per) \n",
    "    ar = copy(arr) \n",
    "    N, = size(ar) \n",
    "    Ret = sum(per*i for i in ar)/N \n",
    "    ar *= 1-per \n",
    "    ar = ar.+ Ret \n",
    "    return ar \n",
    "end \n",
    "N = 1000 \n",
    "x= range(0,100,length=N) \n",
    "arr = gen_income(Normal(1000,500),1000) \n",
    "co1,L1 = cal_Gini(arr)\n",
    "plot(x , L1,label=\"Not Taxed\",title = \"Var = 50%\")\n",
    "\n",
    "ar = ReDist(arr,.1) \n",
    "co2,L2 = cal_Gini(ar) \n",
    "plot!(x , L2,label=\"ReDist 10% \")\n",
    "# mean(ar) ≈ mean(arr)\n"
   ]
  },
  {
   "cell_type": "code",
   "execution_count": null,
   "metadata": {},
   "outputs": [],
   "source": [
    "ar = RelDist(arr,.05)5"
   ]
  }
 ],
 "metadata": {
  "kernelspec": {
   "display_name": "Julia 1.5.1",
   "language": "julia",
   "name": "julia-1.5"
  },
  "language_info": {
   "file_extension": ".jl",
   "mimetype": "application/julia",
   "name": "julia",
   "version": "1.5.1"
  }
 },
 "nbformat": 4,
 "nbformat_minor": 4
}
